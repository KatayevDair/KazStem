{
 "cells": [
  {
   "cell_type": "markdown",
   "id": "3c9eaa21",
   "metadata": {},
   "source": [
    "# План\n",
    "В первую очередь надо написать стеммер. Затем импортировать данные. Они находятся в разных файлах, значит их нужно обьеденить в один датасет и разметить. После чего подготовить его к пропуску через модели машинного обучения с помощью стеммера и векторизации. Найти модель с лучшим показателем целевой метрики. Потом с помощью модели, анологичной лучшей, замерить показатель метрики без использования стемматизации и в конце мы проанализируем результат и сделаем выводы."
   ]
  },
  {
   "cell_type": "code",
   "execution_count": 188,
   "id": "c91f652f",
   "metadata": {
    "ExecuteTime": {
     "end_time": "2022-06-12T16:42:21.545544Z",
     "start_time": "2022-06-12T16:42:21.536413Z"
    }
   },
   "outputs": [],
   "source": [
    "import pandas as pd\n",
    "\n",
    "import re\n",
    "\n",
    "from sklearn.model_selection import train_test_split\n",
    "from sklearn.model_selection import GridSearchCV\n",
    "from sklearn.model_selection import cross_val_score\n",
    "from sklearn.linear_model import LinearRegression\n",
    "from sklearn.ensemble import RandomForestClassifier\n",
    "from sklearn.tree import DecisionTreeClassifier\n",
    "from sklearn.feature_extraction.text import TfidfVectorizer\n",
    "from sklearn.metrics import f1_score\n",
    "from sklearn.metrics import confusion_matrix\n",
    "\n",
    "import numpy as np\n",
    "\n",
    "from catboost import CatBoostClassifier\n",
    "\n",
    "import seaborn as sns\n",
    "\n",
    "import matplotlib.pyplot as plt\n",
    "from matplotlib import rcParams"
   ]
  },
  {
   "cell_type": "code",
   "execution_count": 97,
   "id": "74ade366",
   "metadata": {
    "ExecuteTime": {
     "end_time": "2022-06-12T11:31:24.295095Z",
     "start_time": "2022-06-12T11:31:24.265759Z"
    }
   },
   "outputs": [],
   "source": [
    "class KazStem():\n",
    "    def __init__(self, use_stopwords = True, to_lower_case = True):\n",
    "        self.use_stopwords = use_stopwords\n",
    "        self.to_lower_case = to_lower_case\n",
    "        if use_stopwords != True | use_stopwords != False | to_lower_case != True | to_lower_case != False :\n",
    "            raise SyntaxError('Баптандыру кезінде тек True және False мәндерін пайдалануға болады.')\n",
    "    def stem(self, word):\n",
    "        final_word = word\n",
    "        \n",
    "        unwanted = ['хана','гіш','ғыш','қыш','кіш','гер','кер','шы','ші','гер','кер','шы','ші','лік',\n",
    "                    'лық','дік','дық','тік','тық','сөз','хатдан','ден','тан','тен','тан','тен','да',\n",
    "                    'де','та','те','нда','нде','ға','ге','қа','ке','на','не','дың','дің','тың','тің',\n",
    "                    'ның','нің','ды','ді','ты','ті','ны','ні','дікі','тікі','нікі','дар','дер','тар',\n",
    "                    'тер','лар','лер','бен','пен','мен','Бей','бей']\n",
    "        \n",
    "        stopwords = ['рас','расында','шынында','әрине','дәл','әлбетте','иә','жоқ','шамасы','мүмкін',\n",
    "                     'шығар','бәлкім','бәлки','ықтимал','сияқты','тәрізді','білем','кәдік','керек',\n",
    "                     'қажет','тиіс','екен','көрінеді', 'және','әрі','бірақ','дегенмен','әйтсе','сонда',\n",
    "                     'сөйтсе','алайда','сондықтан','себебі','өйткені','сол','үшін','сол','себепті',\n",
    "                     'сол','себептен','біресе','бірде','кейде','ғой','қой','ғана','қана','тек','қана',\n",
    "                     'түгіл','бәсе','мәссаған','пәле','сәлем','рақмет']\n",
    "        \n",
    "        if type(word) == str:\n",
    "            for i in unwanted:\n",
    "                final_word = final_word.replace(i, '')\n",
    "            \n",
    "            if self.use_stopwords == True:\n",
    "                for i in stopwords:\n",
    "                    final_word = final_word.replace(i, '')\n",
    "                \n",
    "            if self.to_lower_case== True:\n",
    "                final_word = final_word.lower()\n",
    "            \n",
    "            return final_word\n",
    "        \n",
    "        \n",
    "        elif type(data.text) == pd.Series:\n",
    "            for i in unwanted:\n",
    "                final_word = final_word.apply(lambda x: x.replace(i, ''))\n",
    "            if self.use_stopwords == True:\n",
    "                for i in stopwords:\n",
    "                    final_word = final_word.apply(lambda x: x.replace(i, ''))\n",
    "                \n",
    "            if self.to_lower_case== True:\n",
    "                final_word = final_word.str.lower()\n",
    "            return final_word\n",
    "        else:\n",
    "            raise ValueError('Қате деректер түрі. KazStem() енгізу ретінде тек str және pd.Series қабылдайды')"
   ]
  },
  {
   "cell_type": "code",
   "execution_count": 89,
   "id": "e7ffd95c",
   "metadata": {
    "ExecuteTime": {
     "end_time": "2022-06-12T11:25:05.420749Z",
     "start_time": "2022-06-12T11:25:05.403041Z"
    }
   },
   "outputs": [
    {
     "data": {
      "text/plain": [
       "True"
      ]
     },
     "execution_count": 89,
     "metadata": {},
     "output_type": "execute_result"
    }
   ],
   "source": [
    "type(data.text) == pd.Series\n"
    
   ]
  },
  {
   "cell_type": "code",
   "execution_count": 81,
   "id": "79e97f67",
   "metadata": {
    "ExecuteTime": {
     "end_time": "2022-06-12T11:20:10.694572Z",
     "start_time": "2022-06-12T11:20:10.680401Z"
    }
   },
   "outputs": [],
   "source": [
    "def own_activator(value, threshold = 0.5): # это нужно будет нам, когда мы будем подбирать порог активации\n",
    "    if value > threshold:                  # для модели, основанной на алгоритме линейной регрессии\n",
    "        return 1\n",
    "    else:\n",
    "        return 0"
   ]
  },
  {
   "cell_type": "markdown",
   "id": "6103ec31",
   "metadata": {},
   "source": [
    "# Подготовка данных"
   ]
  },
  {
   "cell_type": "markdown",
   "id": "397c8303",
   "metadata": {},
   "source": [
    "## Стихи"
   ]
  },
  {
   "cell_type": "code",
   "execution_count": 3,
   "id": "d90aa99c",
   "metadata": {
    "ExecuteTime": {
     "end_time": "2022-06-12T09:44:24.554890Z",
     "start_time": "2022-06-12T09:44:24.436775Z"
    }
   },
   "outputs": [
    {
     "data": {
      "text/html": [
       "<div>\n",
       "<style scoped>\n",
       "    .dataframe tbody tr th:only-of-type {\n",
       "        vertical-align: middle;\n",
       "    }\n",
       "\n",
       "    .dataframe tbody tr th {\n",
       "        vertical-align: top;\n",
       "    }\n",
       "\n",
       "    .dataframe thead th {\n",
       "        text-align: right;\n",
       "    }\n",
       "</style>\n",
       "<table border=\"1\" class=\"dataframe\">\n",
       "  <thead>\n",
       "    <tr style=\"text-align: right;\">\n",
       "      <th></th>\n",
       "      <th>Unnamed: 0</th>\n",
       "      <th>0</th>\n",
       "    </tr>\n",
       "  </thead>\n",
       "  <tbody>\n",
       "    <tr>\n",
       "      <th>0</th>\n",
       "      <td>0</td>\n",
       "      <td>Желсіз түнде жарық ай</td>\n",
       "    </tr>\n",
       "    <tr>\n",
       "      <th>1</th>\n",
       "      <td>1</td>\n",
       "      <td>Сәулесі суда дірілдеп</td>\n",
       "    </tr>\n",
       "    <tr>\n",
       "      <th>2</th>\n",
       "      <td>2</td>\n",
       "      <td>Ауылдың жаны терең сай</td>\n",
       "    </tr>\n",
       "    <tr>\n",
       "      <th>3</th>\n",
       "      <td>3</td>\n",
       "      <td>Тасыған өзен күрілдеп</td>\n",
       "    </tr>\n",
       "    <tr>\n",
       "      <th>4</th>\n",
       "      <td>4</td>\n",
       "      <td>Қалың ағаш жапырағы</td>\n",
       "    </tr>\n",
       "  </tbody>\n",
       "</table>\n",
       "</div>"
      ],
      "text/plain": [
       "   Unnamed: 0                       0\n",
       "0           0   Желсіз түнде жарық ай\n",
       "1           1   Сәулесі суда дірілдеп\n",
       "2           2  Ауылдың жаны терең сай\n",
       "3           3   Тасыған өзен күрілдеп\n",
       "4           4     Қалың ағаш жапырағы"
      ]
     },
     "execution_count": 3,
     "metadata": {},
     "output_type": "execute_result"
    }
   ],
   "source": [
    "df_poems_1 = pd.DataFrame(pd.read_csv('poems_4.csv'))\n",
    "df_poems_2 = pd.DataFrame(pd.read_csv('poems_2.csv'))\n",
    "df_poems_3 = pd.DataFrame(pd.read_csv('poems_3.csv'))\n",
    "df_poems_4 = pd.DataFrame(pd.read_csv('poems_4.csv'))\n",
    "df_poems_1.head()"
   ]
  },
  {
   "cell_type": "code",
   "execution_count": 104,
   "id": "b93d7aa7",
   "metadata": {
    "ExecuteTime": {
     "end_time": "2022-06-07T20:23:56.352241Z",
     "start_time": "2022-06-07T20:23:56.298453Z"
    }
   },
   "outputs": [
    {
     "data": {
      "text/plain": [
       "Index(['Unnamed: 0', '0'], dtype='object')"
      ]
     },
     "execution_count": 104,
     "metadata": {},
     "output_type": "execute_result"
    }
   ],
   "source": [
    "df_poems_1.columns"
   ]
  },
  {
   "cell_type": "code",
   "execution_count": 72,
   "id": "3abd90e6",
   "metadata": {
    "ExecuteTime": {
     "end_time": "2022-06-12T10:42:02.811100Z",
     "start_time": "2022-06-12T10:42:02.749854Z"
    },
    "scrolled": true
   },
   "outputs": [
    {
     "name": "stdout",
     "output_type": "stream",
     "text": [
      "В датафрейме 49 пропусков и 1808\n",
      "В датафрейме 0 пропусков и 0 после очистки\n"
     ]
    },
    {
     "data": {
      "text/html": [
       "<div>\n",
       "<style scoped>\n",
       "    .dataframe tbody tr th:only-of-type {\n",
       "        vertical-align: middle;\n",
       "    }\n",
       "\n",
       "    .dataframe tbody tr th {\n",
       "        vertical-align: top;\n",
       "    }\n",
       "\n",
       "    .dataframe thead th {\n",
       "        text-align: right;\n",
       "    }\n",
       "</style>\n",
       "<table border=\"1\" class=\"dataframe\">\n",
       "  <thead>\n",
       "    <tr style=\"text-align: right;\">\n",
       "      <th></th>\n",
       "      <th>text</th>\n",
       "      <th>target</th>\n",
       "    </tr>\n",
       "  </thead>\n",
       "  <tbody>\n",
       "    <tr>\n",
       "      <th>0</th>\n",
       "      <td>Желсіз түнде жарық ай Жазғы таң</td>\n",
       "      <td>1</td>\n",
       "    </tr>\n",
       "    <tr>\n",
       "      <th>1</th>\n",
       "      <td>Сәулесі суда дірілдеп Жып-жылы түн маужырап</td>\n",
       "      <td>1</td>\n",
       "    </tr>\n",
       "    <tr>\n",
       "      <th>2</th>\n",
       "      <td>Ауылдың жаны терең сай Көтерілген жерден бу</td>\n",
       "      <td>1</td>\n",
       "    </tr>\n",
       "    <tr>\n",
       "      <th>3</th>\n",
       "      <td>Тасыған өзен күрілдеп Саф күмістей жалтырап</td>\n",
       "      <td>1</td>\n",
       "    </tr>\n",
       "    <tr>\n",
       "      <th>4</th>\n",
       "      <td>Қалың ағаш жапырағы Тыныш жатқан тұнық су</td>\n",
       "      <td>1</td>\n",
       "    </tr>\n",
       "  </tbody>\n",
       "</table>\n",
       "</div>"
      ],
      "text/plain": [
       "                                          text  target\n",
       "0              Желсіз түнде жарық ай Жазғы таң       1\n",
       "1  Сәулесі суда дірілдеп Жып-жылы түн маужырап       1\n",
       "2  Ауылдың жаны терең сай Көтерілген жерден бу       1\n",
       "3  Тасыған өзен күрілдеп Саф күмістей жалтырап       1\n",
       "4    Қалың ағаш жапырағы Тыныш жатқан тұнық су       1"
      ]
     },
     "metadata": {},
     "output_type": "display_data"
    },
    {
     "data": {
      "text/plain": [
       "(1934, 2)"
      ]
     },
     "execution_count": 72,
     "metadata": {},
     "output_type": "execute_result"
    }
   ],
   "source": [
    "df_poems = pd.concat([df_poems_1, df_poems_2, df_poems_3, df_poems_4], ignore_index=True)\n",
    "df_poems = df_poems.drop('Unnamed: 0', axis = 1) # удаляем столбец с индексами, который возник при импорте\n",
    "print(f'В датафрейме {df_poems[\"0\"].isna().sum()} пропусков и {df_poems[\"0\"].duplicated().sum()}')\n",
    "df_poems = df_poems.dropna()\n",
    "df_poems = df_poems.drop_duplicates()\n",
    "df_poems = df_poems.reset_index(drop = True)\n",
    "temp = df_poems.loc[:len(df_poems)/2, '0'].values + ' ' + df_poems.loc[len(df_poems)/2-1:, '0'].values\n",
    "df_poems = pd.DataFrame({'text' : temp,\n",
    "                         'target' : [1 for i in temp]})\n",
    "print(f'В датафрейме {df_poems.text.isna().sum()} пропусков и {df_poems.text.duplicated().sum()} после очистки')\n",
    "display(df_poems.head())\n",
    "df_poems.shape"
   ]
  },
  {
   "cell_type": "markdown",
   "id": "73adb055",
   "metadata": {},
   "source": [
    "## Новости"
   ]
  },
  {
   "cell_type": "code",
   "execution_count": 73,
   "id": "52921ff5",
   "metadata": {
    "ExecuteTime": {
     "end_time": "2022-06-12T10:42:36.573346Z",
     "start_time": "2022-06-12T10:42:36.468983Z"
    }
   },
   "outputs": [
    {
     "data": {
      "text/html": [
       "<div>\n",
       "<style scoped>\n",
       "    .dataframe tbody tr th:only-of-type {\n",
       "        vertical-align: middle;\n",
       "    }\n",
       "\n",
       "    .dataframe tbody tr th {\n",
       "        vertical-align: top;\n",
       "    }\n",
       "\n",
       "    .dataframe thead th {\n",
       "        text-align: right;\n",
       "    }\n",
       "</style>\n",
       "<table border=\"1\" class=\"dataframe\">\n",
       "  <thead>\n",
       "    <tr style=\"text-align: right;\">\n",
       "      <th></th>\n",
       "      <th>Unnamed: 0</th>\n",
       "      <th>0</th>\n",
       "    </tr>\n",
       "  </thead>\n",
       "  <tbody>\n",
       "    <tr>\n",
       "      <th>0</th>\n",
       "      <td>0</td>\n",
       "      <td>Қостанайда екі қабатты коттеджден өрт шығып, е...</td>\n",
       "    </tr>\n",
       "    <tr>\n",
       "      <th>1</th>\n",
       "      <td>1</td>\n",
       "      <td>Алматыдағы Самал шағынауданындағы Life town са...</td>\n",
       "    </tr>\n",
       "    <tr>\n",
       "      <th>2</th>\n",
       "      <td>2</td>\n",
       "      <td>Бангладештің оңтүстік-шығысында жүк тасымалдау...</td>\n",
       "    </tr>\n",
       "    <tr>\n",
       "      <th>3</th>\n",
       "      <td>3</td>\n",
       "      <td>Афинада орман өрті өршіп тұр, - деп хабарлайды...</td>\n",
       "    </tr>\n",
       "    <tr>\n",
       "      <th>4</th>\n",
       "      <td>4</td>\n",
       "      <td>Риддерде 31 үйдің өртеніп кетуіне кінәлі ер ад...</td>\n",
       "    </tr>\n",
       "  </tbody>\n",
       "</table>\n",
       "</div>"
      ],
      "text/plain": [
       "   Unnamed: 0                                                  0\n",
       "0           0  Қостанайда екі қабатты коттеджден өрт шығып, е...\n",
       "1           1  Алматыдағы Самал шағынауданындағы Life town са...\n",
       "2           2  Бангладештің оңтүстік-шығысында жүк тасымалдау...\n",
       "3           3  Афинада орман өрті өршіп тұр, - деп хабарлайды...\n",
       "4           4  Риддерде 31 үйдің өртеніп кетуіне кінәлі ер ад..."
      ]
     },
     "execution_count": 73,
     "metadata": {},
     "output_type": "execute_result"
    }
   ],
   "source": [
    "df_news_1 = pd.DataFrame(pd.read_csv('tengri_fire.csv'))\n",
    "df_news_2 = pd.DataFrame(pd.read_csv('tengri_police.csv'))\n",
    "df_news_3 = pd.DataFrame(pd.read_csv('tengri_sport.csv'))\n",
    "df_news_4 = pd.DataFrame(pd.read_csv('tengri_almaty.csv'))\n",
    "df_news_1.head()"
   ]
  },
  {
   "cell_type": "code",
   "execution_count": 75,
   "id": "e64f192b",
   "metadata": {
    "ExecuteTime": {
     "end_time": "2022-06-12T10:42:53.454201Z",
     "start_time": "2022-06-12T10:42:53.375672Z"
    }
   },
   "outputs": [
    {
     "data": {
      "text/html": [
       "<div>\n",
       "<style scoped>\n",
       "    .dataframe tbody tr th:only-of-type {\n",
       "        vertical-align: middle;\n",
       "    }\n",
       "\n",
       "    .dataframe tbody tr th {\n",
       "        vertical-align: top;\n",
       "    }\n",
       "\n",
       "    .dataframe thead th {\n",
       "        text-align: right;\n",
       "    }\n",
       "</style>\n",
       "<table border=\"1\" class=\"dataframe\">\n",
       "  <thead>\n",
       "    <tr style=\"text-align: right;\">\n",
       "      <th></th>\n",
       "      <th>text</th>\n",
       "      <th>target</th>\n",
       "    </tr>\n",
       "  </thead>\n",
       "  <tbody>\n",
       "    <tr>\n",
       "      <th>0</th>\n",
       "      <td>Қостанайда екі қабатты коттеджден өрт шығып, е...</td>\n",
       "      <td>0</td>\n",
       "    </tr>\n",
       "    <tr>\n",
       "      <th>1</th>\n",
       "      <td>Алматыдағы Самал шағынауданындағы   сауда орта...</td>\n",
       "      <td>0</td>\n",
       "    </tr>\n",
       "    <tr>\n",
       "      <th>2</th>\n",
       "      <td>Бангладештің оңтүстік-шығысында жүк тасымалдау...</td>\n",
       "      <td>0</td>\n",
       "    </tr>\n",
       "    <tr>\n",
       "      <th>3</th>\n",
       "      <td>Афинада орман өрті өршіп тұр, - деп хабарлайды .</td>\n",
       "      <td>0</td>\n",
       "    </tr>\n",
       "    <tr>\n",
       "      <th>4</th>\n",
       "      <td>Риддерде  үйдің өртеніп кетуіне кінәлі ер адам...</td>\n",
       "      <td>0</td>\n",
       "    </tr>\n",
       "  </tbody>\n",
       "</table>\n",
       "</div>"
      ],
      "text/plain": [
       "                                                text  target\n",
       "0  Қостанайда екі қабатты коттеджден өрт шығып, е...       0\n",
       "1  Алматыдағы Самал шағынауданындағы   сауда орта...       0\n",
       "2  Бангладештің оңтүстік-шығысында жүк тасымалдау...       0\n",
       "3   Афинада орман өрті өршіп тұр, - деп хабарлайды .       0\n",
       "4  Риддерде  үйдің өртеніп кетуіне кінәлі ер адам...       0"
      ]
     },
     "metadata": {},
     "output_type": "display_data"
    },
    {
     "data": {
      "text/plain": [
       "(4954, 2)"
      ]
     },
     "execution_count": 75,
     "metadata": {},
     "output_type": "execute_result"
    }
   ],
   "source": [
    "df_news = pd.concat([df_news_1, df_news_2, df_news_3, df_news_4], ignore_index=True)\n",
    "df_news = df_news.drop('Unnamed: 0', axis = 1)\n",
    "df_news['target'] = 0\n",
    "df_news.rename(columns = {'0':'text'}, inplace = True)\n",
    "df_news.text = df_news.text.apply(lambda x: re.sub(r'[0-9A-Za-z]+', '', str(x))) # избавляемся от цифр и \n",
    "display(df_news.head())                                                          # английских букв\n",
    "df_news.shape"
   ]
  },
  {
   "cell_type": "markdown",
   "id": "9e85ecb8",
   "metadata": {},
   "source": [
    "В качестве целевой метрики будет правильно выбрать <strong>f1-меру</strong>, потому-что у нас есть явный дисбаланс классов(1:2.5) и именно f1-мера поможет нам отследить то, как наши модели справляются с предсказанием меньшего класса и еще оба класса одинаково важны."
   ]
  },
  {
   "cell_type": "markdown",
   "id": "ea237d75",
   "metadata": {},
   "source": [
    "## Создание конечных выборок"
   ]
  },
  {
   "cell_type": "code",
   "execution_count": 101,
   "id": "013140d0",
   "metadata": {
    "ExecuteTime": {
     "end_time": "2022-06-12T11:50:52.082269Z",
     "start_time": "2022-06-12T11:50:51.402525Z"
    }
   },
   "outputs": [
    {
     "data": {
      "text/html": [
       "<div>\n",
       "<style scoped>\n",
       "    .dataframe tbody tr th:only-of-type {\n",
       "        vertical-align: middle;\n",
       "    }\n",
       "\n",
       "    .dataframe tbody tr th {\n",
       "        vertical-align: top;\n",
       "    }\n",
       "\n",
       "    .dataframe thead th {\n",
       "        text-align: right;\n",
       "    }\n",
       "</style>\n",
       "<table border=\"1\" class=\"dataframe\">\n",
       "  <thead>\n",
       "    <tr style=\"text-align: right;\">\n",
       "      <th></th>\n",
       "      <th>text</th>\n",
       "      <th>target</th>\n",
       "    </tr>\n",
       "  </thead>\n",
       "  <tbody>\n",
       "    <tr>\n",
       "      <th>0</th>\n",
       "      <td>Есетін солтүстіктен салқын самал Зар үн қоймас...</td>\n",
       "      <td>1</td>\n",
       "    </tr>\n",
       "    <tr>\n",
       "      <th>1</th>\n",
       "      <td>Алматы әкімдігі қалада жылыту маусымы қашан ая...</td>\n",
       "      <td>0</td>\n",
       "    </tr>\n",
       "    <tr>\n",
       "      <th>2</th>\n",
       "      <td>Кешегі арыстанды айбыны зор Мен даярмын рақмет...</td>\n",
       "      <td>1</td>\n",
       "    </tr>\n",
       "    <tr>\n",
       "      <th>3</th>\n",
       "      <td>Екібастұз тұрғыны әлеуметтік желіде жергілікті...</td>\n",
       "      <td>0</td>\n",
       "    </tr>\n",
       "    <tr>\n",
       "      <th>4</th>\n",
       "      <td>Қазақстандық әлеуметтік желілерде патруль поли...</td>\n",
       "      <td>0</td>\n",
       "    </tr>\n",
       "  </tbody>\n",
       "</table>\n",
       "</div>"
      ],
      "text/plain": [
       "                                                text  target\n",
       "0  Есетін солтүстіктен салқын самал Зар үн қоймас...       1\n",
       "1  Алматы әкімдігі қалада жылыту маусымы қашан ая...       0\n",
       "2  Кешегі арыстанды айбыны зор Мен даярмын рақмет...       1\n",
       "3  Екібастұз тұрғыны әлеуметтік желіде жергілікті...       0\n",
       "4  Қазақстандық әлеуметтік желілерде патруль поли...       0"
      ]
     },
     "metadata": {},
     "output_type": "display_data"
    },
    {
     "data": {
      "text/html": [
       "<div>\n",
       "<style scoped>\n",
       "    .dataframe tbody tr th:only-of-type {\n",
       "        vertical-align: middle;\n",
       "    }\n",
       "\n",
       "    .dataframe tbody tr th {\n",
       "        vertical-align: top;\n",
       "    }\n",
       "\n",
       "    .dataframe thead th {\n",
       "        text-align: right;\n",
       "    }\n",
       "</style>\n",
       "<table border=\"1\" class=\"dataframe\">\n",
       "  <thead>\n",
       "    <tr style=\"text-align: right;\">\n",
       "      <th></th>\n",
       "      <th>text</th>\n",
       "      <th>target</th>\n",
       "    </tr>\n",
       "  </thead>\n",
       "  <tbody>\n",
       "    <tr>\n",
       "      <th>0</th>\n",
       "      <td>Есен түс салқын самал Зар үн мас жан бойлап жү...</td>\n",
       "      <td>1</td>\n",
       "    </tr>\n",
       "    <tr>\n",
       "      <th>1</th>\n",
       "      <td>Алма әкімгі ла жылыту маусымы шан аяқла жауап ...</td>\n",
       "      <td>0</td>\n",
       "    </tr>\n",
       "    <tr>\n",
       "      <th>2</th>\n",
       "      <td>Кешегі арыс айбы зор Мен ярмын  сіз рынс</td>\n",
       "      <td>1</td>\n",
       "    </tr>\n",
       "    <tr>\n",
       "      <th>3</th>\n",
       "      <td>Екібастұз тұрғы әлеумет желі жергі полицей жас...</td>\n",
       "      <td>0</td>\n",
       "    </tr>\n",
       "    <tr>\n",
       "      <th>4</th>\n",
       "      <td>Қазақс әлеумет желі патруль полицейі  азаматр ...</td>\n",
       "      <td>0</td>\n",
       "    </tr>\n",
       "  </tbody>\n",
       "</table>\n",
       "</div>"
      ],
      "text/plain": [
       "                                                text  target\n",
       "0  Есен түс салқын самал Зар үн мас жан бойлап жү...       1\n",
       "1  Алма әкімгі ла жылыту маусымы шан аяқла жауап ...       0\n",
       "2           Кешегі арыс айбы зор Мен ярмын  сіз рынс       1\n",
       "3  Екібастұз тұрғы әлеумет желі жергі полицей жас...       0\n",
       "4  Қазақс әлеумет желі патруль полицейі  азаматр ...       0"
      ]
     },
     "metadata": {},
     "output_type": "display_data"
    }
   ],
   "source": [
    "data = pd.concat([df_poems, df_news])\n",
    "data = data.sample(frac=1, random_state=12345) # перемешиваем данные для корректного обучения\n",
    "data = data.reset_index(drop = True)\n",
    "display(data.head())\n",
    "\n",
    "stemmer = KazStem(to_lower_case = False) \n",
    "data.text = stemmer.stem(data.text) # стемматизируем корпус\n",
    "display(data.head())"
   ]
  },
  {
   "cell_type": "code",
   "execution_count": 102,
   "id": "f5d2fbfc",
   "metadata": {
    "ExecuteTime": {
     "end_time": "2022-06-12T11:50:57.214672Z",
     "start_time": "2022-06-12T11:50:56.959352Z"
    }
   },
   "outputs": [
    {
     "name": "stdout",
     "output_type": "stream",
     "text": [
      "Размер матрицы: (6888, 11617)\n"
     ]
    }
   ],
   "source": [
    "count_tf_idf = TfidfVectorizer()\n",
    "tf_idf = count_tf_idf.fit_transform(data.text)\n",
    "print(\"Размер матрицы:\", tf_idf.shape)"
   ]
  },
  {
   "cell_type": "code",
   "execution_count": 103,
   "id": "cb15b91b",
   "metadata": {
    "ExecuteTime": {
     "end_time": "2022-06-12T11:51:20.804198Z",
     "start_time": "2022-06-12T11:51:20.766809Z"
    }
   },
   "outputs": [
    {
     "name": "stdout",
     "output_type": "stream",
     "text": [
      "4132\n",
      "1378\n",
      "1378\n"
     ]
    }
   ],
   "source": [
    "features_train, features_temp, target_train, target_temp = train_test_split(tf_idf, data.target, \n",
    "                                                    test_size=0.4, random_state=12345)\n",
    "features_valid, features_test, target_valid, target_test = train_test_split(features_temp, target_temp, \n",
    "                                                    test_size=0.5, random_state=12345)\n",
    "print(features_train.shape[0])\n",
    "print(features_valid.shape[0])\n",
    "print(features_test.shape[0])"
   ]
  },
  {
   "cell_type": "markdown",
   "id": "d3e43c80",
   "metadata": {},
   "source": [
    "# Сравнение моделей"
   ]
  },
  {
   "cell_type": "markdown",
   "id": "a6d40aea",
   "metadata": {},
   "source": [
    "## LinearRegression"
   ]
  },
  {
   "cell_type": "code",
   "execution_count": 104,
   "id": "b818e654",
   "metadata": {
    "ExecuteTime": {
     "end_time": "2022-06-12T11:51:54.266865Z",
     "start_time": "2022-06-12T11:51:53.506189Z"
    }
   },
   "outputs": [],
   "source": [
    "model_lin = LinearRegression()\n",
    "model_lin.fit(features_train, target_train)\n",
    "pred_lin = model_lin.predict(features_valid)"
   ]
  },
  {
   "cell_type": "code",
   "execution_count": 112,
   "id": "2ebdfcf1",
   "metadata": {
    "ExecuteTime": {
     "end_time": "2022-06-12T11:57:06.666049Z",
     "start_time": "2022-06-12T11:57:06.519492Z"
    }
   },
   "outputs": [
    {
     "name": "stdout",
     "output_type": "stream",
     "text": [
      "лучшее значение f1-меры в 0.8563758389261744 достигается при пороге активации в 0.30000000000000004\n"
     ]
    }
   ],
   "source": [
    "best_f1_lin = 0\n",
    "for i in np.arange(0,1,0.05): # подбираем порог активации\n",
    "    if f1_score(target_valid, pd.Series(pred_lin).apply(lambda x: own_activator(x, i))) > best_f1_lin:\n",
    "        best_f1_lin = f1_score(target_valid, pd.Series(pred_lin).apply(lambda x: own_activator(x, i)))\n",
    "        best_i = i\n",
    "print(f'лучшее значение f1-меры в {best_f1_lin} достигается при пороге активации в {best_i}')"
   ]
  },
  {
   "cell_type": "markdown",
   "id": "8a0014e6",
   "metadata": {},
   "source": [
    "## RandomForestClassifier"
   ]
  },
  {
   "cell_type": "code",
   "execution_count": 119,
   "id": "cfda1cd3",
   "metadata": {
    "ExecuteTime": {
     "end_time": "2022-06-12T12:05:07.817181Z",
     "start_time": "2022-06-12T12:05:07.486757Z"
    }
   },
   "outputs": [
    {
     "data": {
      "text/plain": [
       "264"
      ]
     },
     "execution_count": 119,
     "metadata": {},
     "output_type": "execute_result"
    }
   ],
   "source": [
    "model_forest = DecisionTreeClassifier(random_state = 12345)\n",
    "model_forest.fit(features_train, target_train)\n",
    "model_forest.tree_.max_depth # смотрим максимальную глубину решающего дерева, обученного на наших данных"
   ]
  },
  {
   "cell_type": "code",
   "execution_count": 138,
   "id": "075ebc00",
   "metadata": {
    "ExecuteTime": {
     "end_time": "2022-06-12T13:09:46.900787Z",
     "start_time": "2022-06-12T12:37:24.405528Z"
    }
   },
   "outputs": [
    {
     "name": "stdout",
     "output_type": "stream",
     "text": [
      "Fitting 3 folds for each of 864 candidates, totalling 2592 fits\n"
     ]
    },
    {
     "data": {
      "text/plain": [
       "{'bootstrap': False, 'max_depth': 221, 'n_estimators': 121}"
      ]
     },
     "execution_count": 138,
     "metadata": {},
     "output_type": "execute_result"
    }
   ],
   "source": [
    "param_grid = {'n_estimators': np.arange(1, 152, 10),\n",
    "               'max_depth': np.arange(1, 262, 10),\n",
    "               'bootstrap': [True, False]}\n",
    "model_forest = RandomForestClassifier(random_state = 12345)\n",
    "rf_Grid = GridSearchCV(estimator = model_forest, param_grid = param_grid, cv = 3, verbose=2, n_jobs = 4, scoring = 'f1')\n",
    "rf_Grid.fit(features_train, target_train) # подбираем гиперпараметры\n",
    "rf_Grid.best_params_"
   ]
  },
  {
   "cell_type": "code",
   "execution_count": 146,
   "id": "c7925ba1",
   "metadata": {
    "ExecuteTime": {
     "end_time": "2022-06-12T13:37:26.286673Z",
     "start_time": "2022-06-12T13:37:16.784599Z"
    }
   },
   "outputs": [
    {
     "data": {
      "text/plain": [
       "0.9931412894375856"
      ]
     },
     "execution_count": 146,
     "metadata": {},
     "output_type": "execute_result"
    }
   ],
   "source": [
    "model_forest = RandomForestClassifier(random_state = 12345, max_depth = 221, n_estimators = 121)\n",
    "model_forest.fit(features_train, target_train)\n",
    "f1_score(target_test,model_forest.predict(features_test))"
   ]
  },
  {
   "cell_type": "markdown",
   "id": "2bd7df9a",
   "metadata": {},
   "source": [
    "## CatBoostClassifier"
   ]
  },
  {
   "cell_type": "code",
   "execution_count": 145,
   "id": "08a8e1c6",
   "metadata": {
    "ExecuteTime": {
     "end_time": "2022-06-12T13:35:12.365413Z",
     "start_time": "2022-06-12T13:33:50.867556Z"
    },
    "scrolled": true
   },
   "outputs": [
    {
     "data": {
      "application/vnd.jupyter.widget-view+json": {
       "model_id": "0230ff27998b45a89ade6bb6398f3265",
       "version_major": 2,
       "version_minor": 0
      },
      "text/plain": [
       "MetricVisualizer(layout=Layout(align_self='stretch', height='500px'))"
      ]
     },
     "metadata": {},
     "output_type": "display_data"
    },
    {
     "name": "stdout",
     "output_type": "stream",
     "text": [
      "Learning rate set to 0.044988\n",
      "0:\tlearn: 0.7644387\ttest: 0.7654321\tbest: 0.7654321 (0)\ttotal: 77.6ms\tremaining: 1m 17s\n",
      "1:\tlearn: 0.8437276\ttest: 0.8406780\tbest: 0.8406780 (1)\ttotal: 151ms\tremaining: 1m 15s\n",
      "2:\tlearn: 0.8460164\ttest: 0.8411633\tbest: 0.8411633 (2)\ttotal: 227ms\tremaining: 1m 15s\n",
      "3:\tlearn: 0.8478339\ttest: 0.8430493\tbest: 0.8430493 (3)\ttotal: 300ms\tremaining: 1m 14s\n",
      "4:\tlearn: 0.8564195\ttest: 0.8468468\tbest: 0.8468468 (4)\ttotal: 373ms\tremaining: 1m 14s\n",
      "5:\tlearn: 0.8651809\ttest: 0.8487585\tbest: 0.8487585 (5)\ttotal: 456ms\tremaining: 1m 15s\n",
      "6:\tlearn: 0.8595281\ttest: 0.8449438\tbest: 0.8487585 (5)\ttotal: 529ms\tremaining: 1m 15s\n",
      "7:\tlearn: 0.8487455\ttest: 0.8439955\tbest: 0.8487585 (5)\ttotal: 619ms\tremaining: 1m 16s\n",
      "8:\tlearn: 0.8542569\ttest: 0.8439955\tbest: 0.8487585 (5)\ttotal: 696ms\tremaining: 1m 16s\n",
      "9:\tlearn: 0.8626594\ttest: 0.8478016\tbest: 0.8487585 (5)\ttotal: 767ms\tremaining: 1m 15s\n",
      "10:\tlearn: 0.8799703\ttest: 0.8643678\tbest: 0.8643678 (10)\ttotal: 849ms\tremaining: 1m 16s\n",
      "11:\tlearn: 0.8816083\ttest: 0.8663594\tbest: 0.8663594 (11)\ttotal: 931ms\tremaining: 1m 16s\n",
      "12:\tlearn: 0.8855647\ttest: 0.8723898\tbest: 0.8723898 (12)\ttotal: 1.01s\tremaining: 1m 16s\n",
      "13:\tlearn: 0.8865593\ttest: 0.8723898\tbest: 0.8723898 (12)\ttotal: 1.08s\tremaining: 1m 16s\n",
      "14:\tlearn: 0.8829232\ttest: 0.8693642\tbest: 0.8723898 (12)\ttotal: 1.16s\tremaining: 1m 15s\n",
      "15:\tlearn: 0.8832525\ttest: 0.8693642\tbest: 0.8723898 (12)\ttotal: 1.23s\tremaining: 1m 15s\n",
      "16:\tlearn: 0.8793167\ttest: 0.8683603\tbest: 0.8723898 (12)\ttotal: 1.3s\tremaining: 1m 15s\n",
      "17:\tlearn: 0.8796434\ttest: 0.8713789\tbest: 0.8723898 (12)\ttotal: 1.38s\tremaining: 1m 15s\n",
      "18:\tlearn: 0.8799703\ttest: 0.8703704\tbest: 0.8723898 (12)\ttotal: 1.45s\tremaining: 1m 14s\n",
      "19:\tlearn: 0.8799703\ttest: 0.8703704\tbest: 0.8723898 (12)\ttotal: 1.53s\tremaining: 1m 14s\n",
      "20:\tlearn: 0.8812802\ttest: 0.8713789\tbest: 0.8723898 (12)\ttotal: 1.6s\tremaining: 1m 14s\n",
      "21:\tlearn: 0.8812802\ttest: 0.8703704\tbest: 0.8723898 (12)\ttotal: 1.67s\tremaining: 1m 14s\n",
      "22:\tlearn: 0.8806248\ttest: 0.8693642\tbest: 0.8723898 (12)\ttotal: 1.75s\tremaining: 1m 14s\n",
      "23:\tlearn: 0.8842420\ttest: 0.8693642\tbest: 0.8723898 (12)\ttotal: 1.82s\tremaining: 1m 13s\n",
      "24:\tlearn: 0.8845723\ttest: 0.8693642\tbest: 0.8723898 (12)\ttotal: 1.89s\tremaining: 1m 13s\n",
      "25:\tlearn: 0.8888889\ttest: 0.8734030\tbest: 0.8734030 (25)\ttotal: 1.98s\tremaining: 1m 14s\n",
      "26:\tlearn: 0.8888889\ttest: 0.8734030\tbest: 0.8734030 (25)\ttotal: 2.06s\tremaining: 1m 14s\n",
      "27:\tlearn: 0.8888889\ttest: 0.8723898\tbest: 0.8734030 (25)\ttotal: 2.13s\tremaining: 1m 13s\n",
      "28:\tlearn: 0.8932478\ttest: 0.8764569\tbest: 0.8764569 (28)\ttotal: 2.21s\tremaining: 1m 13s\n",
      "29:\tlearn: 0.8922381\ttest: 0.8764569\tbest: 0.8764569 (28)\ttotal: 2.28s\tremaining: 1m 13s\n",
      "30:\tlearn: 0.8922381\ttest: 0.8764569\tbest: 0.8764569 (28)\ttotal: 2.36s\tremaining: 1m 13s\n",
      "31:\tlearn: 0.8908954\ttest: 0.8754366\tbest: 0.8764569 (28)\ttotal: 2.44s\tremaining: 1m 13s\n",
      "32:\tlearn: 0.8912307\ttest: 0.8754366\tbest: 0.8764569 (28)\ttotal: 2.52s\tremaining: 1m 13s\n",
      "33:\tlearn: 0.8945977\ttest: 0.8764569\tbest: 0.8764569 (28)\ttotal: 2.6s\tremaining: 1m 13s\n",
      "34:\tlearn: 0.8942598\ttest: 0.8754366\tbest: 0.8764569 (28)\ttotal: 2.69s\tremaining: 1m 14s\n",
      "35:\tlearn: 0.8949358\ttest: 0.8815944\tbest: 0.8815944 (35)\ttotal: 2.76s\tremaining: 1m 13s\n",
      "36:\tlearn: 0.8949358\ttest: 0.8836663\tbest: 0.8836663 (36)\ttotal: 2.83s\tremaining: 1m 13s\n",
      "37:\tlearn: 0.8962907\ttest: 0.8836663\tbest: 0.8836663 (36)\ttotal: 2.91s\tremaining: 1m 13s\n",
      "38:\tlearn: 0.8969697\ttest: 0.8836663\tbest: 0.8836663 (36)\ttotal: 2.98s\tremaining: 1m 13s\n",
      "39:\tlearn: 0.8986717\ttest: 0.8867925\tbest: 0.8867925 (39)\ttotal: 3.06s\tremaining: 1m 13s\n",
      "40:\tlearn: 0.8993543\ttest: 0.8888889\tbest: 0.8888889 (40)\ttotal: 3.14s\tremaining: 1m 13s\n",
      "41:\tlearn: 0.8990129\ttest: 0.8878394\tbest: 0.8888889 (40)\ttotal: 3.21s\tremaining: 1m 13s\n",
      "42:\tlearn: 0.9017517\ttest: 0.8878394\tbest: 0.8888889 (40)\ttotal: 3.28s\tremaining: 1m 13s\n",
      "43:\tlearn: 0.9020952\ttest: 0.8867925\tbest: 0.8888889 (40)\ttotal: 3.36s\tremaining: 1m 12s\n",
      "44:\tlearn: 0.9020952\ttest: 0.8878394\tbest: 0.8888889 (40)\ttotal: 3.44s\tremaining: 1m 12s\n",
      "45:\tlearn: 0.9034720\ttest: 0.8909953\tbest: 0.8909953 (45)\ttotal: 3.5s\tremaining: 1m 12s\n",
      "46:\tlearn: 0.9031274\ttest: 0.8909953\tbest: 0.8909953 (45)\ttotal: 3.58s\tremaining: 1m 12s\n",
      "47:\tlearn: 0.9038168\ttest: 0.8909953\tbest: 0.8909953 (45)\ttotal: 3.65s\tremaining: 1m 12s\n",
      "48:\tlearn: 0.9041619\ttest: 0.8899408\tbest: 0.8909953 (45)\ttotal: 3.73s\tremaining: 1m 12s\n",
      "49:\tlearn: 0.9034720\ttest: 0.8920522\tbest: 0.8920522 (49)\ttotal: 3.8s\tremaining: 1m 12s\n",
      "50:\tlearn: 0.9045073\ttest: 0.8931116\tbest: 0.8931116 (50)\ttotal: 3.88s\tremaining: 1m 12s\n",
      "51:\tlearn: 0.9069322\ttest: 0.8952381\tbest: 0.8952381 (51)\ttotal: 3.95s\tremaining: 1m 12s\n",
      "52:\tlearn: 0.9090211\ttest: 0.8952381\tbest: 0.8952381 (51)\ttotal: 4.04s\tremaining: 1m 12s\n",
      "53:\tlearn: 0.9090211\ttest: 0.8952381\tbest: 0.8952381 (51)\ttotal: 4.11s\tremaining: 1m 12s\n",
      "54:\tlearn: 0.9086723\ttest: 0.8963051\tbest: 0.8963051 (54)\ttotal: 4.18s\tremaining: 1m 11s\n",
      "55:\tlearn: 0.9065850\ttest: 0.8963051\tbest: 0.8963051 (54)\ttotal: 4.26s\tremaining: 1m 11s\n",
      "56:\tlearn: 0.9062380\ttest: 0.8952381\tbest: 0.8963051 (54)\ttotal: 4.34s\tremaining: 1m 11s\n",
      "57:\tlearn: 0.9065850\ttest: 0.8963051\tbest: 0.8963051 (54)\ttotal: 4.42s\tremaining: 1m 11s\n",
      "58:\tlearn: 0.9076274\ttest: 0.8973747\tbest: 0.8973747 (58)\ttotal: 4.49s\tremaining: 1m 11s\n",
      "59:\tlearn: 0.9093702\ttest: 0.8973747\tbest: 0.8973747 (58)\ttotal: 4.57s\tremaining: 1m 11s\n",
      "60:\tlearn: 0.9107692\ttest: 0.8984468\tbest: 0.8984468 (60)\ttotal: 4.65s\tremaining: 1m 11s\n",
      "61:\tlearn: 0.9114704\ttest: 0.8995215\tbest: 0.8995215 (61)\ttotal: 4.74s\tremaining: 1m 11s\n",
      "62:\tlearn: 0.9121726\ttest: 0.8984468\tbest: 0.8995215 (61)\ttotal: 4.82s\tremaining: 1m 11s\n",
      "63:\tlearn: 0.9128759\ttest: 0.8973747\tbest: 0.8995215 (61)\ttotal: 4.9s\tremaining: 1m 11s\n",
      "64:\tlearn: 0.9128759\ttest: 0.8984468\tbest: 0.8995215 (61)\ttotal: 4.99s\tremaining: 1m 11s\n",
      "65:\tlearn: 0.9135802\ttest: 0.9005988\tbest: 0.9005988 (65)\ttotal: 5.06s\tremaining: 1m 11s\n",
      "66:\tlearn: 0.9142857\ttest: 0.9027611\tbest: 0.9027611 (66)\ttotal: 5.14s\tremaining: 1m 11s\n",
      "67:\tlearn: 0.9149923\ttest: 0.9038462\tbest: 0.9038462 (67)\ttotal: 5.22s\tremaining: 1m 11s\n",
      "68:\tlearn: 0.9149923\ttest: 0.9027611\tbest: 0.9038462 (67)\ttotal: 5.31s\tremaining: 1m 11s\n",
      "69:\tlearn: 0.9153460\ttest: 0.9027611\tbest: 0.9038462 (67)\ttotal: 5.39s\tremaining: 1m 11s\n",
      "70:\tlearn: 0.9156999\ttest: 0.9005988\tbest: 0.9038462 (67)\ttotal: 5.47s\tremaining: 1m 11s\n",
      "71:\tlearn: 0.9156999\ttest: 0.9016787\tbest: 0.9038462 (67)\ttotal: 5.55s\tremaining: 1m 11s\n",
      "72:\tlearn: 0.9164087\ttest: 0.9016787\tbest: 0.9038462 (67)\ttotal: 5.64s\tremaining: 1m 11s\n",
      "73:\tlearn: 0.9164087\ttest: 0.9049338\tbest: 0.9049338 (73)\ttotal: 5.72s\tremaining: 1m 11s\n",
      "74:\tlearn: 0.9167635\ttest: 0.9049338\tbest: 0.9049338 (73)\ttotal: 5.8s\tremaining: 1m 11s\n",
      "75:\tlearn: 0.9160542\ttest: 0.9038462\tbest: 0.9049338 (73)\ttotal: 5.88s\tremaining: 1m 11s\n",
      "76:\tlearn: 0.9167635\ttest: 0.9049338\tbest: 0.9049338 (73)\ttotal: 5.95s\tremaining: 1m 11s\n",
      "77:\tlearn: 0.9171185\ttest: 0.9049338\tbest: 0.9049338 (73)\ttotal: 6.04s\tremaining: 1m 11s\n",
      "78:\tlearn: 0.9174738\ttest: 0.9071170\tbest: 0.9071170 (78)\ttotal: 6.11s\tremaining: 1m 11s\n",
      "79:\tlearn: 0.9188979\ttest: 0.9060241\tbest: 0.9071170 (78)\ttotal: 6.2s\tremaining: 1m 11s\n",
      "80:\tlearn: 0.9185415\ttest: 0.9060241\tbest: 0.9071170 (78)\ttotal: 6.27s\tremaining: 1m 11s\n",
      "81:\tlearn: 0.9196117\ttest: 0.9071170\tbest: 0.9071170 (78)\ttotal: 6.35s\tremaining: 1m 11s\n",
      "82:\tlearn: 0.9196117\ttest: 0.9104116\tbest: 0.9104116 (82)\ttotal: 6.43s\tremaining: 1m 11s\n",
      "83:\tlearn: 0.9214008\ttest: 0.9126214\tbest: 0.9126214 (83)\ttotal: 6.51s\tremaining: 1m 10s\n",
      "84:\tlearn: 0.9217594\ttest: 0.9115152\tbest: 0.9126214 (83)\ttotal: 6.58s\tremaining: 1m 10s\n",
      "85:\tlearn: 0.9221184\ttest: 0.9126214\tbest: 0.9126214 (83)\ttotal: 6.66s\tremaining: 1m 10s\n",
      "86:\tlearn: 0.9231969\ttest: 0.9115152\tbest: 0.9126214 (83)\ttotal: 6.74s\tremaining: 1m 10s\n",
      "87:\tlearn: 0.9231969\ttest: 0.9115152\tbest: 0.9126214 (83)\ttotal: 6.81s\tremaining: 1m 10s\n",
      "88:\tlearn: 0.9231969\ttest: 0.9115152\tbest: 0.9126214 (83)\ttotal: 6.88s\tremaining: 1m 10s\n",
      "89:\tlearn: 0.9231969\ttest: 0.9115152\tbest: 0.9126214 (83)\ttotal: 6.96s\tremaining: 1m 10s\n",
      "90:\tlearn: 0.9235569\ttest: 0.9126214\tbest: 0.9126214 (83)\ttotal: 7.04s\tremaining: 1m 10s\n",
      "91:\tlearn: 0.9235569\ttest: 0.9126214\tbest: 0.9126214 (83)\ttotal: 7.12s\tremaining: 1m 10s\n",
      "92:\tlearn: 0.9246388\ttest: 0.9137303\tbest: 0.9137303 (92)\ttotal: 7.2s\tremaining: 1m 10s\n",
      "93:\tlearn: 0.9250000\ttest: 0.9137303\tbest: 0.9137303 (92)\ttotal: 7.28s\tremaining: 1m 10s\n",
      "94:\tlearn: 0.9250000\ttest: 0.9137303\tbest: 0.9137303 (92)\ttotal: 7.35s\tremaining: 1m 9s\n",
      "95:\tlearn: 0.9253615\ttest: 0.9113001\tbest: 0.9137303 (92)\ttotal: 7.42s\tremaining: 1m 9s\n",
      "96:\tlearn: 0.9257232\ttest: 0.9101942\tbest: 0.9137303 (92)\ttotal: 7.49s\tremaining: 1m 9s\n",
      "97:\tlearn: 0.9260853\ttest: 0.9101942\tbest: 0.9137303 (92)\ttotal: 7.56s\tremaining: 1m 9s\n",
      "98:\tlearn: 0.9257232\ttest: 0.9101942\tbest: 0.9137303 (92)\ttotal: 7.64s\tremaining: 1m 9s\n",
      "99:\tlearn: 0.9271731\ttest: 0.9090909\tbest: 0.9137303 (92)\ttotal: 7.72s\tremaining: 1m 9s\n",
      "100:\tlearn: 0.9268102\ttest: 0.9090909\tbest: 0.9137303 (92)\ttotal: 7.79s\tremaining: 1m 9s\n",
      "101:\tlearn: 0.9275362\ttest: 0.9079903\tbest: 0.9137303 (92)\ttotal: 7.86s\tremaining: 1m 9s\n",
      "102:\tlearn: 0.9282634\ttest: 0.9090909\tbest: 0.9137303 (92)\ttotal: 7.94s\tremaining: 1m 9s\n",
      "103:\tlearn: 0.9286275\ttest: 0.9090909\tbest: 0.9137303 (92)\ttotal: 8.01s\tremaining: 1m 9s\n",
      "104:\tlearn: 0.9289918\ttest: 0.9090909\tbest: 0.9137303 (92)\ttotal: 8.1s\tremaining: 1m 9s\n",
      "105:\tlearn: 0.9289918\ttest: 0.9090909\tbest: 0.9137303 (92)\ttotal: 8.17s\tremaining: 1m 8s\n",
      "106:\tlearn: 0.9286275\ttest: 0.9090909\tbest: 0.9137303 (92)\ttotal: 8.25s\tremaining: 1m 8s\n",
      "107:\tlearn: 0.9286275\ttest: 0.9090909\tbest: 0.9137303 (92)\ttotal: 8.32s\tremaining: 1m 8s\n",
      "108:\tlearn: 0.9286275\ttest: 0.9090909\tbest: 0.9137303 (92)\ttotal: 8.39s\tremaining: 1m 8s\n",
      "109:\tlearn: 0.9297212\ttest: 0.9090909\tbest: 0.9137303 (92)\ttotal: 8.48s\tremaining: 1m 8s\n",
      "110:\tlearn: 0.9297212\ttest: 0.9101942\tbest: 0.9137303 (92)\ttotal: 8.55s\tremaining: 1m 8s\n",
      "111:\tlearn: 0.9304519\ttest: 0.9104116\tbest: 0.9137303 (92)\ttotal: 8.63s\tremaining: 1m 8s\n",
      "112:\tlearn: 0.9308176\ttest: 0.9104116\tbest: 0.9137303 (92)\ttotal: 8.7s\tremaining: 1m 8s\n",
      "113:\tlearn: 0.9308176\ttest: 0.9104116\tbest: 0.9137303 (92)\ttotal: 8.78s\tremaining: 1m 8s\n",
      "114:\tlearn: 0.9308176\ttest: 0.9104116\tbest: 0.9137303 (92)\ttotal: 8.85s\tremaining: 1m 8s\n",
      "115:\tlearn: 0.9311836\ttest: 0.9104116\tbest: 0.9137303 (92)\ttotal: 8.92s\tremaining: 1m 8s\n",
      "116:\tlearn: 0.9322835\ttest: 0.9115152\tbest: 0.9137303 (92)\ttotal: 9s\tremaining: 1m 7s\n",
      "117:\tlearn: 0.9326506\ttest: 0.9126214\tbest: 0.9137303 (92)\ttotal: 9.08s\tremaining: 1m 7s\n",
      "118:\tlearn: 0.9319166\ttest: 0.9126214\tbest: 0.9137303 (92)\ttotal: 9.16s\tremaining: 1m 7s\n",
      "119:\tlearn: 0.9326506\ttest: 0.9126214\tbest: 0.9137303 (92)\ttotal: 9.23s\tremaining: 1m 7s\n",
      "120:\tlearn: 0.9326506\ttest: 0.9126214\tbest: 0.9137303 (92)\ttotal: 9.31s\tremaining: 1m 7s\n",
      "121:\tlearn: 0.9333859\ttest: 0.9126214\tbest: 0.9137303 (92)\ttotal: 9.38s\tremaining: 1m 7s\n",
      "122:\tlearn: 0.9333859\ttest: 0.9126214\tbest: 0.9137303 (92)\ttotal: 9.45s\tremaining: 1m 7s\n",
      "123:\tlearn: 0.9333859\ttest: 0.9126214\tbest: 0.9137303 (92)\ttotal: 9.52s\tremaining: 1m 7s\n",
      "124:\tlearn: 0.9337539\ttest: 0.9126214\tbest: 0.9137303 (92)\ttotal: 9.6s\tremaining: 1m 7s\n",
      "125:\tlearn: 0.9337539\ttest: 0.9137303\tbest: 0.9137303 (92)\ttotal: 9.68s\tremaining: 1m 7s\n",
      "126:\tlearn: 0.9348598\ttest: 0.9159562\tbest: 0.9159562 (126)\ttotal: 9.76s\tremaining: 1m 7s\n",
      "127:\tlearn: 0.9363385\ttest: 0.9170732\tbest: 0.9170732 (127)\ttotal: 9.84s\tremaining: 1m 7s\n",
      "128:\tlearn: 0.9363385\ttest: 0.9170732\tbest: 0.9170732 (127)\ttotal: 9.91s\tremaining: 1m 6s\n",
      "129:\tlearn: 0.9363385\ttest: 0.9170732\tbest: 0.9170732 (127)\ttotal: 9.98s\tremaining: 1m 6s\n",
      "130:\tlearn: 0.9370795\ttest: 0.9157509\tbest: 0.9170732 (127)\ttotal: 10.1s\tremaining: 1m 6s\n",
      "131:\tlearn: 0.9374505\ttest: 0.9157509\tbest: 0.9170732 (127)\ttotal: 10.1s\tremaining: 1m 6s\n",
      "132:\tlearn: 0.9367089\ttest: 0.9157509\tbest: 0.9170732 (127)\ttotal: 10.2s\tremaining: 1m 6s\n",
      "133:\tlearn: 0.9374505\ttest: 0.9146341\tbest: 0.9170732 (127)\ttotal: 10.3s\tremaining: 1m 6s\n",
      "134:\tlearn: 0.9378218\ttest: 0.9146341\tbest: 0.9170732 (127)\ttotal: 10.4s\tremaining: 1m 6s\n",
      "135:\tlearn: 0.9374505\ttest: 0.9146341\tbest: 0.9170732 (127)\ttotal: 10.4s\tremaining: 1m 6s\n",
      "136:\tlearn: 0.9378218\ttest: 0.9135201\tbest: 0.9170732 (127)\ttotal: 10.5s\tremaining: 1m 6s\n",
      "137:\tlearn: 0.9374505\ttest: 0.9146341\tbest: 0.9170732 (127)\ttotal: 10.6s\tremaining: 1m 6s\n",
      "138:\tlearn: 0.9378218\ttest: 0.9146341\tbest: 0.9170732 (127)\ttotal: 10.7s\tremaining: 1m 6s\n",
      "139:\tlearn: 0.9374505\ttest: 0.9157509\tbest: 0.9170732 (127)\ttotal: 10.7s\tremaining: 1m 5s\n",
      "140:\tlearn: 0.9374505\ttest: 0.9157509\tbest: 0.9170732 (127)\ttotal: 10.8s\tremaining: 1m 5s\n",
      "141:\tlearn: 0.9374505\ttest: 0.9157509\tbest: 0.9170732 (127)\ttotal: 10.9s\tremaining: 1m 5s\n",
      "142:\tlearn: 0.9374505\ttest: 0.9157509\tbest: 0.9170732 (127)\ttotal: 11s\tremaining: 1m 5s\n",
      "143:\tlearn: 0.9374505\ttest: 0.9157509\tbest: 0.9170732 (127)\ttotal: 11s\tremaining: 1m 5s\n",
      "144:\tlearn: 0.9378218\ttest: 0.9157509\tbest: 0.9170732 (127)\ttotal: 11.1s\tremaining: 1m 5s\n",
      "145:\tlearn: 0.9378218\ttest: 0.9157509\tbest: 0.9170732 (127)\ttotal: 11.2s\tremaining: 1m 5s\n",
      "146:\tlearn: 0.9385652\ttest: 0.9157509\tbest: 0.9170732 (127)\ttotal: 11.3s\tremaining: 1m 5s\n",
      "147:\tlearn: 0.9389374\ttest: 0.9168704\tbest: 0.9170732 (127)\ttotal: 11.3s\tremaining: 1m 5s\n",
      "148:\tlearn: 0.9393098\ttest: 0.9157509\tbest: 0.9170732 (127)\ttotal: 11.4s\tremaining: 1m 5s\n",
      "149:\tlearn: 0.9393098\ttest: 0.9146341\tbest: 0.9170732 (127)\ttotal: 11.5s\tremaining: 1m 5s\n",
      "150:\tlearn: 0.9396825\ttest: 0.9146341\tbest: 0.9170732 (127)\ttotal: 11.6s\tremaining: 1m 4s\n",
      "151:\tlearn: 0.9396825\ttest: 0.9146341\tbest: 0.9170732 (127)\ttotal: 11.6s\tremaining: 1m 4s\n",
      "152:\tlearn: 0.9396825\ttest: 0.9146341\tbest: 0.9170732 (127)\ttotal: 11.7s\tremaining: 1m 4s\n",
      "153:\tlearn: 0.9396825\ttest: 0.9146341\tbest: 0.9170732 (127)\ttotal: 11.8s\tremaining: 1m 4s\n",
      "154:\tlearn: 0.9396825\ttest: 0.9146341\tbest: 0.9170732 (127)\ttotal: 11.9s\tremaining: 1m 4s\n",
      "155:\tlearn: 0.9396825\ttest: 0.9146341\tbest: 0.9170732 (127)\ttotal: 11.9s\tremaining: 1m 4s\n",
      "156:\tlearn: 0.9396825\ttest: 0.9146341\tbest: 0.9170732 (127)\ttotal: 12s\tremaining: 1m 4s\n",
      "157:\tlearn: 0.9396825\ttest: 0.9157509\tbest: 0.9170732 (127)\ttotal: 12.1s\tremaining: 1m 4s\n",
      "158:\tlearn: 0.9396825\ttest: 0.9157509\tbest: 0.9170732 (127)\ttotal: 12.2s\tremaining: 1m 4s\n",
      "159:\tlearn: 0.9396825\ttest: 0.9157509\tbest: 0.9170732 (127)\ttotal: 12.3s\tremaining: 1m 4s\n",
      "160:\tlearn: 0.9396825\ttest: 0.9146341\tbest: 0.9170732 (127)\ttotal: 12.3s\tremaining: 1m 4s\n",
      "161:\tlearn: 0.9404289\ttest: 0.9146341\tbest: 0.9170732 (127)\ttotal: 12.4s\tremaining: 1m 4s\n",
      "162:\tlearn: 0.9404289\ttest: 0.9146341\tbest: 0.9170732 (127)\ttotal: 12.5s\tremaining: 1m 4s\n",
      "163:\tlearn: 0.9404289\ttest: 0.9146341\tbest: 0.9170732 (127)\ttotal: 12.6s\tremaining: 1m 4s\n",
      "164:\tlearn: 0.9404289\ttest: 0.9146341\tbest: 0.9170732 (127)\ttotal: 12.7s\tremaining: 1m 4s\n",
      "165:\tlearn: 0.9404289\ttest: 0.9146341\tbest: 0.9170732 (127)\ttotal: 12.7s\tremaining: 1m 3s\n",
      "166:\tlearn: 0.9404289\ttest: 0.9146341\tbest: 0.9170732 (127)\ttotal: 12.8s\tremaining: 1m 4s\n",
      "167:\tlearn: 0.9408025\ttest: 0.9157509\tbest: 0.9170732 (127)\ttotal: 12.9s\tremaining: 1m 3s\n",
      "168:\tlearn: 0.9408025\ttest: 0.9157509\tbest: 0.9170732 (127)\ttotal: 13s\tremaining: 1m 3s\n",
      "169:\tlearn: 0.9423000\ttest: 0.9157509\tbest: 0.9170732 (127)\ttotal: 13.1s\tremaining: 1m 3s\n",
      "170:\tlearn: 0.9419252\ttest: 0.9157509\tbest: 0.9170732 (127)\ttotal: 13.2s\tremaining: 1m 3s\n",
      "171:\tlearn: 0.9419252\ttest: 0.9157509\tbest: 0.9170732 (127)\ttotal: 13.2s\tremaining: 1m 3s\n",
      "172:\tlearn: 0.9419252\ttest: 0.9157509\tbest: 0.9170732 (127)\ttotal: 13.3s\tremaining: 1m 3s\n",
      "173:\tlearn: 0.9419252\ttest: 0.9157509\tbest: 0.9170732 (127)\ttotal: 13.4s\tremaining: 1m 3s\n",
      "174:\tlearn: 0.9419252\ttest: 0.9168704\tbest: 0.9170732 (127)\ttotal: 13.4s\tremaining: 1m 3s\n",
      "175:\tlearn: 0.9426752\ttest: 0.9168704\tbest: 0.9170732 (127)\ttotal: 13.5s\tremaining: 1m 3s\n",
      "176:\tlearn: 0.9426752\ttest: 0.9168704\tbest: 0.9170732 (127)\ttotal: 13.6s\tremaining: 1m 3s\n",
      "177:\tlearn: 0.9426752\ttest: 0.9168704\tbest: 0.9170732 (127)\ttotal: 13.7s\tremaining: 1m 3s\n",
      "178:\tlearn: 0.9426752\ttest: 0.9168704\tbest: 0.9170732 (127)\ttotal: 13.8s\tremaining: 1m 3s\n",
      "179:\tlearn: 0.9430506\ttest: 0.9168704\tbest: 0.9170732 (127)\ttotal: 13.8s\tremaining: 1m 3s\n",
      "180:\tlearn: 0.9434263\ttest: 0.9168704\tbest: 0.9170732 (127)\ttotal: 13.9s\tremaining: 1m 2s\n",
      "181:\tlearn: 0.9434263\ttest: 0.9157509\tbest: 0.9170732 (127)\ttotal: 14s\tremaining: 1m 2s\n",
      "182:\tlearn: 0.9438023\ttest: 0.9157509\tbest: 0.9170732 (127)\ttotal: 14.1s\tremaining: 1m 2s\n",
      "183:\tlearn: 0.9438023\ttest: 0.9157509\tbest: 0.9170732 (127)\ttotal: 14.2s\tremaining: 1m 2s\n",
      "184:\tlearn: 0.9438023\ttest: 0.9157509\tbest: 0.9170732 (127)\ttotal: 14.2s\tremaining: 1m 2s\n",
      "185:\tlearn: 0.9438023\ttest: 0.9157509\tbest: 0.9170732 (127)\ttotal: 14.3s\tremaining: 1m 2s\n",
      "186:\tlearn: 0.9434263\ttest: 0.9157509\tbest: 0.9170732 (127)\ttotal: 14.4s\tremaining: 1m 2s\n",
      "187:\tlearn: 0.9434263\ttest: 0.9157509\tbest: 0.9170732 (127)\ttotal: 14.5s\tremaining: 1m 2s\n",
      "188:\tlearn: 0.9438023\ttest: 0.9157509\tbest: 0.9170732 (127)\ttotal: 14.5s\tremaining: 1m 2s\n",
      "189:\tlearn: 0.9438023\ttest: 0.9157509\tbest: 0.9170732 (127)\ttotal: 14.6s\tremaining: 1m 2s\n",
      "190:\tlearn: 0.9449322\ttest: 0.9157509\tbest: 0.9170732 (127)\ttotal: 14.7s\tremaining: 1m 2s\n",
      "191:\tlearn: 0.9460647\ttest: 0.9157509\tbest: 0.9170732 (127)\ttotal: 14.8s\tremaining: 1m 2s\n",
      "192:\tlearn: 0.9460647\ttest: 0.9157509\tbest: 0.9170732 (127)\ttotal: 14.9s\tremaining: 1m 2s\n",
      "193:\tlearn: 0.9468213\ttest: 0.9157509\tbest: 0.9170732 (127)\ttotal: 14.9s\tremaining: 1m 2s\n",
      "194:\tlearn: 0.9468213\ttest: 0.9157509\tbest: 0.9170732 (127)\ttotal: 15s\tremaining: 1m 2s\n",
      "195:\tlearn: 0.9472000\ttest: 0.9157509\tbest: 0.9170732 (127)\ttotal: 15.1s\tremaining: 1m 1s\n",
      "196:\tlearn: 0.9475790\ttest: 0.9157509\tbest: 0.9170732 (127)\ttotal: 15.2s\tremaining: 1m 1s\n",
      "197:\tlearn: 0.9468213\ttest: 0.9157509\tbest: 0.9170732 (127)\ttotal: 15.3s\tremaining: 1m 1s\n",
      "198:\tlearn: 0.9475790\ttest: 0.9157509\tbest: 0.9170732 (127)\ttotal: 15.3s\tremaining: 1m 1s\n",
      "199:\tlearn: 0.9479584\ttest: 0.9157509\tbest: 0.9170732 (127)\ttotal: 15.4s\tremaining: 1m 1s\n",
      "200:\tlearn: 0.9479584\ttest: 0.9157509\tbest: 0.9170732 (127)\ttotal: 15.5s\tremaining: 1m 1s\n",
      "201:\tlearn: 0.9475790\ttest: 0.9157509\tbest: 0.9170732 (127)\ttotal: 15.6s\tremaining: 1m 1s\n",
      "202:\tlearn: 0.9475790\ttest: 0.9157509\tbest: 0.9170732 (127)\ttotal: 15.7s\tremaining: 1m 1s\n",
      "203:\tlearn: 0.9487590\ttest: 0.9168704\tbest: 0.9170732 (127)\ttotal: 15.8s\tremaining: 1m 1s\n",
      "204:\tlearn: 0.9483794\ttest: 0.9168704\tbest: 0.9170732 (127)\ttotal: 15.8s\tremaining: 1m 1s\n",
      "205:\tlearn: 0.9483794\ttest: 0.9168704\tbest: 0.9170732 (127)\ttotal: 15.9s\tremaining: 1m 1s\n",
      "206:\tlearn: 0.9483794\ttest: 0.9168704\tbest: 0.9170732 (127)\ttotal: 16s\tremaining: 1m 1s\n",
      "207:\tlearn: 0.9483794\ttest: 0.9168704\tbest: 0.9170732 (127)\ttotal: 16.1s\tremaining: 1m 1s\n",
      "208:\tlearn: 0.9483794\ttest: 0.9168704\tbest: 0.9170732 (127)\ttotal: 16.2s\tremaining: 1m 1s\n",
      "209:\tlearn: 0.9483794\ttest: 0.9168704\tbest: 0.9170732 (127)\ttotal: 16.2s\tremaining: 1m 1s\n",
      "210:\tlearn: 0.9483794\ttest: 0.9168704\tbest: 0.9170732 (127)\ttotal: 16.3s\tremaining: 1m\n",
      "211:\tlearn: 0.9483794\ttest: 0.9168704\tbest: 0.9170732 (127)\ttotal: 16.4s\tremaining: 1m\n",
      "212:\tlearn: 0.9491390\ttest: 0.9168704\tbest: 0.9170732 (127)\ttotal: 16.5s\tremaining: 1m\n",
      "213:\tlearn: 0.9495192\ttest: 0.9168704\tbest: 0.9170732 (127)\ttotal: 16.5s\tremaining: 1m\n",
      "214:\tlearn: 0.9502807\ttest: 0.9179927\tbest: 0.9179927 (214)\ttotal: 16.6s\tremaining: 1m\n",
      "215:\tlearn: 0.9514251\ttest: 0.9179927\tbest: 0.9179927 (214)\ttotal: 16.7s\tremaining: 1m\n",
      "216:\tlearn: 0.9514251\ttest: 0.9179927\tbest: 0.9179927 (214)\ttotal: 16.8s\tremaining: 1m\n",
      "217:\tlearn: 0.9521896\ttest: 0.9179927\tbest: 0.9179927 (214)\ttotal: 16.9s\tremaining: 1m\n",
      "218:\tlearn: 0.9521896\ttest: 0.9179927\tbest: 0.9179927 (214)\ttotal: 16.9s\tremaining: 1m\n",
      "219:\tlearn: 0.9521896\ttest: 0.9179927\tbest: 0.9179927 (214)\ttotal: 17s\tremaining: 1m\n",
      "220:\tlearn: 0.9525723\ttest: 0.9191176\tbest: 0.9191176 (220)\ttotal: 17.1s\tremaining: 1m\n",
      "221:\tlearn: 0.9525723\ttest: 0.9191176\tbest: 0.9191176 (220)\ttotal: 17.2s\tremaining: 1m\n",
      "222:\tlearn: 0.9533387\ttest: 0.9191176\tbest: 0.9191176 (220)\ttotal: 17.2s\tremaining: 1m\n",
      "223:\tlearn: 0.9533387\ttest: 0.9191176\tbest: 0.9191176 (220)\ttotal: 17.3s\tremaining: 60s\n",
      "224:\tlearn: 0.9541063\ttest: 0.9191176\tbest: 0.9191176 (220)\ttotal: 17.4s\tremaining: 59.9s\n",
      "225:\tlearn: 0.9544905\ttest: 0.9191176\tbest: 0.9191176 (220)\ttotal: 17.5s\tremaining: 59.8s\n",
      "226:\tlearn: 0.9548751\ttest: 0.9191176\tbest: 0.9191176 (220)\ttotal: 17.5s\tremaining: 59.8s\n",
      "227:\tlearn: 0.9552600\ttest: 0.9191176\tbest: 0.9191176 (220)\ttotal: 17.6s\tremaining: 59.7s\n",
      "228:\tlearn: 0.9556452\ttest: 0.9191176\tbest: 0.9191176 (220)\ttotal: 17.7s\tremaining: 59.6s\n",
      "229:\tlearn: 0.9560307\ttest: 0.9191176\tbest: 0.9191176 (220)\ttotal: 17.8s\tremaining: 59.5s\n",
      "230:\tlearn: 0.9556452\ttest: 0.9191176\tbest: 0.9191176 (220)\ttotal: 17.8s\tremaining: 59.4s\n",
      "231:\tlearn: 0.9556452\ttest: 0.9202454\tbest: 0.9202454 (231)\ttotal: 17.9s\tremaining: 59.3s\n",
      "232:\tlearn: 0.9552600\ttest: 0.9215686\tbest: 0.9215686 (232)\ttotal: 18s\tremaining: 59.3s\n",
      "233:\tlearn: 0.9552600\ttest: 0.9215686\tbest: 0.9215686 (232)\ttotal: 18.1s\tremaining: 59.2s\n",
      "234:\tlearn: 0.9548751\ttest: 0.9215686\tbest: 0.9215686 (232)\ttotal: 18.2s\tremaining: 59.2s\n",
      "235:\tlearn: 0.9552600\ttest: 0.9215686\tbest: 0.9215686 (232)\ttotal: 18.3s\tremaining: 59.1s\n",
      "236:\tlearn: 0.9560307\ttest: 0.9204406\tbest: 0.9215686 (232)\ttotal: 18.4s\tremaining: 59.1s\n",
      "237:\tlearn: 0.9560307\ttest: 0.9204406\tbest: 0.9215686 (232)\ttotal: 18.4s\tremaining: 59s\n",
      "238:\tlearn: 0.9560307\ttest: 0.9204406\tbest: 0.9215686 (232)\ttotal: 18.5s\tremaining: 58.9s\n",
      "239:\tlearn: 0.9560307\ttest: 0.9204406\tbest: 0.9215686 (232)\ttotal: 18.6s\tremaining: 58.9s\n",
      "240:\tlearn: 0.9560307\ttest: 0.9204406\tbest: 0.9215686 (232)\ttotal: 18.7s\tremaining: 58.8s\n",
      "241:\tlearn: 0.9564165\ttest: 0.9204406\tbest: 0.9215686 (232)\ttotal: 18.7s\tremaining: 58.7s\n",
      "242:\tlearn: 0.9571890\ttest: 0.9204406\tbest: 0.9215686 (232)\ttotal: 18.8s\tremaining: 58.6s\n",
      "243:\tlearn: 0.9575758\ttest: 0.9215686\tbest: 0.9215686 (232)\ttotal: 18.9s\tremaining: 58.6s\n",
      "244:\tlearn: 0.9575758\ttest: 0.9215686\tbest: 0.9215686 (232)\ttotal: 19s\tremaining: 58.5s\n",
      "245:\tlearn: 0.9583502\ttest: 0.9215686\tbest: 0.9215686 (232)\ttotal: 19.1s\tremaining: 58.4s\n",
      "246:\tlearn: 0.9591259\ttest: 0.9215686\tbest: 0.9215686 (232)\ttotal: 19.1s\tremaining: 58.4s\n",
      "247:\tlearn: 0.9591259\ttest: 0.9215686\tbest: 0.9215686 (232)\ttotal: 19.2s\tremaining: 58.3s\n",
      "248:\tlearn: 0.9591259\ttest: 0.9215686\tbest: 0.9215686 (232)\ttotal: 19.3s\tremaining: 58.2s\n",
      "249:\tlearn: 0.9595142\ttest: 0.9215686\tbest: 0.9215686 (232)\ttotal: 19.4s\tremaining: 58.1s\n",
      "250:\tlearn: 0.9595142\ttest: 0.9215686\tbest: 0.9215686 (232)\ttotal: 19.4s\tremaining: 58s\n",
      "251:\tlearn: 0.9595142\ttest: 0.9215686\tbest: 0.9215686 (232)\ttotal: 19.5s\tremaining: 58s\n",
      "252:\tlearn: 0.9595142\ttest: 0.9215686\tbest: 0.9215686 (232)\ttotal: 19.6s\tremaining: 57.9s\n",
      "253:\tlearn: 0.9595142\ttest: 0.9215686\tbest: 0.9215686 (232)\ttotal: 19.7s\tremaining: 57.8s\n",
      "254:\tlearn: 0.9595142\ttest: 0.9215686\tbest: 0.9215686 (232)\ttotal: 19.8s\tremaining: 57.7s\n",
      "255:\tlearn: 0.9595142\ttest: 0.9204406\tbest: 0.9215686 (232)\ttotal: 19.8s\tremaining: 57.6s\n",
      "256:\tlearn: 0.9606810\ttest: 0.9204406\tbest: 0.9215686 (232)\ttotal: 19.9s\tremaining: 57.6s\n",
      "257:\tlearn: 0.9606810\ttest: 0.9204406\tbest: 0.9215686 (232)\ttotal: 20s\tremaining: 57.5s\n",
      "258:\tlearn: 0.9610706\ttest: 0.9204406\tbest: 0.9215686 (232)\ttotal: 20.1s\tremaining: 57.5s\n",
      "259:\tlearn: 0.9618506\ttest: 0.9204406\tbest: 0.9215686 (232)\ttotal: 20.2s\tremaining: 57.4s\n",
      "260:\tlearn: 0.9618506\ttest: 0.9193154\tbest: 0.9215686 (232)\ttotal: 20.2s\tremaining: 57.3s\n",
      "261:\tlearn: 0.9626320\ttest: 0.9204406\tbest: 0.9215686 (232)\ttotal: 20.3s\tremaining: 57.3s\n",
      "262:\tlearn: 0.9626320\ttest: 0.9193154\tbest: 0.9215686 (232)\ttotal: 20.4s\tremaining: 57.2s\n",
      "263:\tlearn: 0.9626320\ttest: 0.9193154\tbest: 0.9215686 (232)\ttotal: 20.5s\tremaining: 57.1s\n",
      "264:\tlearn: 0.9626320\ttest: 0.9193154\tbest: 0.9215686 (232)\ttotal: 20.6s\tremaining: 57.1s\n",
      "265:\tlearn: 0.9630232\ttest: 0.9181929\tbest: 0.9215686 (232)\ttotal: 20.7s\tremaining: 57s\n",
      "266:\tlearn: 0.9638064\ttest: 0.9181929\tbest: 0.9215686 (232)\ttotal: 20.7s\tremaining: 57s\n",
      "267:\tlearn: 0.9641985\ttest: 0.9193154\tbest: 0.9215686 (232)\ttotal: 20.8s\tremaining: 56.9s\n",
      "268:\tlearn: 0.9641985\ttest: 0.9193154\tbest: 0.9215686 (232)\ttotal: 20.9s\tremaining: 56.8s\n",
      "269:\tlearn: 0.9641985\ttest: 0.9193154\tbest: 0.9215686 (232)\ttotal: 21s\tremaining: 56.8s\n",
      "270:\tlearn: 0.9645910\ttest: 0.9204406\tbest: 0.9215686 (232)\ttotal: 21.1s\tremaining: 56.7s\n",
      "271:\tlearn: 0.9645910\ttest: 0.9204406\tbest: 0.9215686 (232)\ttotal: 21.2s\tremaining: 56.7s\n",
      "272:\tlearn: 0.9641985\ttest: 0.9215686\tbest: 0.9215686 (232)\ttotal: 21.2s\tremaining: 56.6s\n",
      "273:\tlearn: 0.9649837\ttest: 0.9215686\tbest: 0.9215686 (232)\ttotal: 21.3s\tremaining: 56.5s\n",
      "274:\tlearn: 0.9653768\ttest: 0.9226994\tbest: 0.9226994 (274)\ttotal: 21.4s\tremaining: 56.4s\n",
      "275:\tlearn: 0.9653768\ttest: 0.9226994\tbest: 0.9226994 (274)\ttotal: 21.5s\tremaining: 56.4s\n",
      "276:\tlearn: 0.9657702\ttest: 0.9249692\tbest: 0.9249692 (276)\ttotal: 21.6s\tremaining: 56.3s\n",
      "277:\tlearn: 0.9661639\ttest: 0.9249692\tbest: 0.9249692 (276)\ttotal: 21.7s\tremaining: 56.2s\n",
      "278:\tlearn: 0.9661639\ttest: 0.9249692\tbest: 0.9249692 (276)\ttotal: 21.7s\tremaining: 56.2s\n",
      "279:\tlearn: 0.9661639\ttest: 0.9249692\tbest: 0.9249692 (276)\ttotal: 21.8s\tremaining: 56.1s\n",
      "280:\tlearn: 0.9661639\ttest: 0.9238329\tbest: 0.9249692 (276)\ttotal: 21.9s\tremaining: 56s\n",
      "281:\tlearn: 0.9661639\ttest: 0.9226994\tbest: 0.9249692 (276)\ttotal: 22s\tremaining: 55.9s\n",
      "282:\tlearn: 0.9661639\ttest: 0.9215686\tbest: 0.9249692 (276)\ttotal: 22s\tremaining: 55.9s\n",
      "283:\tlearn: 0.9665579\ttest: 0.9215686\tbest: 0.9249692 (276)\ttotal: 22.1s\tremaining: 55.8s\n",
      "284:\tlearn: 0.9673469\ttest: 0.9215686\tbest: 0.9249692 (276)\ttotal: 22.2s\tremaining: 55.8s\n",
      "285:\tlearn: 0.9673469\ttest: 0.9215686\tbest: 0.9249692 (276)\ttotal: 22.3s\tremaining: 55.7s\n",
      "286:\tlearn: 0.9681373\ttest: 0.9215686\tbest: 0.9249692 (276)\ttotal: 22.4s\tremaining: 55.6s\n",
      "287:\tlearn: 0.9681373\ttest: 0.9226994\tbest: 0.9249692 (276)\ttotal: 22.5s\tremaining: 55.5s\n",
      "288:\tlearn: 0.9685329\ttest: 0.9226994\tbest: 0.9249692 (276)\ttotal: 22.5s\tremaining: 55.5s\n",
      "289:\tlearn: 0.9685329\ttest: 0.9226994\tbest: 0.9249692 (276)\ttotal: 22.6s\tremaining: 55.4s\n",
      "290:\tlearn: 0.9681373\ttest: 0.9226994\tbest: 0.9249692 (276)\ttotal: 22.7s\tremaining: 55.3s\n",
      "291:\tlearn: 0.9685329\ttest: 0.9226994\tbest: 0.9249692 (276)\ttotal: 22.8s\tremaining: 55.3s\n",
      "292:\tlearn: 0.9685329\ttest: 0.9226994\tbest: 0.9249692 (276)\ttotal: 22.9s\tremaining: 55.2s\n",
      "293:\tlearn: 0.9685329\ttest: 0.9226994\tbest: 0.9249692 (276)\ttotal: 22.9s\tremaining: 55.1s\n",
      "294:\tlearn: 0.9689289\ttest: 0.9215686\tbest: 0.9249692 (276)\ttotal: 23s\tremaining: 55s\n",
      "295:\tlearn: 0.9693252\ttest: 0.9249692\tbest: 0.9249692 (276)\ttotal: 23.1s\tremaining: 54.9s\n",
      "296:\tlearn: 0.9693252\ttest: 0.9249692\tbest: 0.9249692 (276)\ttotal: 23.2s\tremaining: 54.8s\n",
      "297:\tlearn: 0.9697218\ttest: 0.9249692\tbest: 0.9249692 (276)\ttotal: 23.2s\tremaining: 54.7s\n",
      "298:\tlearn: 0.9697218\ttest: 0.9249692\tbest: 0.9249692 (276)\ttotal: 23.3s\tremaining: 54.7s\n",
      "299:\tlearn: 0.9693252\ttest: 0.9249692\tbest: 0.9249692 (276)\ttotal: 23.4s\tremaining: 54.6s\n",
      "300:\tlearn: 0.9685329\ttest: 0.9249692\tbest: 0.9249692 (276)\ttotal: 23.5s\tremaining: 54.5s\n",
      "301:\tlearn: 0.9681373\ttest: 0.9249692\tbest: 0.9249692 (276)\ttotal: 23.5s\tremaining: 54.4s\n",
      "302:\tlearn: 0.9689289\ttest: 0.9249692\tbest: 0.9249692 (276)\ttotal: 23.6s\tremaining: 54.3s\n",
      "303:\tlearn: 0.9689289\ttest: 0.9249692\tbest: 0.9249692 (276)\ttotal: 23.7s\tremaining: 54.3s\n",
      "304:\tlearn: 0.9689289\ttest: 0.9249692\tbest: 0.9249692 (276)\ttotal: 23.8s\tremaining: 54.2s\n",
      "305:\tlearn: 0.9689289\ttest: 0.9249692\tbest: 0.9249692 (276)\ttotal: 23.9s\tremaining: 54.1s\n",
      "306:\tlearn: 0.9689289\ttest: 0.9249692\tbest: 0.9249692 (276)\ttotal: 23.9s\tremaining: 54.1s\n",
      "307:\tlearn: 0.9693252\ttest: 0.9249692\tbest: 0.9249692 (276)\ttotal: 24s\tremaining: 54s\n",
      "308:\tlearn: 0.9701187\ttest: 0.9249692\tbest: 0.9249692 (276)\ttotal: 24.1s\tremaining: 53.9s\n",
      "309:\tlearn: 0.9697218\ttest: 0.9249692\tbest: 0.9249692 (276)\ttotal: 24.2s\tremaining: 53.8s\n",
      "310:\tlearn: 0.9697218\ttest: 0.9249692\tbest: 0.9249692 (276)\ttotal: 24.3s\tremaining: 53.8s\n",
      "311:\tlearn: 0.9701187\ttest: 0.9249692\tbest: 0.9249692 (276)\ttotal: 24.3s\tremaining: 53.7s\n",
      "312:\tlearn: 0.9701187\ttest: 0.9249692\tbest: 0.9249692 (276)\ttotal: 24.4s\tremaining: 53.6s\n",
      "313:\tlearn: 0.9701187\ttest: 0.9249692\tbest: 0.9249692 (276)\ttotal: 24.5s\tremaining: 53.5s\n",
      "314:\tlearn: 0.9701187\ttest: 0.9249692\tbest: 0.9249692 (276)\ttotal: 24.6s\tremaining: 53.4s\n",
      "315:\tlearn: 0.9705160\ttest: 0.9261084\tbest: 0.9261084 (315)\ttotal: 24.6s\tremaining: 53.3s\n",
      "316:\tlearn: 0.9709136\ttest: 0.9272503\tbest: 0.9272503 (316)\ttotal: 24.7s\tremaining: 53.3s\n",
      "317:\tlearn: 0.9709136\ttest: 0.9272503\tbest: 0.9272503 (316)\ttotal: 24.8s\tremaining: 53.2s\n",
      "318:\tlearn: 0.9717097\ttest: 0.9261084\tbest: 0.9272503 (316)\ttotal: 24.9s\tremaining: 53.1s\n",
      "319:\tlearn: 0.9717097\ttest: 0.9261084\tbest: 0.9272503 (316)\ttotal: 24.9s\tremaining: 53s\n",
      "320:\tlearn: 0.9717097\ttest: 0.9261084\tbest: 0.9272503 (316)\ttotal: 25s\tremaining: 52.9s\n",
      "321:\tlearn: 0.9717097\ttest: 0.9261084\tbest: 0.9272503 (316)\ttotal: 25.1s\tremaining: 52.8s\n",
      "322:\tlearn: 0.9717097\ttest: 0.9261084\tbest: 0.9272503 (316)\ttotal: 25.2s\tremaining: 52.7s\n",
      "323:\tlearn: 0.9717097\ttest: 0.9261084\tbest: 0.9272503 (316)\ttotal: 25.2s\tremaining: 52.7s\n",
      "324:\tlearn: 0.9717097\ttest: 0.9261084\tbest: 0.9272503 (316)\ttotal: 25.3s\tremaining: 52.6s\n",
      "325:\tlearn: 0.9721083\ttest: 0.9249692\tbest: 0.9272503 (316)\ttotal: 25.4s\tremaining: 52.5s\n",
      "326:\tlearn: 0.9717097\ttest: 0.9249692\tbest: 0.9272503 (316)\ttotal: 25.5s\tremaining: 52.4s\n",
      "327:\tlearn: 0.9721083\ttest: 0.9261084\tbest: 0.9272503 (316)\ttotal: 25.5s\tremaining: 52.3s\n",
      "328:\tlearn: 0.9729064\ttest: 0.9261084\tbest: 0.9272503 (316)\ttotal: 25.6s\tremaining: 52.2s\n",
      "329:\tlearn: 0.9729064\ttest: 0.9261084\tbest: 0.9272503 (316)\ttotal: 25.7s\tremaining: 52.2s\n",
      "330:\tlearn: 0.9729064\ttest: 0.9261084\tbest: 0.9272503 (316)\ttotal: 25.8s\tremaining: 52.1s\n",
      "331:\tlearn: 0.9729064\ttest: 0.9261084\tbest: 0.9272503 (316)\ttotal: 25.9s\tremaining: 52s\n",
      "332:\tlearn: 0.9733060\ttest: 0.9261084\tbest: 0.9272503 (316)\ttotal: 25.9s\tremaining: 52s\n",
      "333:\tlearn: 0.9737058\ttest: 0.9261084\tbest: 0.9272503 (316)\ttotal: 26s\tremaining: 51.9s\n",
      "334:\tlearn: 0.9737058\ttest: 0.9249692\tbest: 0.9272503 (316)\ttotal: 26.1s\tremaining: 51.8s\n",
      "335:\tlearn: 0.9737058\ttest: 0.9249692\tbest: 0.9272503 (316)\ttotal: 26.2s\tremaining: 51.7s\n",
      "336:\tlearn: 0.9733060\ttest: 0.9261084\tbest: 0.9272503 (316)\ttotal: 26.2s\tremaining: 51.6s\n",
      "337:\tlearn: 0.9729064\ttest: 0.9261084\tbest: 0.9272503 (316)\ttotal: 26.3s\tremaining: 51.6s\n",
      "338:\tlearn: 0.9733060\ttest: 0.9261084\tbest: 0.9272503 (316)\ttotal: 26.4s\tremaining: 51.5s\n",
      "339:\tlearn: 0.9733060\ttest: 0.9249692\tbest: 0.9272503 (316)\ttotal: 26.5s\tremaining: 51.4s\n",
      "340:\tlearn: 0.9733060\ttest: 0.9249692\tbest: 0.9272503 (316)\ttotal: 26.6s\tremaining: 51.3s\n",
      "341:\tlearn: 0.9733060\ttest: 0.9249692\tbest: 0.9272503 (316)\ttotal: 26.6s\tremaining: 51.2s\n",
      "342:\tlearn: 0.9733060\ttest: 0.9249692\tbest: 0.9272503 (316)\ttotal: 26.7s\tremaining: 51.2s\n",
      "343:\tlearn: 0.9729064\ttest: 0.9249692\tbest: 0.9272503 (316)\ttotal: 26.8s\tremaining: 51.1s\n",
      "344:\tlearn: 0.9729064\ttest: 0.9249692\tbest: 0.9272503 (316)\ttotal: 26.9s\tremaining: 51s\n",
      "345:\tlearn: 0.9729064\ttest: 0.9249692\tbest: 0.9272503 (316)\ttotal: 26.9s\tremaining: 50.9s\n",
      "346:\tlearn: 0.9741060\ttest: 0.9261084\tbest: 0.9272503 (316)\ttotal: 27s\tremaining: 50.8s\n",
      "347:\tlearn: 0.9745066\ttest: 0.9261084\tbest: 0.9272503 (316)\ttotal: 27.1s\tremaining: 50.7s\n",
      "348:\tlearn: 0.9749074\ttest: 0.9261084\tbest: 0.9272503 (316)\ttotal: 27.2s\tremaining: 50.7s\n",
      "349:\tlearn: 0.9749074\ttest: 0.9261084\tbest: 0.9272503 (316)\ttotal: 27.2s\tremaining: 50.6s\n",
      "350:\tlearn: 0.9749074\ttest: 0.9261084\tbest: 0.9272503 (316)\ttotal: 27.3s\tremaining: 50.5s\n",
      "351:\tlearn: 0.9753086\ttest: 0.9261084\tbest: 0.9272503 (316)\ttotal: 27.4s\tremaining: 50.5s\n",
      "352:\tlearn: 0.9753086\ttest: 0.9261084\tbest: 0.9272503 (316)\ttotal: 27.5s\tremaining: 50.4s\n",
      "353:\tlearn: 0.9753086\ttest: 0.9272503\tbest: 0.9272503 (316)\ttotal: 27.6s\tremaining: 50.3s\n",
      "354:\tlearn: 0.9757102\ttest: 0.9283951\tbest: 0.9283951 (354)\ttotal: 27.7s\tremaining: 50.3s\n",
      "355:\tlearn: 0.9757102\ttest: 0.9283951\tbest: 0.9283951 (354)\ttotal: 27.7s\tremaining: 50.2s\n",
      "356:\tlearn: 0.9757102\ttest: 0.9295426\tbest: 0.9295426 (356)\ttotal: 27.8s\tremaining: 50.1s\n",
      "357:\tlearn: 0.9757102\ttest: 0.9283951\tbest: 0.9295426 (356)\ttotal: 27.9s\tremaining: 50s\n",
      "358:\tlearn: 0.9757102\ttest: 0.9283951\tbest: 0.9295426 (356)\ttotal: 28s\tremaining: 50s\n",
      "359:\tlearn: 0.9757102\ttest: 0.9283951\tbest: 0.9295426 (356)\ttotal: 28.1s\tremaining: 49.9s\n",
      "360:\tlearn: 0.9757102\ttest: 0.9283951\tbest: 0.9295426 (356)\ttotal: 28.1s\tremaining: 49.8s\n",
      "361:\tlearn: 0.9757102\ttest: 0.9283951\tbest: 0.9295426 (356)\ttotal: 28.2s\tremaining: 49.7s\n",
      "362:\tlearn: 0.9757102\ttest: 0.9283951\tbest: 0.9295426 (356)\ttotal: 28.3s\tremaining: 49.6s\n",
      "363:\tlearn: 0.9757102\ttest: 0.9295426\tbest: 0.9295426 (356)\ttotal: 28.4s\tremaining: 49.5s\n",
      "364:\tlearn: 0.9757102\ttest: 0.9295426\tbest: 0.9295426 (356)\ttotal: 28.4s\tremaining: 49.5s\n",
      "365:\tlearn: 0.9757102\ttest: 0.9295426\tbest: 0.9295426 (356)\ttotal: 28.5s\tremaining: 49.4s\n",
      "366:\tlearn: 0.9757102\ttest: 0.9295426\tbest: 0.9295426 (356)\ttotal: 28.6s\tremaining: 49.3s\n",
      "367:\tlearn: 0.9757102\ttest: 0.9295426\tbest: 0.9295426 (356)\ttotal: 28.7s\tremaining: 49.2s\n",
      "368:\tlearn: 0.9757102\ttest: 0.9295426\tbest: 0.9295426 (356)\ttotal: 28.7s\tremaining: 49.2s\n",
      "369:\tlearn: 0.9757102\ttest: 0.9295426\tbest: 0.9295426 (356)\ttotal: 28.8s\tremaining: 49.1s\n",
      "370:\tlearn: 0.9757102\ttest: 0.9295426\tbest: 0.9295426 (356)\ttotal: 28.9s\tremaining: 49s\n",
      "371:\tlearn: 0.9761120\ttest: 0.9295426\tbest: 0.9295426 (356)\ttotal: 29s\tremaining: 49s\n",
      "372:\tlearn: 0.9757102\ttest: 0.9295426\tbest: 0.9295426 (356)\ttotal: 29.1s\tremaining: 48.9s\n",
      "373:\tlearn: 0.9757102\ttest: 0.9295426\tbest: 0.9295426 (356)\ttotal: 29.1s\tremaining: 48.8s\n",
      "374:\tlearn: 0.9757102\ttest: 0.9295426\tbest: 0.9295426 (356)\ttotal: 29.2s\tremaining: 48.7s\n",
      "375:\tlearn: 0.9757102\ttest: 0.9295426\tbest: 0.9295426 (356)\ttotal: 29.3s\tremaining: 48.6s\n",
      "376:\tlearn: 0.9757102\ttest: 0.9295426\tbest: 0.9295426 (356)\ttotal: 29.4s\tremaining: 48.6s\n",
      "377:\tlearn: 0.9757102\ttest: 0.9295426\tbest: 0.9295426 (356)\ttotal: 29.5s\tremaining: 48.5s\n",
      "378:\tlearn: 0.9757102\ttest: 0.9295426\tbest: 0.9295426 (356)\ttotal: 29.5s\tremaining: 48.4s\n",
      "379:\tlearn: 0.9757102\ttest: 0.9295426\tbest: 0.9295426 (356)\ttotal: 29.6s\tremaining: 48.3s\n",
      "380:\tlearn: 0.9757102\ttest: 0.9295426\tbest: 0.9295426 (356)\ttotal: 29.7s\tremaining: 48.2s\n",
      "381:\tlearn: 0.9757102\ttest: 0.9295426\tbest: 0.9295426 (356)\ttotal: 29.8s\tremaining: 48.2s\n",
      "382:\tlearn: 0.9757102\ttest: 0.9295426\tbest: 0.9295426 (356)\ttotal: 29.8s\tremaining: 48.1s\n",
      "383:\tlearn: 0.9757102\ttest: 0.9295426\tbest: 0.9295426 (356)\ttotal: 29.9s\tremaining: 48s\n",
      "384:\tlearn: 0.9761120\ttest: 0.9295426\tbest: 0.9295426 (356)\ttotal: 30s\tremaining: 47.9s\n",
      "385:\tlearn: 0.9761120\ttest: 0.9295426\tbest: 0.9295426 (356)\ttotal: 30.1s\tremaining: 47.8s\n",
      "386:\tlearn: 0.9757102\ttest: 0.9283951\tbest: 0.9295426 (356)\ttotal: 30.1s\tremaining: 47.7s\n",
      "387:\tlearn: 0.9761120\ttest: 0.9295426\tbest: 0.9295426 (356)\ttotal: 30.2s\tremaining: 47.7s\n",
      "388:\tlearn: 0.9761120\ttest: 0.9295426\tbest: 0.9295426 (356)\ttotal: 30.3s\tremaining: 47.6s\n",
      "389:\tlearn: 0.9769167\ttest: 0.9295426\tbest: 0.9295426 (356)\ttotal: 30.4s\tremaining: 47.5s\n",
      "390:\tlearn: 0.9769167\ttest: 0.9295426\tbest: 0.9295426 (356)\ttotal: 30.5s\tremaining: 47.5s\n",
      "391:\tlearn: 0.9769167\ttest: 0.9295426\tbest: 0.9295426 (356)\ttotal: 30.5s\tremaining: 47.4s\n",
      "392:\tlearn: 0.9765142\ttest: 0.9295426\tbest: 0.9295426 (356)\ttotal: 30.6s\tremaining: 47.3s\n",
      "393:\tlearn: 0.9765142\ttest: 0.9295426\tbest: 0.9295426 (356)\ttotal: 30.7s\tremaining: 47.2s\n",
      "394:\tlearn: 0.9769167\ttest: 0.9295426\tbest: 0.9295426 (356)\ttotal: 30.8s\tremaining: 47.1s\n",
      "395:\tlearn: 0.9769167\ttest: 0.9295426\tbest: 0.9295426 (356)\ttotal: 30.8s\tremaining: 47s\n",
      "396:\tlearn: 0.9769167\ttest: 0.9295426\tbest: 0.9295426 (356)\ttotal: 30.9s\tremaining: 47s\n",
      "397:\tlearn: 0.9773196\ttest: 0.9295426\tbest: 0.9295426 (356)\ttotal: 31s\tremaining: 46.9s\n",
      "398:\tlearn: 0.9769167\ttest: 0.9295426\tbest: 0.9295426 (356)\ttotal: 31.1s\tremaining: 46.8s\n",
      "399:\tlearn: 0.9769167\ttest: 0.9295426\tbest: 0.9295426 (356)\ttotal: 31.2s\tremaining: 46.7s\n",
      "400:\tlearn: 0.9769167\ttest: 0.9295426\tbest: 0.9295426 (356)\ttotal: 31.2s\tremaining: 46.6s\n",
      "401:\tlearn: 0.9769167\ttest: 0.9295426\tbest: 0.9295426 (356)\ttotal: 31.3s\tremaining: 46.6s\n",
      "402:\tlearn: 0.9769167\ttest: 0.9295426\tbest: 0.9295426 (356)\ttotal: 31.4s\tremaining: 46.5s\n",
      "403:\tlearn: 0.9769167\ttest: 0.9295426\tbest: 0.9295426 (356)\ttotal: 31.5s\tremaining: 46.4s\n",
      "404:\tlearn: 0.9769167\ttest: 0.9295426\tbest: 0.9295426 (356)\ttotal: 31.6s\tremaining: 46.4s\n",
      "405:\tlearn: 0.9773196\ttest: 0.9295426\tbest: 0.9295426 (356)\ttotal: 31.6s\tremaining: 46.3s\n",
      "406:\tlearn: 0.9773196\ttest: 0.9295426\tbest: 0.9295426 (356)\ttotal: 31.7s\tremaining: 46.2s\n",
      "407:\tlearn: 0.9773196\ttest: 0.9295426\tbest: 0.9295426 (356)\ttotal: 31.8s\tremaining: 46.1s\n",
      "408:\tlearn: 0.9773196\ttest: 0.9295426\tbest: 0.9295426 (356)\ttotal: 31.9s\tremaining: 46s\n",
      "409:\tlearn: 0.9769167\ttest: 0.9295426\tbest: 0.9295426 (356)\ttotal: 31.9s\tremaining: 46s\n",
      "410:\tlearn: 0.9769167\ttest: 0.9295426\tbest: 0.9295426 (356)\ttotal: 32s\tremaining: 45.9s\n",
      "411:\tlearn: 0.9769357\ttest: 0.9295426\tbest: 0.9295426 (356)\ttotal: 32.1s\tremaining: 45.8s\n",
      "412:\tlearn: 0.9769357\ttest: 0.9295426\tbest: 0.9295426 (356)\ttotal: 32.2s\tremaining: 45.7s\n",
      "413:\tlearn: 0.9773383\ttest: 0.9295426\tbest: 0.9295426 (356)\ttotal: 32.3s\tremaining: 45.7s\n",
      "414:\tlearn: 0.9773383\ttest: 0.9295426\tbest: 0.9295426 (356)\ttotal: 32.3s\tremaining: 45.6s\n",
      "415:\tlearn: 0.9773383\ttest: 0.9295426\tbest: 0.9295426 (356)\ttotal: 32.4s\tremaining: 45.5s\n",
      "416:\tlearn: 0.9773383\ttest: 0.9295426\tbest: 0.9295426 (356)\ttotal: 32.5s\tremaining: 45.4s\n",
      "417:\tlearn: 0.9769167\ttest: 0.9295426\tbest: 0.9295426 (356)\ttotal: 32.6s\tremaining: 45.4s\n",
      "418:\tlearn: 0.9769167\ttest: 0.9295426\tbest: 0.9295426 (356)\ttotal: 32.7s\tremaining: 45.3s\n",
      "419:\tlearn: 0.9777228\ttest: 0.9295426\tbest: 0.9295426 (356)\ttotal: 32.8s\tremaining: 45.2s\n",
      "420:\tlearn: 0.9777228\ttest: 0.9295426\tbest: 0.9295426 (356)\ttotal: 32.8s\tremaining: 45.2s\n",
      "421:\tlearn: 0.9777228\ttest: 0.9295426\tbest: 0.9295426 (356)\ttotal: 32.9s\tremaining: 45.1s\n",
      "422:\tlearn: 0.9777228\ttest: 0.9295426\tbest: 0.9295426 (356)\ttotal: 33s\tremaining: 45s\n",
      "423:\tlearn: 0.9781443\ttest: 0.9295426\tbest: 0.9295426 (356)\ttotal: 33.1s\tremaining: 44.9s\n",
      "424:\tlearn: 0.9781443\ttest: 0.9295426\tbest: 0.9295426 (356)\ttotal: 33.1s\tremaining: 44.8s\n",
      "425:\tlearn: 0.9785479\ttest: 0.9295426\tbest: 0.9295426 (356)\ttotal: 33.2s\tremaining: 44.8s\n",
      "426:\tlearn: 0.9789691\ttest: 0.9295426\tbest: 0.9295426 (356)\ttotal: 33.3s\tremaining: 44.7s\n",
      "427:\tlearn: 0.9789691\ttest: 0.9295426\tbest: 0.9295426 (356)\ttotal: 33.4s\tremaining: 44.6s\n",
      "428:\tlearn: 0.9797771\ttest: 0.9306931\tbest: 0.9306931 (428)\ttotal: 33.5s\tremaining: 44.5s\n",
      "429:\tlearn: 0.9801817\ttest: 0.9306931\tbest: 0.9306931 (428)\ttotal: 33.5s\tremaining: 44.4s\n",
      "430:\tlearn: 0.9797771\ttest: 0.9306931\tbest: 0.9306931 (428)\ttotal: 33.6s\tremaining: 44.4s\n",
      "431:\tlearn: 0.9801817\ttest: 0.9306931\tbest: 0.9306931 (428)\ttotal: 33.7s\tremaining: 44.3s\n",
      "432:\tlearn: 0.9801817\ttest: 0.9306931\tbest: 0.9306931 (428)\ttotal: 33.8s\tremaining: 44.2s\n",
      "433:\tlearn: 0.9801817\ttest: 0.9306931\tbest: 0.9306931 (428)\ttotal: 33.9s\tremaining: 44.2s\n",
      "434:\tlearn: 0.9797604\ttest: 0.9283951\tbest: 0.9306931 (428)\ttotal: 33.9s\tremaining: 44.1s\n",
      "435:\tlearn: 0.9797604\ttest: 0.9283951\tbest: 0.9306931 (428)\ttotal: 34s\tremaining: 44s\n",
      "436:\tlearn: 0.9793559\ttest: 0.9283951\tbest: 0.9306931 (428)\ttotal: 34.1s\tremaining: 43.9s\n",
      "437:\tlearn: 0.9793559\ttest: 0.9283951\tbest: 0.9306931 (428)\ttotal: 34.2s\tremaining: 43.8s\n",
      "438:\tlearn: 0.9789517\ttest: 0.9283951\tbest: 0.9306931 (428)\ttotal: 34.2s\tremaining: 43.8s\n",
      "439:\tlearn: 0.9789691\ttest: 0.9283951\tbest: 0.9306931 (428)\ttotal: 34.3s\tremaining: 43.7s\n",
      "440:\tlearn: 0.9801817\ttest: 0.9283951\tbest: 0.9306931 (428)\ttotal: 34.4s\tremaining: 43.6s\n",
      "441:\tlearn: 0.9801489\ttest: 0.9283951\tbest: 0.9306931 (428)\ttotal: 34.5s\tremaining: 43.5s\n",
      "442:\tlearn: 0.9813665\ttest: 0.9283951\tbest: 0.9306931 (428)\ttotal: 34.6s\tremaining: 43.4s\n",
      "443:\tlearn: 0.9813665\ttest: 0.9283951\tbest: 0.9306931 (428)\ttotal: 34.7s\tremaining: 43.4s\n",
      "444:\tlearn: 0.9813665\ttest: 0.9283951\tbest: 0.9306931 (428)\ttotal: 34.7s\tremaining: 43.3s\n",
      "445:\tlearn: 0.9817730\ttest: 0.9283951\tbest: 0.9306931 (428)\ttotal: 34.8s\tremaining: 43.2s\n",
      "446:\tlearn: 0.9817730\ttest: 0.9283951\tbest: 0.9306931 (428)\ttotal: 34.9s\tremaining: 43.1s\n",
      "447:\tlearn: 0.9826015\ttest: 0.9283951\tbest: 0.9306931 (428)\ttotal: 34.9s\tremaining: 43.1s\n",
      "448:\tlearn: 0.9830228\ttest: 0.9283951\tbest: 0.9306931 (428)\ttotal: 35s\tremaining: 43s\n",
      "449:\tlearn: 0.9834574\ttest: 0.9283951\tbest: 0.9306931 (428)\ttotal: 35.1s\tremaining: 42.9s\n",
      "450:\tlearn: 0.9834711\ttest: 0.9283951\tbest: 0.9306931 (428)\ttotal: 35.2s\tremaining: 42.8s\n",
      "451:\tlearn: 0.9834711\ttest: 0.9283951\tbest: 0.9306931 (428)\ttotal: 35.2s\tremaining: 42.7s\n",
      "452:\tlearn: 0.9847044\ttest: 0.9295426\tbest: 0.9306931 (428)\ttotal: 35.3s\tremaining: 42.6s\n",
      "453:\tlearn: 0.9851117\ttest: 0.9295426\tbest: 0.9306931 (428)\ttotal: 35.4s\tremaining: 42.6s\n",
      "454:\tlearn: 0.9855192\ttest: 0.9295426\tbest: 0.9306931 (428)\ttotal: 35.5s\tremaining: 42.5s\n",
      "455:\tlearn: 0.9859388\ttest: 0.9295426\tbest: 0.9306931 (428)\ttotal: 35.6s\tremaining: 42.4s\n",
      "456:\tlearn: 0.9867550\ttest: 0.9295426\tbest: 0.9306931 (428)\ttotal: 35.6s\tremaining: 42.4s\n",
      "457:\tlearn: 0.9867550\ttest: 0.9295426\tbest: 0.9306931 (428)\ttotal: 35.7s\tremaining: 42.3s\n",
      "458:\tlearn: 0.9879917\ttest: 0.9295426\tbest: 0.9306931 (428)\ttotal: 35.8s\tremaining: 42.2s\n",
      "459:\tlearn: 0.9875828\ttest: 0.9295426\tbest: 0.9306931 (428)\ttotal: 35.9s\tremaining: 42.1s\n",
      "460:\tlearn: 0.9875828\ttest: 0.9295426\tbest: 0.9306931 (428)\ttotal: 36s\tremaining: 42s\n",
      "461:\tlearn: 0.9875725\ttest: 0.9295426\tbest: 0.9306931 (428)\ttotal: 36s\tremaining: 42s\n",
      "462:\tlearn: 0.9888106\ttest: 0.9295426\tbest: 0.9306931 (428)\ttotal: 36.1s\tremaining: 41.9s\n",
      "463:\tlearn: 0.9908638\ttest: 0.9295426\tbest: 0.9306931 (428)\ttotal: 36.2s\tremaining: 41.8s\n",
      "464:\tlearn: 0.9908638\ttest: 0.9295426\tbest: 0.9306931 (428)\ttotal: 36.3s\tremaining: 41.7s\n",
      "465:\tlearn: 0.9925125\ttest: 0.9295426\tbest: 0.9306931 (428)\ttotal: 36.4s\tremaining: 41.7s\n",
      "466:\tlearn: 0.9945811\ttest: 0.9295426\tbest: 0.9306931 (428)\ttotal: 36.4s\tremaining: 41.6s\n",
      "467:\tlearn: 0.9949958\ttest: 0.9295426\tbest: 0.9306931 (428)\ttotal: 36.5s\tremaining: 41.5s\n",
      "468:\tlearn: 0.9970748\ttest: 0.9295426\tbest: 0.9306931 (428)\ttotal: 36.6s\tremaining: 41.4s\n",
      "469:\tlearn: 0.9966583\ttest: 0.9295426\tbest: 0.9306931 (428)\ttotal: 36.7s\tremaining: 41.3s\n",
      "470:\tlearn: 0.9958264\ttest: 0.9295426\tbest: 0.9306931 (428)\ttotal: 36.8s\tremaining: 41.3s\n",
      "471:\tlearn: 0.9979088\ttest: 0.9295426\tbest: 0.9306931 (428)\ttotal: 36.8s\tremaining: 41.2s\n",
      "472:\tlearn: 0.9979088\ttest: 0.9295426\tbest: 0.9306931 (428)\ttotal: 36.9s\tremaining: 41.1s\n",
      "473:\tlearn: 0.9974916\ttest: 0.9295426\tbest: 0.9306931 (428)\ttotal: 37s\tremaining: 41.1s\n",
      "474:\tlearn: 0.9954109\ttest: 0.9295426\tbest: 0.9306931 (428)\ttotal: 37.1s\tremaining: 41s\n",
      "475:\tlearn: 0.9974916\ttest: 0.9295426\tbest: 0.9306931 (428)\ttotal: 37.2s\tremaining: 40.9s\n",
      "476:\tlearn: 0.9991625\ttest: 0.9295426\tbest: 0.9306931 (428)\ttotal: 37.2s\tremaining: 40.8s\n",
      "477:\tlearn: 0.9991625\ttest: 0.9295426\tbest: 0.9306931 (428)\ttotal: 37.3s\tremaining: 40.8s\n",
      "478:\tlearn: 0.9991625\ttest: 0.9295426\tbest: 0.9306931 (428)\ttotal: 37.4s\tremaining: 40.7s\n",
      "479:\tlearn: 0.9991625\ttest: 0.9295426\tbest: 0.9306931 (428)\ttotal: 37.5s\tremaining: 40.6s\n",
      "480:\tlearn: 0.9991625\ttest: 0.9295426\tbest: 0.9306931 (428)\ttotal: 37.5s\tremaining: 40.5s\n",
      "481:\tlearn: 0.9991625\ttest: 0.9295426\tbest: 0.9306931 (428)\ttotal: 37.6s\tremaining: 40.4s\n",
      "482:\tlearn: 0.9991625\ttest: 0.9295426\tbest: 0.9306931 (428)\ttotal: 37.7s\tremaining: 40.4s\n",
      "483:\tlearn: 0.9991625\ttest: 0.9295426\tbest: 0.9306931 (428)\ttotal: 37.8s\tremaining: 40.3s\n",
      "484:\tlearn: 0.9991625\ttest: 0.9295426\tbest: 0.9306931 (428)\ttotal: 37.9s\tremaining: 40.2s\n",
      "485:\tlearn: 0.9991625\ttest: 0.9295426\tbest: 0.9306931 (428)\ttotal: 38s\tremaining: 40.1s\n",
      "486:\tlearn: 0.9991625\ttest: 0.9295426\tbest: 0.9306931 (428)\ttotal: 38s\tremaining: 40.1s\n",
      "487:\tlearn: 0.9991625\ttest: 0.9295426\tbest: 0.9306931 (428)\ttotal: 38.1s\tremaining: 40s\n",
      "488:\tlearn: 0.9991625\ttest: 0.9295426\tbest: 0.9306931 (428)\ttotal: 38.2s\tremaining: 39.9s\n",
      "489:\tlearn: 0.9991625\ttest: 0.9295426\tbest: 0.9306931 (428)\ttotal: 38.3s\tremaining: 39.8s\n",
      "490:\tlearn: 0.9991625\ttest: 0.9295426\tbest: 0.9306931 (428)\ttotal: 38.3s\tremaining: 39.7s\n",
      "491:\tlearn: 0.9991625\ttest: 0.9295426\tbest: 0.9306931 (428)\ttotal: 38.4s\tremaining: 39.7s\n",
      "492:\tlearn: 0.9991625\ttest: 0.9295426\tbest: 0.9306931 (428)\ttotal: 38.5s\tremaining: 39.6s\n",
      "493:\tlearn: 0.9991625\ttest: 0.9295426\tbest: 0.9306931 (428)\ttotal: 38.6s\tremaining: 39.5s\n",
      "494:\tlearn: 0.9991625\ttest: 0.9295426\tbest: 0.9306931 (428)\ttotal: 38.6s\tremaining: 39.4s\n",
      "495:\tlearn: 0.9991625\ttest: 0.9295426\tbest: 0.9306931 (428)\ttotal: 38.7s\tremaining: 39.3s\n",
      "496:\tlearn: 0.9991625\ttest: 0.9295426\tbest: 0.9306931 (428)\ttotal: 38.8s\tremaining: 39.3s\n",
      "497:\tlearn: 0.9991625\ttest: 0.9295426\tbest: 0.9306931 (428)\ttotal: 38.9s\tremaining: 39.2s\n",
      "498:\tlearn: 0.9991625\ttest: 0.9295426\tbest: 0.9306931 (428)\ttotal: 39s\tremaining: 39.1s\n",
      "499:\tlearn: 0.9991625\ttest: 0.9295426\tbest: 0.9306931 (428)\ttotal: 39.1s\tremaining: 39.1s\n",
      "500:\tlearn: 0.9991625\ttest: 0.9295426\tbest: 0.9306931 (428)\ttotal: 39.1s\tremaining: 39s\n",
      "501:\tlearn: 0.9991625\ttest: 0.9295426\tbest: 0.9306931 (428)\ttotal: 39.2s\tremaining: 38.9s\n",
      "502:\tlearn: 0.9991625\ttest: 0.9295426\tbest: 0.9306931 (428)\ttotal: 39.3s\tremaining: 38.8s\n",
      "503:\tlearn: 0.9991625\ttest: 0.9295426\tbest: 0.9306931 (428)\ttotal: 39.4s\tremaining: 38.7s\n",
      "504:\tlearn: 0.9991625\ttest: 0.9295426\tbest: 0.9306931 (428)\ttotal: 39.4s\tremaining: 38.7s\n",
      "505:\tlearn: 0.9991625\ttest: 0.9295426\tbest: 0.9306931 (428)\ttotal: 39.5s\tremaining: 38.6s\n",
      "506:\tlearn: 0.9991625\ttest: 0.9295426\tbest: 0.9306931 (428)\ttotal: 39.6s\tremaining: 38.5s\n",
      "507:\tlearn: 0.9991625\ttest: 0.9295426\tbest: 0.9306931 (428)\ttotal: 39.7s\tremaining: 38.4s\n",
      "508:\tlearn: 0.9991625\ttest: 0.9295426\tbest: 0.9306931 (428)\ttotal: 39.8s\tremaining: 38.3s\n",
      "509:\tlearn: 0.9991625\ttest: 0.9295426\tbest: 0.9306931 (428)\ttotal: 39.9s\tremaining: 38.3s\n",
      "510:\tlearn: 0.9991625\ttest: 0.9295426\tbest: 0.9306931 (428)\ttotal: 39.9s\tremaining: 38.2s\n",
      "511:\tlearn: 0.9991625\ttest: 0.9295426\tbest: 0.9306931 (428)\ttotal: 40s\tremaining: 38.1s\n",
      "512:\tlearn: 0.9991625\ttest: 0.9295426\tbest: 0.9306931 (428)\ttotal: 40.1s\tremaining: 38.1s\n",
      "513:\tlearn: 0.9991625\ttest: 0.9295426\tbest: 0.9306931 (428)\ttotal: 40.2s\tremaining: 38s\n",
      "514:\tlearn: 0.9991625\ttest: 0.9295426\tbest: 0.9306931 (428)\ttotal: 40.3s\tremaining: 37.9s\n",
      "515:\tlearn: 0.9991625\ttest: 0.9295426\tbest: 0.9306931 (428)\ttotal: 40.3s\tremaining: 37.8s\n",
      "516:\tlearn: 0.9991625\ttest: 0.9306931\tbest: 0.9306931 (428)\ttotal: 40.4s\tremaining: 37.8s\n",
      "517:\tlearn: 0.9991625\ttest: 0.9306931\tbest: 0.9306931 (428)\ttotal: 40.5s\tremaining: 37.7s\n",
      "518:\tlearn: 0.9991625\ttest: 0.9306931\tbest: 0.9306931 (428)\ttotal: 40.6s\tremaining: 37.6s\n",
      "519:\tlearn: 0.9991625\ttest: 0.9295426\tbest: 0.9306931 (428)\ttotal: 40.6s\tremaining: 37.5s\n",
      "520:\tlearn: 0.9991625\ttest: 0.9295426\tbest: 0.9306931 (428)\ttotal: 40.7s\tremaining: 37.4s\n",
      "521:\tlearn: 0.9991625\ttest: 0.9295426\tbest: 0.9306931 (428)\ttotal: 40.8s\tremaining: 37.4s\n",
      "522:\tlearn: 0.9991625\ttest: 0.9283951\tbest: 0.9306931 (428)\ttotal: 40.9s\tremaining: 37.3s\n",
      "523:\tlearn: 0.9991625\ttest: 0.9283951\tbest: 0.9306931 (428)\ttotal: 41s\tremaining: 37.2s\n",
      "524:\tlearn: 0.9991625\ttest: 0.9283951\tbest: 0.9306931 (428)\ttotal: 41.1s\tremaining: 37.1s\n",
      "525:\tlearn: 0.9991625\ttest: 0.9283951\tbest: 0.9306931 (428)\ttotal: 41.1s\tremaining: 37.1s\n",
      "526:\tlearn: 0.9991625\ttest: 0.9283951\tbest: 0.9306931 (428)\ttotal: 41.2s\tremaining: 37s\n",
      "527:\tlearn: 0.9991625\ttest: 0.9283951\tbest: 0.9306931 (428)\ttotal: 41.3s\tremaining: 36.9s\n",
      "528:\tlearn: 0.9991625\ttest: 0.9283951\tbest: 0.9306931 (428)\ttotal: 41.4s\tremaining: 36.8s\n",
      "529:\tlearn: 0.9991625\ttest: 0.9283951\tbest: 0.9306931 (428)\ttotal: 41.5s\tremaining: 36.8s\n",
      "530:\tlearn: 0.9991625\ttest: 0.9283951\tbest: 0.9306931 (428)\ttotal: 41.5s\tremaining: 36.7s\n",
      "531:\tlearn: 0.9991625\ttest: 0.9283951\tbest: 0.9306931 (428)\ttotal: 41.6s\tremaining: 36.6s\n",
      "532:\tlearn: 0.9991625\ttest: 0.9283951\tbest: 0.9306931 (428)\ttotal: 41.7s\tremaining: 36.5s\n",
      "533:\tlearn: 0.9991625\ttest: 0.9283951\tbest: 0.9306931 (428)\ttotal: 41.8s\tremaining: 36.4s\n",
      "534:\tlearn: 0.9991625\ttest: 0.9283951\tbest: 0.9306931 (428)\ttotal: 41.8s\tremaining: 36.4s\n",
      "535:\tlearn: 0.9991625\ttest: 0.9283951\tbest: 0.9306931 (428)\ttotal: 41.9s\tremaining: 36.3s\n",
      "536:\tlearn: 0.9991625\ttest: 0.9295426\tbest: 0.9306931 (428)\ttotal: 42s\tremaining: 36.2s\n",
      "537:\tlearn: 0.9991625\ttest: 0.9306931\tbest: 0.9306931 (428)\ttotal: 42.1s\tremaining: 36.1s\n",
      "538:\tlearn: 0.9991625\ttest: 0.9306931\tbest: 0.9306931 (428)\ttotal: 42.2s\tremaining: 36.1s\n",
      "539:\tlearn: 0.9991625\ttest: 0.9306931\tbest: 0.9306931 (428)\ttotal: 42.3s\tremaining: 36s\n",
      "540:\tlearn: 0.9991625\ttest: 0.9306931\tbest: 0.9306931 (428)\ttotal: 42.3s\tremaining: 35.9s\n",
      "541:\tlearn: 0.9991625\ttest: 0.9306931\tbest: 0.9306931 (428)\ttotal: 42.4s\tremaining: 35.8s\n",
      "542:\tlearn: 0.9991625\ttest: 0.9306931\tbest: 0.9306931 (428)\ttotal: 42.5s\tremaining: 35.8s\n",
      "543:\tlearn: 0.9991625\ttest: 0.9306931\tbest: 0.9306931 (428)\ttotal: 42.6s\tremaining: 35.7s\n",
      "544:\tlearn: 0.9991625\ttest: 0.9306931\tbest: 0.9306931 (428)\ttotal: 42.6s\tremaining: 35.6s\n",
      "545:\tlearn: 0.9991625\ttest: 0.9306931\tbest: 0.9306931 (428)\ttotal: 42.7s\tremaining: 35.5s\n",
      "546:\tlearn: 0.9991625\ttest: 0.9306931\tbest: 0.9306931 (428)\ttotal: 42.8s\tremaining: 35.4s\n",
      "547:\tlearn: 0.9991625\ttest: 0.9306931\tbest: 0.9306931 (428)\ttotal: 42.9s\tremaining: 35.4s\n",
      "548:\tlearn: 0.9991625\ttest: 0.9306931\tbest: 0.9306931 (428)\ttotal: 43s\tremaining: 35.3s\n",
      "549:\tlearn: 0.9991625\ttest: 0.9306931\tbest: 0.9306931 (428)\ttotal: 43s\tremaining: 35.2s\n",
      "550:\tlearn: 0.9991625\ttest: 0.9306931\tbest: 0.9306931 (428)\ttotal: 43.1s\tremaining: 35.1s\n",
      "551:\tlearn: 0.9991625\ttest: 0.9306931\tbest: 0.9306931 (428)\ttotal: 43.2s\tremaining: 35.1s\n",
      "552:\tlearn: 0.9991625\ttest: 0.9306931\tbest: 0.9306931 (428)\ttotal: 43.3s\tremaining: 35s\n",
      "553:\tlearn: 0.9991625\ttest: 0.9306931\tbest: 0.9306931 (428)\ttotal: 43.4s\tremaining: 34.9s\n",
      "554:\tlearn: 0.9991625\ttest: 0.9306931\tbest: 0.9306931 (428)\ttotal: 43.4s\tremaining: 34.8s\n",
      "555:\tlearn: 0.9991625\ttest: 0.9306931\tbest: 0.9306931 (428)\ttotal: 43.5s\tremaining: 34.8s\n",
      "556:\tlearn: 0.9991625\ttest: 0.9306931\tbest: 0.9306931 (428)\ttotal: 43.6s\tremaining: 34.7s\n",
      "557:\tlearn: 0.9991625\ttest: 0.9306931\tbest: 0.9306931 (428)\ttotal: 43.7s\tremaining: 34.6s\n",
      "558:\tlearn: 0.9991625\ttest: 0.9306931\tbest: 0.9306931 (428)\ttotal: 43.7s\tremaining: 34.5s\n",
      "559:\tlearn: 0.9991625\ttest: 0.9306931\tbest: 0.9306931 (428)\ttotal: 43.8s\tremaining: 34.4s\n",
      "560:\tlearn: 0.9991625\ttest: 0.9306931\tbest: 0.9306931 (428)\ttotal: 43.9s\tremaining: 34.4s\n",
      "561:\tlearn: 0.9991625\ttest: 0.9306931\tbest: 0.9306931 (428)\ttotal: 44s\tremaining: 34.3s\n",
      "562:\tlearn: 0.9991625\ttest: 0.9306931\tbest: 0.9306931 (428)\ttotal: 44.1s\tremaining: 34.2s\n",
      "563:\tlearn: 0.9991625\ttest: 0.9306931\tbest: 0.9306931 (428)\ttotal: 44.2s\tremaining: 34.1s\n",
      "564:\tlearn: 0.9991625\ttest: 0.9306931\tbest: 0.9306931 (428)\ttotal: 44.2s\tremaining: 34.1s\n",
      "565:\tlearn: 0.9991625\ttest: 0.9306931\tbest: 0.9306931 (428)\ttotal: 44.3s\tremaining: 34s\n",
      "566:\tlearn: 0.9991625\ttest: 0.9306931\tbest: 0.9306931 (428)\ttotal: 44.4s\tremaining: 33.9s\n",
      "567:\tlearn: 0.9991625\ttest: 0.9306931\tbest: 0.9306931 (428)\ttotal: 44.5s\tremaining: 33.8s\n",
      "568:\tlearn: 0.9991625\ttest: 0.9306931\tbest: 0.9306931 (428)\ttotal: 44.6s\tremaining: 33.7s\n",
      "569:\tlearn: 0.9991625\ttest: 0.9306931\tbest: 0.9306931 (428)\ttotal: 44.6s\tremaining: 33.7s\n",
      "570:\tlearn: 0.9991625\ttest: 0.9306931\tbest: 0.9306931 (428)\ttotal: 44.7s\tremaining: 33.6s\n",
      "571:\tlearn: 0.9991625\ttest: 0.9306931\tbest: 0.9306931 (428)\ttotal: 44.8s\tremaining: 33.5s\n",
      "572:\tlearn: 0.9991625\ttest: 0.9306931\tbest: 0.9306931 (428)\ttotal: 44.9s\tremaining: 33.4s\n",
      "573:\tlearn: 0.9991625\ttest: 0.9306931\tbest: 0.9306931 (428)\ttotal: 45s\tremaining: 33.4s\n",
      "574:\tlearn: 0.9991625\ttest: 0.9306931\tbest: 0.9306931 (428)\ttotal: 45.1s\tremaining: 33.3s\n",
      "575:\tlearn: 0.9991625\ttest: 0.9306931\tbest: 0.9306931 (428)\ttotal: 45.1s\tremaining: 33.2s\n",
      "576:\tlearn: 0.9991625\ttest: 0.9306931\tbest: 0.9306931 (428)\ttotal: 45.2s\tremaining: 33.1s\n",
      "577:\tlearn: 0.9991625\ttest: 0.9306931\tbest: 0.9306931 (428)\ttotal: 45.3s\tremaining: 33.1s\n",
      "578:\tlearn: 0.9991625\ttest: 0.9306931\tbest: 0.9306931 (428)\ttotal: 45.4s\tremaining: 33s\n",
      "579:\tlearn: 0.9991625\ttest: 0.9306931\tbest: 0.9306931 (428)\ttotal: 45.4s\tremaining: 32.9s\n",
      "580:\tlearn: 0.9991625\ttest: 0.9306931\tbest: 0.9306931 (428)\ttotal: 45.5s\tremaining: 32.8s\n",
      "581:\tlearn: 0.9991625\ttest: 0.9306931\tbest: 0.9306931 (428)\ttotal: 45.6s\tremaining: 32.8s\n",
      "582:\tlearn: 0.9991625\ttest: 0.9306931\tbest: 0.9306931 (428)\ttotal: 45.7s\tremaining: 32.7s\n",
      "583:\tlearn: 0.9991625\ttest: 0.9306931\tbest: 0.9306931 (428)\ttotal: 45.8s\tremaining: 32.6s\n",
      "584:\tlearn: 0.9991625\ttest: 0.9306931\tbest: 0.9306931 (428)\ttotal: 45.8s\tremaining: 32.5s\n",
      "585:\tlearn: 0.9991625\ttest: 0.9306931\tbest: 0.9306931 (428)\ttotal: 45.9s\tremaining: 32.4s\n",
      "586:\tlearn: 0.9991625\ttest: 0.9306931\tbest: 0.9306931 (428)\ttotal: 46s\tremaining: 32.4s\n",
      "587:\tlearn: 0.9991625\ttest: 0.9306931\tbest: 0.9306931 (428)\ttotal: 46.1s\tremaining: 32.3s\n",
      "588:\tlearn: 0.9991625\ttest: 0.9306931\tbest: 0.9306931 (428)\ttotal: 46.2s\tremaining: 32.2s\n",
      "589:\tlearn: 0.9991625\ttest: 0.9306931\tbest: 0.9306931 (428)\ttotal: 46.2s\tremaining: 32.1s\n",
      "590:\tlearn: 0.9991625\ttest: 0.9306931\tbest: 0.9306931 (428)\ttotal: 46.3s\tremaining: 32.1s\n",
      "591:\tlearn: 0.9991625\ttest: 0.9306931\tbest: 0.9306931 (428)\ttotal: 46.4s\tremaining: 32s\n",
      "592:\tlearn: 0.9991625\ttest: 0.9306931\tbest: 0.9306931 (428)\ttotal: 46.5s\tremaining: 31.9s\n",
      "593:\tlearn: 0.9991625\ttest: 0.9306931\tbest: 0.9306931 (428)\ttotal: 46.6s\tremaining: 31.8s\n",
      "594:\tlearn: 0.9991625\ttest: 0.9306931\tbest: 0.9306931 (428)\ttotal: 46.6s\tremaining: 31.8s\n",
      "595:\tlearn: 0.9991625\ttest: 0.9306931\tbest: 0.9306931 (428)\ttotal: 46.7s\tremaining: 31.7s\n",
      "596:\tlearn: 0.9991625\ttest: 0.9306931\tbest: 0.9306931 (428)\ttotal: 46.8s\tremaining: 31.6s\n",
      "597:\tlearn: 0.9991625\ttest: 0.9306931\tbest: 0.9306931 (428)\ttotal: 46.9s\tremaining: 31.5s\n",
      "598:\tlearn: 0.9991625\ttest: 0.9306931\tbest: 0.9306931 (428)\ttotal: 47s\tremaining: 31.4s\n",
      "599:\tlearn: 0.9991625\ttest: 0.9306931\tbest: 0.9306931 (428)\ttotal: 47s\tremaining: 31.4s\n",
      "600:\tlearn: 0.9991625\ttest: 0.9306931\tbest: 0.9306931 (428)\ttotal: 47.1s\tremaining: 31.3s\n",
      "601:\tlearn: 0.9991625\ttest: 0.9306931\tbest: 0.9306931 (428)\ttotal: 47.2s\tremaining: 31.2s\n",
      "602:\tlearn: 0.9991625\ttest: 0.9306931\tbest: 0.9306931 (428)\ttotal: 47.3s\tremaining: 31.1s\n",
      "603:\tlearn: 0.9991625\ttest: 0.9306931\tbest: 0.9306931 (428)\ttotal: 47.4s\tremaining: 31.1s\n",
      "604:\tlearn: 0.9991625\ttest: 0.9306931\tbest: 0.9306931 (428)\ttotal: 47.4s\tremaining: 31s\n",
      "605:\tlearn: 0.9991625\ttest: 0.9306931\tbest: 0.9306931 (428)\ttotal: 47.5s\tremaining: 30.9s\n",
      "606:\tlearn: 0.9991625\ttest: 0.9306931\tbest: 0.9306931 (428)\ttotal: 47.6s\tremaining: 30.8s\n",
      "607:\tlearn: 0.9991625\ttest: 0.9306931\tbest: 0.9306931 (428)\ttotal: 47.7s\tremaining: 30.7s\n",
      "608:\tlearn: 0.9991625\ttest: 0.9306931\tbest: 0.9306931 (428)\ttotal: 47.8s\tremaining: 30.7s\n",
      "609:\tlearn: 0.9991625\ttest: 0.9306931\tbest: 0.9306931 (428)\ttotal: 47.9s\tremaining: 30.6s\n",
      "610:\tlearn: 0.9991625\ttest: 0.9306931\tbest: 0.9306931 (428)\ttotal: 47.9s\tremaining: 30.5s\n",
      "611:\tlearn: 0.9991625\ttest: 0.9306931\tbest: 0.9306931 (428)\ttotal: 48s\tremaining: 30.4s\n",
      "612:\tlearn: 0.9991625\ttest: 0.9306931\tbest: 0.9306931 (428)\ttotal: 48.1s\tremaining: 30.4s\n",
      "613:\tlearn: 0.9991625\ttest: 0.9306931\tbest: 0.9306931 (428)\ttotal: 48.2s\tremaining: 30.3s\n",
      "614:\tlearn: 0.9991625\ttest: 0.9306931\tbest: 0.9306931 (428)\ttotal: 48.3s\tremaining: 30.2s\n",
      "615:\tlearn: 0.9991625\ttest: 0.9306931\tbest: 0.9306931 (428)\ttotal: 48.4s\tremaining: 30.1s\n",
      "616:\tlearn: 0.9991625\ttest: 0.9306931\tbest: 0.9306931 (428)\ttotal: 48.4s\tremaining: 30.1s\n",
      "617:\tlearn: 0.9991625\ttest: 0.9306931\tbest: 0.9306931 (428)\ttotal: 48.5s\tremaining: 30s\n",
      "618:\tlearn: 0.9991625\ttest: 0.9306931\tbest: 0.9306931 (428)\ttotal: 48.6s\tremaining: 29.9s\n",
      "619:\tlearn: 0.9991625\ttest: 0.9306931\tbest: 0.9306931 (428)\ttotal: 48.7s\tremaining: 29.8s\n",
      "620:\tlearn: 0.9991625\ttest: 0.9306931\tbest: 0.9306931 (428)\ttotal: 48.8s\tremaining: 29.8s\n",
      "621:\tlearn: 0.9991625\ttest: 0.9306931\tbest: 0.9306931 (428)\ttotal: 48.8s\tremaining: 29.7s\n",
      "622:\tlearn: 0.9991625\ttest: 0.9306931\tbest: 0.9306931 (428)\ttotal: 48.9s\tremaining: 29.6s\n",
      "623:\tlearn: 0.9991625\ttest: 0.9306931\tbest: 0.9306931 (428)\ttotal: 49s\tremaining: 29.5s\n",
      "624:\tlearn: 0.9991625\ttest: 0.9306931\tbest: 0.9306931 (428)\ttotal: 49.1s\tremaining: 29.4s\n",
      "625:\tlearn: 0.9991625\ttest: 0.9306931\tbest: 0.9306931 (428)\ttotal: 49.1s\tremaining: 29.4s\n",
      "626:\tlearn: 0.9991625\ttest: 0.9306931\tbest: 0.9306931 (428)\ttotal: 49.2s\tremaining: 29.3s\n",
      "627:\tlearn: 0.9991625\ttest: 0.9306931\tbest: 0.9306931 (428)\ttotal: 49.3s\tremaining: 29.2s\n",
      "628:\tlearn: 0.9991625\ttest: 0.9306931\tbest: 0.9306931 (428)\ttotal: 49.4s\tremaining: 29.1s\n",
      "629:\tlearn: 0.9991625\ttest: 0.9306931\tbest: 0.9306931 (428)\ttotal: 49.5s\tremaining: 29.1s\n",
      "630:\tlearn: 0.9991625\ttest: 0.9306931\tbest: 0.9306931 (428)\ttotal: 49.6s\tremaining: 29s\n",
      "631:\tlearn: 0.9991625\ttest: 0.9306931\tbest: 0.9306931 (428)\ttotal: 49.6s\tremaining: 28.9s\n",
      "632:\tlearn: 0.9991625\ttest: 0.9306931\tbest: 0.9306931 (428)\ttotal: 49.7s\tremaining: 28.8s\n",
      "633:\tlearn: 0.9991625\ttest: 0.9306931\tbest: 0.9306931 (428)\ttotal: 49.8s\tremaining: 28.7s\n",
      "634:\tlearn: 0.9991625\ttest: 0.9306931\tbest: 0.9306931 (428)\ttotal: 49.9s\tremaining: 28.7s\n",
      "635:\tlearn: 0.9991625\ttest: 0.9306931\tbest: 0.9306931 (428)\ttotal: 50s\tremaining: 28.6s\n",
      "636:\tlearn: 0.9991625\ttest: 0.9306931\tbest: 0.9306931 (428)\ttotal: 50s\tremaining: 28.5s\n",
      "637:\tlearn: 0.9991625\ttest: 0.9306931\tbest: 0.9306931 (428)\ttotal: 50.1s\tremaining: 28.4s\n",
      "638:\tlearn: 0.9991625\ttest: 0.9306931\tbest: 0.9306931 (428)\ttotal: 50.2s\tremaining: 28.3s\n",
      "639:\tlearn: 0.9991625\ttest: 0.9306931\tbest: 0.9306931 (428)\ttotal: 50.3s\tremaining: 28.3s\n",
      "640:\tlearn: 0.9991625\ttest: 0.9306931\tbest: 0.9306931 (428)\ttotal: 50.4s\tremaining: 28.2s\n",
      "641:\tlearn: 0.9991625\ttest: 0.9306931\tbest: 0.9306931 (428)\ttotal: 50.4s\tremaining: 28.1s\n",
      "642:\tlearn: 0.9991625\ttest: 0.9306931\tbest: 0.9306931 (428)\ttotal: 50.5s\tremaining: 28s\n",
      "643:\tlearn: 0.9991625\ttest: 0.9306931\tbest: 0.9306931 (428)\ttotal: 50.6s\tremaining: 28s\n",
      "644:\tlearn: 0.9991625\ttest: 0.9306931\tbest: 0.9306931 (428)\ttotal: 50.7s\tremaining: 27.9s\n",
      "645:\tlearn: 0.9991625\ttest: 0.9306931\tbest: 0.9306931 (428)\ttotal: 50.7s\tremaining: 27.8s\n",
      "646:\tlearn: 0.9991625\ttest: 0.9306931\tbest: 0.9306931 (428)\ttotal: 50.8s\tremaining: 27.7s\n",
      "647:\tlearn: 0.9991625\ttest: 0.9306931\tbest: 0.9306931 (428)\ttotal: 50.9s\tremaining: 27.6s\n",
      "648:\tlearn: 0.9991625\ttest: 0.9306931\tbest: 0.9306931 (428)\ttotal: 51s\tremaining: 27.6s\n",
      "649:\tlearn: 0.9991625\ttest: 0.9306931\tbest: 0.9306931 (428)\ttotal: 51.1s\tremaining: 27.5s\n",
      "650:\tlearn: 0.9991625\ttest: 0.9306931\tbest: 0.9306931 (428)\ttotal: 51.1s\tremaining: 27.4s\n",
      "651:\tlearn: 0.9991625\ttest: 0.9306931\tbest: 0.9306931 (428)\ttotal: 51.2s\tremaining: 27.3s\n",
      "652:\tlearn: 0.9991625\ttest: 0.9306931\tbest: 0.9306931 (428)\ttotal: 51.3s\tremaining: 27.3s\n",
      "653:\tlearn: 0.9991625\ttest: 0.9306931\tbest: 0.9306931 (428)\ttotal: 51.4s\tremaining: 27.2s\n",
      "654:\tlearn: 0.9991625\ttest: 0.9306931\tbest: 0.9306931 (428)\ttotal: 51.5s\tremaining: 27.1s\n",
      "655:\tlearn: 0.9991625\ttest: 0.9306931\tbest: 0.9306931 (428)\ttotal: 51.6s\tremaining: 27s\n",
      "656:\tlearn: 0.9991625\ttest: 0.9306931\tbest: 0.9306931 (428)\ttotal: 51.6s\tremaining: 27s\n",
      "657:\tlearn: 0.9991625\ttest: 0.9306931\tbest: 0.9306931 (428)\ttotal: 51.7s\tremaining: 26.9s\n",
      "658:\tlearn: 0.9991625\ttest: 0.9306931\tbest: 0.9306931 (428)\ttotal: 51.8s\tremaining: 26.8s\n",
      "659:\tlearn: 0.9991625\ttest: 0.9306931\tbest: 0.9306931 (428)\ttotal: 51.9s\tremaining: 26.7s\n",
      "660:\tlearn: 0.9991625\ttest: 0.9306931\tbest: 0.9306931 (428)\ttotal: 52s\tremaining: 26.7s\n",
      "661:\tlearn: 0.9991625\ttest: 0.9306931\tbest: 0.9306931 (428)\ttotal: 52.1s\tremaining: 26.6s\n",
      "662:\tlearn: 0.9991625\ttest: 0.9306931\tbest: 0.9306931 (428)\ttotal: 52.1s\tremaining: 26.5s\n",
      "663:\tlearn: 0.9991625\ttest: 0.9306931\tbest: 0.9306931 (428)\ttotal: 52.2s\tremaining: 26.4s\n",
      "664:\tlearn: 0.9991625\ttest: 0.9306931\tbest: 0.9306931 (428)\ttotal: 52.3s\tremaining: 26.3s\n",
      "665:\tlearn: 0.9991625\ttest: 0.9306931\tbest: 0.9306931 (428)\ttotal: 52.4s\tremaining: 26.3s\n",
      "666:\tlearn: 0.9991625\ttest: 0.9306931\tbest: 0.9306931 (428)\ttotal: 52.5s\tremaining: 26.2s\n",
      "667:\tlearn: 0.9991625\ttest: 0.9306931\tbest: 0.9306931 (428)\ttotal: 52.6s\tremaining: 26.2s\n",
      "668:\tlearn: 0.9991625\ttest: 0.9306931\tbest: 0.9306931 (428)\ttotal: 52.7s\tremaining: 26.1s\n",
      "669:\tlearn: 0.9991625\ttest: 0.9306931\tbest: 0.9306931 (428)\ttotal: 52.8s\tremaining: 26s\n",
      "670:\tlearn: 0.9991625\ttest: 0.9306931\tbest: 0.9306931 (428)\ttotal: 52.8s\tremaining: 25.9s\n",
      "671:\tlearn: 0.9991625\ttest: 0.9306931\tbest: 0.9306931 (428)\ttotal: 52.9s\tremaining: 25.8s\n",
      "672:\tlearn: 0.9991625\ttest: 0.9306931\tbest: 0.9306931 (428)\ttotal: 53s\tremaining: 25.7s\n",
      "673:\tlearn: 0.9991625\ttest: 0.9306931\tbest: 0.9306931 (428)\ttotal: 53.1s\tremaining: 25.7s\n",
      "674:\tlearn: 0.9991625\ttest: 0.9306931\tbest: 0.9306931 (428)\ttotal: 53.2s\tremaining: 25.6s\n",
      "675:\tlearn: 0.9991625\ttest: 0.9306931\tbest: 0.9306931 (428)\ttotal: 53.2s\tremaining: 25.5s\n",
      "676:\tlearn: 0.9991625\ttest: 0.9306931\tbest: 0.9306931 (428)\ttotal: 53.3s\tremaining: 25.4s\n",
      "677:\tlearn: 0.9991625\ttest: 0.9306931\tbest: 0.9306931 (428)\ttotal: 53.4s\tremaining: 25.4s\n",
      "678:\tlearn: 0.9991625\ttest: 0.9306931\tbest: 0.9306931 (428)\ttotal: 53.5s\tremaining: 25.3s\n",
      "679:\tlearn: 0.9991625\ttest: 0.9306931\tbest: 0.9306931 (428)\ttotal: 53.6s\tremaining: 25.2s\n",
      "680:\tlearn: 0.9991625\ttest: 0.9306931\tbest: 0.9306931 (428)\ttotal: 53.7s\tremaining: 25.1s\n",
      "681:\tlearn: 0.9991625\ttest: 0.9306931\tbest: 0.9306931 (428)\ttotal: 53.8s\tremaining: 25.1s\n",
      "682:\tlearn: 0.9991625\ttest: 0.9306931\tbest: 0.9306931 (428)\ttotal: 53.8s\tremaining: 25s\n",
      "683:\tlearn: 0.9991625\ttest: 0.9306931\tbest: 0.9306931 (428)\ttotal: 53.9s\tremaining: 24.9s\n",
      "684:\tlearn: 0.9991625\ttest: 0.9306931\tbest: 0.9306931 (428)\ttotal: 54s\tremaining: 24.8s\n",
      "685:\tlearn: 0.9991625\ttest: 0.9306931\tbest: 0.9306931 (428)\ttotal: 54.1s\tremaining: 24.7s\n",
      "686:\tlearn: 0.9991625\ttest: 0.9306931\tbest: 0.9306931 (428)\ttotal: 54.1s\tremaining: 24.7s\n",
      "687:\tlearn: 0.9991625\ttest: 0.9306931\tbest: 0.9306931 (428)\ttotal: 54.2s\tremaining: 24.6s\n",
      "688:\tlearn: 0.9991625\ttest: 0.9306931\tbest: 0.9306931 (428)\ttotal: 54.3s\tremaining: 24.5s\n",
      "689:\tlearn: 0.9991625\ttest: 0.9306931\tbest: 0.9306931 (428)\ttotal: 54.4s\tremaining: 24.4s\n",
      "690:\tlearn: 0.9991625\ttest: 0.9306931\tbest: 0.9306931 (428)\ttotal: 54.5s\tremaining: 24.4s\n",
      "691:\tlearn: 0.9991625\ttest: 0.9306931\tbest: 0.9306931 (428)\ttotal: 54.6s\tremaining: 24.3s\n",
      "692:\tlearn: 0.9991625\ttest: 0.9306931\tbest: 0.9306931 (428)\ttotal: 54.7s\tremaining: 24.2s\n",
      "693:\tlearn: 0.9991625\ttest: 0.9306931\tbest: 0.9306931 (428)\ttotal: 54.7s\tremaining: 24.1s\n",
      "694:\tlearn: 0.9991625\ttest: 0.9306931\tbest: 0.9306931 (428)\ttotal: 54.8s\tremaining: 24.1s\n",
      "695:\tlearn: 0.9991625\ttest: 0.9306931\tbest: 0.9306931 (428)\ttotal: 54.9s\tremaining: 24s\n",
      "696:\tlearn: 0.9991625\ttest: 0.9306931\tbest: 0.9306931 (428)\ttotal: 55s\tremaining: 23.9s\n",
      "697:\tlearn: 0.9991625\ttest: 0.9306931\tbest: 0.9306931 (428)\ttotal: 55.1s\tremaining: 23.8s\n",
      "698:\tlearn: 0.9991625\ttest: 0.9306931\tbest: 0.9306931 (428)\ttotal: 55.1s\tremaining: 23.7s\n",
      "699:\tlearn: 0.9991625\ttest: 0.9306931\tbest: 0.9306931 (428)\ttotal: 55.2s\tremaining: 23.7s\n",
      "700:\tlearn: 0.9991625\ttest: 0.9306931\tbest: 0.9306931 (428)\ttotal: 55.3s\tremaining: 23.6s\n",
      "701:\tlearn: 0.9991625\ttest: 0.9306931\tbest: 0.9306931 (428)\ttotal: 55.4s\tremaining: 23.5s\n",
      "702:\tlearn: 0.9991625\ttest: 0.9306931\tbest: 0.9306931 (428)\ttotal: 55.5s\tremaining: 23.4s\n",
      "703:\tlearn: 0.9991625\ttest: 0.9306931\tbest: 0.9306931 (428)\ttotal: 55.5s\tremaining: 23.4s\n",
      "704:\tlearn: 0.9991625\ttest: 0.9306931\tbest: 0.9306931 (428)\ttotal: 55.6s\tremaining: 23.3s\n",
      "705:\tlearn: 0.9991625\ttest: 0.9306931\tbest: 0.9306931 (428)\ttotal: 55.7s\tremaining: 23.2s\n",
      "706:\tlearn: 0.9991625\ttest: 0.9306931\tbest: 0.9306931 (428)\ttotal: 55.8s\tremaining: 23.1s\n",
      "707:\tlearn: 0.9991625\ttest: 0.9306931\tbest: 0.9306931 (428)\ttotal: 55.9s\tremaining: 23.1s\n",
      "708:\tlearn: 0.9991625\ttest: 0.9306931\tbest: 0.9306931 (428)\ttotal: 56s\tremaining: 23s\n",
      "709:\tlearn: 0.9991625\ttest: 0.9306931\tbest: 0.9306931 (428)\ttotal: 56.1s\tremaining: 22.9s\n",
      "710:\tlearn: 0.9991625\ttest: 0.9306931\tbest: 0.9306931 (428)\ttotal: 56.1s\tremaining: 22.8s\n",
      "711:\tlearn: 0.9991625\ttest: 0.9306931\tbest: 0.9306931 (428)\ttotal: 56.2s\tremaining: 22.7s\n",
      "712:\tlearn: 0.9991625\ttest: 0.9306931\tbest: 0.9306931 (428)\ttotal: 56.3s\tremaining: 22.7s\n",
      "713:\tlearn: 0.9991625\ttest: 0.9306931\tbest: 0.9306931 (428)\ttotal: 56.4s\tremaining: 22.6s\n",
      "714:\tlearn: 0.9991625\ttest: 0.9306931\tbest: 0.9306931 (428)\ttotal: 56.5s\tremaining: 22.5s\n",
      "715:\tlearn: 0.9991625\ttest: 0.9306931\tbest: 0.9306931 (428)\ttotal: 56.6s\tremaining: 22.4s\n",
      "716:\tlearn: 0.9991625\ttest: 0.9306931\tbest: 0.9306931 (428)\ttotal: 56.6s\tremaining: 22.4s\n",
      "717:\tlearn: 0.9991625\ttest: 0.9306931\tbest: 0.9306931 (428)\ttotal: 56.7s\tremaining: 22.3s\n",
      "718:\tlearn: 0.9991625\ttest: 0.9306931\tbest: 0.9306931 (428)\ttotal: 56.8s\tremaining: 22.2s\n",
      "719:\tlearn: 0.9991625\ttest: 0.9306931\tbest: 0.9306931 (428)\ttotal: 56.9s\tremaining: 22.1s\n",
      "720:\tlearn: 0.9991625\ttest: 0.9306931\tbest: 0.9306931 (428)\ttotal: 57s\tremaining: 22s\n",
      "721:\tlearn: 0.9991625\ttest: 0.9306931\tbest: 0.9306931 (428)\ttotal: 57.1s\tremaining: 22s\n",
      "722:\tlearn: 0.9991625\ttest: 0.9306931\tbest: 0.9306931 (428)\ttotal: 57.1s\tremaining: 21.9s\n",
      "723:\tlearn: 0.9991625\ttest: 0.9306931\tbest: 0.9306931 (428)\ttotal: 57.2s\tremaining: 21.8s\n",
      "724:\tlearn: 0.9991625\ttest: 0.9306931\tbest: 0.9306931 (428)\ttotal: 57.3s\tremaining: 21.7s\n",
      "725:\tlearn: 0.9991625\ttest: 0.9306931\tbest: 0.9306931 (428)\ttotal: 57.4s\tremaining: 21.7s\n",
      "726:\tlearn: 0.9991625\ttest: 0.9306931\tbest: 0.9306931 (428)\ttotal: 57.5s\tremaining: 21.6s\n",
      "727:\tlearn: 0.9991625\ttest: 0.9306931\tbest: 0.9306931 (428)\ttotal: 57.5s\tremaining: 21.5s\n",
      "728:\tlearn: 0.9991625\ttest: 0.9306931\tbest: 0.9306931 (428)\ttotal: 57.6s\tremaining: 21.4s\n",
      "729:\tlearn: 0.9991625\ttest: 0.9306931\tbest: 0.9306931 (428)\ttotal: 57.7s\tremaining: 21.3s\n",
      "730:\tlearn: 0.9991625\ttest: 0.9306931\tbest: 0.9306931 (428)\ttotal: 57.8s\tremaining: 21.3s\n",
      "731:\tlearn: 0.9991625\ttest: 0.9306931\tbest: 0.9306931 (428)\ttotal: 57.9s\tremaining: 21.2s\n",
      "732:\tlearn: 0.9991625\ttest: 0.9306931\tbest: 0.9306931 (428)\ttotal: 58s\tremaining: 21.1s\n",
      "733:\tlearn: 0.9991625\ttest: 0.9306931\tbest: 0.9306931 (428)\ttotal: 58s\tremaining: 21s\n",
      "734:\tlearn: 0.9991625\ttest: 0.9306931\tbest: 0.9306931 (428)\ttotal: 58.1s\tremaining: 21s\n",
      "735:\tlearn: 0.9991625\ttest: 0.9306931\tbest: 0.9306931 (428)\ttotal: 58.2s\tremaining: 20.9s\n",
      "736:\tlearn: 0.9991625\ttest: 0.9306931\tbest: 0.9306931 (428)\ttotal: 58.3s\tremaining: 20.8s\n",
      "737:\tlearn: 0.9991625\ttest: 0.9306931\tbest: 0.9306931 (428)\ttotal: 58.4s\tremaining: 20.7s\n",
      "738:\tlearn: 0.9991625\ttest: 0.9306931\tbest: 0.9306931 (428)\ttotal: 58.4s\tremaining: 20.6s\n",
      "739:\tlearn: 0.9991625\ttest: 0.9306931\tbest: 0.9306931 (428)\ttotal: 58.5s\tremaining: 20.6s\n",
      "740:\tlearn: 0.9991625\ttest: 0.9306931\tbest: 0.9306931 (428)\ttotal: 58.6s\tremaining: 20.5s\n",
      "741:\tlearn: 0.9991625\ttest: 0.9306931\tbest: 0.9306931 (428)\ttotal: 58.7s\tremaining: 20.4s\n",
      "742:\tlearn: 0.9991625\ttest: 0.9306931\tbest: 0.9306931 (428)\ttotal: 58.8s\tremaining: 20.3s\n",
      "743:\tlearn: 0.9991625\ttest: 0.9306931\tbest: 0.9306931 (428)\ttotal: 58.8s\tremaining: 20.2s\n",
      "744:\tlearn: 0.9991625\ttest: 0.9306931\tbest: 0.9306931 (428)\ttotal: 58.9s\tremaining: 20.2s\n",
      "745:\tlearn: 0.9991625\ttest: 0.9306931\tbest: 0.9306931 (428)\ttotal: 59s\tremaining: 20.1s\n",
      "746:\tlearn: 0.9991625\ttest: 0.9318463\tbest: 0.9318463 (746)\ttotal: 59.1s\tremaining: 20s\n",
      "747:\tlearn: 0.9991625\ttest: 0.9318463\tbest: 0.9318463 (746)\ttotal: 59.1s\tremaining: 19.9s\n",
      "748:\tlearn: 0.9991625\ttest: 0.9318463\tbest: 0.9318463 (746)\ttotal: 59.2s\tremaining: 19.8s\n",
      "749:\tlearn: 0.9991625\ttest: 0.9318463\tbest: 0.9318463 (746)\ttotal: 59.3s\tremaining: 19.8s\n",
      "750:\tlearn: 0.9991625\ttest: 0.9318463\tbest: 0.9318463 (746)\ttotal: 59.4s\tremaining: 19.7s\n",
      "751:\tlearn: 0.9991625\ttest: 0.9306931\tbest: 0.9318463 (746)\ttotal: 59.5s\tremaining: 19.6s\n",
      "752:\tlearn: 0.9991625\ttest: 0.9306931\tbest: 0.9318463 (746)\ttotal: 59.5s\tremaining: 19.5s\n",
      "753:\tlearn: 0.9991625\ttest: 0.9306931\tbest: 0.9318463 (746)\ttotal: 59.6s\tremaining: 19.4s\n",
      "754:\tlearn: 0.9991625\ttest: 0.9306931\tbest: 0.9318463 (746)\ttotal: 59.7s\tremaining: 19.4s\n",
      "755:\tlearn: 0.9991625\ttest: 0.9306931\tbest: 0.9318463 (746)\ttotal: 59.8s\tremaining: 19.3s\n",
      "756:\tlearn: 0.9991625\ttest: 0.9306931\tbest: 0.9318463 (746)\ttotal: 59.8s\tremaining: 19.2s\n",
      "757:\tlearn: 0.9991625\ttest: 0.9306931\tbest: 0.9318463 (746)\ttotal: 59.9s\tremaining: 19.1s\n",
      "758:\tlearn: 0.9991625\ttest: 0.9306931\tbest: 0.9318463 (746)\ttotal: 1m\tremaining: 19.1s\n",
      "759:\tlearn: 0.9991625\ttest: 0.9295426\tbest: 0.9318463 (746)\ttotal: 1m\tremaining: 19s\n",
      "760:\tlearn: 0.9991625\ttest: 0.9295426\tbest: 0.9318463 (746)\ttotal: 1m\tremaining: 18.9s\n",
      "761:\tlearn: 0.9991625\ttest: 0.9295426\tbest: 0.9318463 (746)\ttotal: 1m\tremaining: 18.8s\n",
      "762:\tlearn: 0.9991625\ttest: 0.9295426\tbest: 0.9318463 (746)\ttotal: 1m\tremaining: 18.7s\n",
      "763:\tlearn: 0.9991625\ttest: 0.9295426\tbest: 0.9318463 (746)\ttotal: 1m\tremaining: 18.7s\n",
      "764:\tlearn: 0.9991625\ttest: 0.9295426\tbest: 0.9318463 (746)\ttotal: 1m\tremaining: 18.6s\n",
      "765:\tlearn: 0.9991625\ttest: 0.9306931\tbest: 0.9318463 (746)\ttotal: 1m\tremaining: 18.5s\n",
      "766:\tlearn: 0.9991625\ttest: 0.9306931\tbest: 0.9318463 (746)\ttotal: 1m\tremaining: 18.4s\n",
      "767:\tlearn: 0.9991625\ttest: 0.9306931\tbest: 0.9318463 (746)\ttotal: 1m\tremaining: 18.4s\n",
      "768:\tlearn: 0.9991625\ttest: 0.9306931\tbest: 0.9318463 (746)\ttotal: 1m\tremaining: 18.3s\n",
      "769:\tlearn: 0.9991625\ttest: 0.9306931\tbest: 0.9318463 (746)\ttotal: 1m\tremaining: 18.2s\n",
      "770:\tlearn: 0.9991625\ttest: 0.9306931\tbest: 0.9318463 (746)\ttotal: 1m\tremaining: 18.1s\n",
      "771:\tlearn: 0.9991625\ttest: 0.9306931\tbest: 0.9318463 (746)\ttotal: 1m 1s\tremaining: 18s\n",
      "772:\tlearn: 0.9991625\ttest: 0.9306931\tbest: 0.9318463 (746)\ttotal: 1m 1s\tremaining: 18s\n",
      "773:\tlearn: 0.9991625\ttest: 0.9306931\tbest: 0.9318463 (746)\ttotal: 1m 1s\tremaining: 17.9s\n",
      "774:\tlearn: 0.9991625\ttest: 0.9306931\tbest: 0.9318463 (746)\ttotal: 1m 1s\tremaining: 17.8s\n",
      "775:\tlearn: 0.9991625\ttest: 0.9306931\tbest: 0.9318463 (746)\ttotal: 1m 1s\tremaining: 17.7s\n",
      "776:\tlearn: 0.9991625\ttest: 0.9306931\tbest: 0.9318463 (746)\ttotal: 1m 1s\tremaining: 17.6s\n",
      "777:\tlearn: 0.9991625\ttest: 0.9295426\tbest: 0.9318463 (746)\ttotal: 1m 1s\tremaining: 17.6s\n",
      "778:\tlearn: 0.9991625\ttest: 0.9295426\tbest: 0.9318463 (746)\ttotal: 1m 1s\tremaining: 17.5s\n",
      "779:\tlearn: 0.9991625\ttest: 0.9295426\tbest: 0.9318463 (746)\ttotal: 1m 1s\tremaining: 17.4s\n",
      "780:\tlearn: 0.9991625\ttest: 0.9295426\tbest: 0.9318463 (746)\ttotal: 1m 1s\tremaining: 17.3s\n",
      "781:\tlearn: 0.9991625\ttest: 0.9295426\tbest: 0.9318463 (746)\ttotal: 1m 1s\tremaining: 17.2s\n",
      "782:\tlearn: 0.9991625\ttest: 0.9295426\tbest: 0.9318463 (746)\ttotal: 1m 1s\tremaining: 17.2s\n",
      "783:\tlearn: 0.9991625\ttest: 0.9295426\tbest: 0.9318463 (746)\ttotal: 1m 2s\tremaining: 17.1s\n",
      "784:\tlearn: 0.9991625\ttest: 0.9295426\tbest: 0.9318463 (746)\ttotal: 1m 2s\tremaining: 17s\n",
      "785:\tlearn: 0.9991625\ttest: 0.9295426\tbest: 0.9318463 (746)\ttotal: 1m 2s\tremaining: 16.9s\n",
      "786:\tlearn: 0.9991625\ttest: 0.9295426\tbest: 0.9318463 (746)\ttotal: 1m 2s\tremaining: 16.9s\n",
      "787:\tlearn: 0.9991625\ttest: 0.9295426\tbest: 0.9318463 (746)\ttotal: 1m 2s\tremaining: 16.8s\n",
      "788:\tlearn: 0.9991625\ttest: 0.9295426\tbest: 0.9318463 (746)\ttotal: 1m 2s\tremaining: 16.7s\n",
      "789:\tlearn: 0.9991625\ttest: 0.9306931\tbest: 0.9318463 (746)\ttotal: 1m 2s\tremaining: 16.6s\n",
      "790:\tlearn: 0.9991625\ttest: 0.9306931\tbest: 0.9318463 (746)\ttotal: 1m 2s\tremaining: 16.5s\n",
      "791:\tlearn: 0.9991625\ttest: 0.9306931\tbest: 0.9318463 (746)\ttotal: 1m 2s\tremaining: 16.4s\n",
      "792:\tlearn: 0.9991625\ttest: 0.9306931\tbest: 0.9318463 (746)\ttotal: 1m 2s\tremaining: 16.4s\n",
      "793:\tlearn: 0.9991625\ttest: 0.9306931\tbest: 0.9318463 (746)\ttotal: 1m 2s\tremaining: 16.3s\n",
      "794:\tlearn: 0.9991625\ttest: 0.9306931\tbest: 0.9318463 (746)\ttotal: 1m 2s\tremaining: 16.2s\n",
      "795:\tlearn: 0.9991625\ttest: 0.9306931\tbest: 0.9318463 (746)\ttotal: 1m 2s\tremaining: 16.1s\n",
      "796:\tlearn: 0.9991625\ttest: 0.9306931\tbest: 0.9318463 (746)\ttotal: 1m 3s\tremaining: 16s\n",
      "797:\tlearn: 0.9991625\ttest: 0.9306931\tbest: 0.9318463 (746)\ttotal: 1m 3s\tremaining: 16s\n",
      "798:\tlearn: 0.9991625\ttest: 0.9306931\tbest: 0.9318463 (746)\ttotal: 1m 3s\tremaining: 15.9s\n",
      "799:\tlearn: 0.9991625\ttest: 0.9306931\tbest: 0.9318463 (746)\ttotal: 1m 3s\tremaining: 15.8s\n",
      "800:\tlearn: 0.9991625\ttest: 0.9306931\tbest: 0.9318463 (746)\ttotal: 1m 3s\tremaining: 15.7s\n",
      "801:\tlearn: 0.9991625\ttest: 0.9306931\tbest: 0.9318463 (746)\ttotal: 1m 3s\tremaining: 15.7s\n",
      "802:\tlearn: 0.9991625\ttest: 0.9306931\tbest: 0.9318463 (746)\ttotal: 1m 3s\tremaining: 15.6s\n",
      "803:\tlearn: 0.9991625\ttest: 0.9306931\tbest: 0.9318463 (746)\ttotal: 1m 3s\tremaining: 15.5s\n",
      "804:\tlearn: 0.9991625\ttest: 0.9306931\tbest: 0.9318463 (746)\ttotal: 1m 3s\tremaining: 15.4s\n",
      "805:\tlearn: 0.9991625\ttest: 0.9306931\tbest: 0.9318463 (746)\ttotal: 1m 3s\tremaining: 15.3s\n",
      "806:\tlearn: 0.9991625\ttest: 0.9306931\tbest: 0.9318463 (746)\ttotal: 1m 3s\tremaining: 15.3s\n",
      "807:\tlearn: 0.9991625\ttest: 0.9306931\tbest: 0.9318463 (746)\ttotal: 1m 3s\tremaining: 15.2s\n",
      "808:\tlearn: 0.9991625\ttest: 0.9306931\tbest: 0.9318463 (746)\ttotal: 1m 3s\tremaining: 15.1s\n",
      "809:\tlearn: 0.9991625\ttest: 0.9306931\tbest: 0.9318463 (746)\ttotal: 1m 4s\tremaining: 15s\n",
      "810:\tlearn: 0.9991625\ttest: 0.9306931\tbest: 0.9318463 (746)\ttotal: 1m 4s\tremaining: 14.9s\n",
      "811:\tlearn: 0.9991625\ttest: 0.9306931\tbest: 0.9318463 (746)\ttotal: 1m 4s\tremaining: 14.9s\n",
      "812:\tlearn: 0.9991625\ttest: 0.9306931\tbest: 0.9318463 (746)\ttotal: 1m 4s\tremaining: 14.8s\n",
      "813:\tlearn: 0.9991625\ttest: 0.9306931\tbest: 0.9318463 (746)\ttotal: 1m 4s\tremaining: 14.7s\n",
      "814:\tlearn: 0.9991625\ttest: 0.9306931\tbest: 0.9318463 (746)\ttotal: 1m 4s\tremaining: 14.6s\n",
      "815:\tlearn: 0.9991625\ttest: 0.9306931\tbest: 0.9318463 (746)\ttotal: 1m 4s\tremaining: 14.6s\n",
      "816:\tlearn: 0.9991625\ttest: 0.9306931\tbest: 0.9318463 (746)\ttotal: 1m 4s\tremaining: 14.5s\n",
      "817:\tlearn: 0.9991625\ttest: 0.9318463\tbest: 0.9318463 (746)\ttotal: 1m 4s\tremaining: 14.4s\n",
      "818:\tlearn: 0.9991625\ttest: 0.9318463\tbest: 0.9318463 (746)\ttotal: 1m 4s\tremaining: 14.3s\n",
      "819:\tlearn: 0.9991625\ttest: 0.9306931\tbest: 0.9318463 (746)\ttotal: 1m 4s\tremaining: 14.2s\n",
      "820:\tlearn: 0.9991625\ttest: 0.9306931\tbest: 0.9318463 (746)\ttotal: 1m 4s\tremaining: 14.2s\n",
      "821:\tlearn: 0.9991625\ttest: 0.9306931\tbest: 0.9318463 (746)\ttotal: 1m 4s\tremaining: 14.1s\n",
      "822:\tlearn: 0.9991625\ttest: 0.9306931\tbest: 0.9318463 (746)\ttotal: 1m 5s\tremaining: 14s\n",
      "823:\tlearn: 0.9991625\ttest: 0.9306931\tbest: 0.9318463 (746)\ttotal: 1m 5s\tremaining: 13.9s\n",
      "824:\tlearn: 0.9991625\ttest: 0.9306931\tbest: 0.9318463 (746)\ttotal: 1m 5s\tremaining: 13.8s\n",
      "825:\tlearn: 0.9991625\ttest: 0.9318463\tbest: 0.9318463 (746)\ttotal: 1m 5s\tremaining: 13.8s\n",
      "826:\tlearn: 0.9991625\ttest: 0.9318463\tbest: 0.9318463 (746)\ttotal: 1m 5s\tremaining: 13.7s\n",
      "827:\tlearn: 0.9991625\ttest: 0.9318463\tbest: 0.9318463 (746)\ttotal: 1m 5s\tremaining: 13.6s\n",
      "828:\tlearn: 0.9991625\ttest: 0.9318463\tbest: 0.9318463 (746)\ttotal: 1m 5s\tremaining: 13.5s\n",
      "829:\tlearn: 0.9991625\ttest: 0.9318463\tbest: 0.9318463 (746)\ttotal: 1m 5s\tremaining: 13.5s\n",
      "830:\tlearn: 0.9991625\ttest: 0.9318463\tbest: 0.9318463 (746)\ttotal: 1m 5s\tremaining: 13.4s\n",
      "831:\tlearn: 0.9991625\ttest: 0.9318463\tbest: 0.9318463 (746)\ttotal: 1m 5s\tremaining: 13.3s\n",
      "832:\tlearn: 0.9991625\ttest: 0.9318463\tbest: 0.9318463 (746)\ttotal: 1m 5s\tremaining: 13.2s\n",
      "833:\tlearn: 0.9991625\ttest: 0.9318463\tbest: 0.9318463 (746)\ttotal: 1m 5s\tremaining: 13.1s\n",
      "834:\tlearn: 0.9991625\ttest: 0.9330025\tbest: 0.9330025 (834)\ttotal: 1m 6s\tremaining: 13.1s\n",
      "835:\tlearn: 0.9991625\ttest: 0.9330025\tbest: 0.9330025 (834)\ttotal: 1m 6s\tremaining: 13s\n",
      "836:\tlearn: 0.9991625\ttest: 0.9330025\tbest: 0.9330025 (834)\ttotal: 1m 6s\tremaining: 12.9s\n",
      "837:\tlearn: 0.9991625\ttest: 0.9330025\tbest: 0.9330025 (834)\ttotal: 1m 6s\tremaining: 12.8s\n",
      "838:\tlearn: 0.9991625\ttest: 0.9330025\tbest: 0.9330025 (834)\ttotal: 1m 6s\tremaining: 12.7s\n",
      "839:\tlearn: 0.9991625\ttest: 0.9330025\tbest: 0.9330025 (834)\ttotal: 1m 6s\tremaining: 12.7s\n",
      "840:\tlearn: 0.9991625\ttest: 0.9330025\tbest: 0.9330025 (834)\ttotal: 1m 6s\tremaining: 12.6s\n",
      "841:\tlearn: 0.9991625\ttest: 0.9330025\tbest: 0.9330025 (834)\ttotal: 1m 6s\tremaining: 12.5s\n",
      "842:\tlearn: 0.9991625\ttest: 0.9330025\tbest: 0.9330025 (834)\ttotal: 1m 6s\tremaining: 12.4s\n",
      "843:\tlearn: 0.9991625\ttest: 0.9330025\tbest: 0.9330025 (834)\ttotal: 1m 6s\tremaining: 12.3s\n",
      "844:\tlearn: 0.9991625\ttest: 0.9330025\tbest: 0.9330025 (834)\ttotal: 1m 6s\tremaining: 12.3s\n",
      "845:\tlearn: 0.9991625\ttest: 0.9330025\tbest: 0.9330025 (834)\ttotal: 1m 6s\tremaining: 12.2s\n",
      "846:\tlearn: 0.9991625\ttest: 0.9330025\tbest: 0.9330025 (834)\ttotal: 1m 7s\tremaining: 12.1s\n",
      "847:\tlearn: 0.9991625\ttest: 0.9330025\tbest: 0.9330025 (834)\ttotal: 1m 7s\tremaining: 12s\n",
      "848:\tlearn: 0.9991625\ttest: 0.9330025\tbest: 0.9330025 (834)\ttotal: 1m 7s\tremaining: 12s\n",
      "849:\tlearn: 0.9991625\ttest: 0.9330025\tbest: 0.9330025 (834)\ttotal: 1m 7s\tremaining: 11.9s\n",
      "850:\tlearn: 0.9991625\ttest: 0.9330025\tbest: 0.9330025 (834)\ttotal: 1m 7s\tremaining: 11.8s\n",
      "851:\tlearn: 0.9991625\ttest: 0.9330025\tbest: 0.9330025 (834)\ttotal: 1m 7s\tremaining: 11.7s\n",
      "852:\tlearn: 0.9991625\ttest: 0.9330025\tbest: 0.9330025 (834)\ttotal: 1m 7s\tremaining: 11.6s\n",
      "853:\tlearn: 0.9991625\ttest: 0.9330025\tbest: 0.9330025 (834)\ttotal: 1m 7s\tremaining: 11.6s\n",
      "854:\tlearn: 0.9991625\ttest: 0.9341615\tbest: 0.9341615 (854)\ttotal: 1m 7s\tremaining: 11.5s\n",
      "855:\tlearn: 0.9991625\ttest: 0.9341615\tbest: 0.9341615 (854)\ttotal: 1m 7s\tremaining: 11.4s\n",
      "856:\tlearn: 0.9991625\ttest: 0.9341615\tbest: 0.9341615 (854)\ttotal: 1m 7s\tremaining: 11.3s\n",
      "857:\tlearn: 0.9991625\ttest: 0.9341615\tbest: 0.9341615 (854)\ttotal: 1m 7s\tremaining: 11.2s\n",
      "858:\tlearn: 0.9991625\ttest: 0.9341615\tbest: 0.9341615 (854)\ttotal: 1m 8s\tremaining: 11.2s\n",
      "859:\tlearn: 0.9991625\ttest: 0.9341615\tbest: 0.9341615 (854)\ttotal: 1m 8s\tremaining: 11.1s\n",
      "860:\tlearn: 0.9991625\ttest: 0.9341615\tbest: 0.9341615 (854)\ttotal: 1m 8s\tremaining: 11s\n",
      "861:\tlearn: 0.9991625\ttest: 0.9341615\tbest: 0.9341615 (854)\ttotal: 1m 8s\tremaining: 10.9s\n",
      "862:\tlearn: 0.9991625\ttest: 0.9330025\tbest: 0.9341615 (854)\ttotal: 1m 8s\tremaining: 10.8s\n",
      "863:\tlearn: 0.9991625\ttest: 0.9318463\tbest: 0.9341615 (854)\ttotal: 1m 8s\tremaining: 10.8s\n",
      "864:\tlearn: 0.9991625\ttest: 0.9318463\tbest: 0.9341615 (854)\ttotal: 1m 8s\tremaining: 10.7s\n",
      "865:\tlearn: 0.9991625\ttest: 0.9318463\tbest: 0.9341615 (854)\ttotal: 1m 8s\tremaining: 10.6s\n",
      "866:\tlearn: 0.9991625\ttest: 0.9318463\tbest: 0.9341615 (854)\ttotal: 1m 8s\tremaining: 10.5s\n",
      "867:\tlearn: 0.9991625\ttest: 0.9306931\tbest: 0.9341615 (854)\ttotal: 1m 8s\tremaining: 10.4s\n",
      "868:\tlearn: 0.9991625\ttest: 0.9306931\tbest: 0.9341615 (854)\ttotal: 1m 8s\tremaining: 10.4s\n",
      "869:\tlearn: 0.9991625\ttest: 0.9306931\tbest: 0.9341615 (854)\ttotal: 1m 8s\tremaining: 10.3s\n",
      "870:\tlearn: 0.9991625\ttest: 0.9306931\tbest: 0.9341615 (854)\ttotal: 1m 8s\tremaining: 10.2s\n",
      "871:\tlearn: 0.9991625\ttest: 0.9306931\tbest: 0.9341615 (854)\ttotal: 1m 9s\tremaining: 10.1s\n",
      "872:\tlearn: 0.9991625\ttest: 0.9306931\tbest: 0.9341615 (854)\ttotal: 1m 9s\tremaining: 10.1s\n",
      "873:\tlearn: 0.9991625\ttest: 0.9318463\tbest: 0.9341615 (854)\ttotal: 1m 9s\tremaining: 9.97s\n",
      "874:\tlearn: 0.9991625\ttest: 0.9318463\tbest: 0.9341615 (854)\ttotal: 1m 9s\tremaining: 9.9s\n",
      "875:\tlearn: 0.9991625\ttest: 0.9330025\tbest: 0.9341615 (854)\ttotal: 1m 9s\tremaining: 9.82s\n",
      "876:\tlearn: 0.9991625\ttest: 0.9330025\tbest: 0.9341615 (854)\ttotal: 1m 9s\tremaining: 9.74s\n",
      "877:\tlearn: 0.9991625\ttest: 0.9341615\tbest: 0.9341615 (854)\ttotal: 1m 9s\tremaining: 9.66s\n",
      "878:\tlearn: 0.9991625\ttest: 0.9341615\tbest: 0.9341615 (854)\ttotal: 1m 9s\tremaining: 9.58s\n",
      "879:\tlearn: 0.9991625\ttest: 0.9341615\tbest: 0.9341615 (854)\ttotal: 1m 9s\tremaining: 9.5s\n",
      "880:\tlearn: 0.9991625\ttest: 0.9341615\tbest: 0.9341615 (854)\ttotal: 1m 9s\tremaining: 9.43s\n",
      "881:\tlearn: 0.9991625\ttest: 0.9341615\tbest: 0.9341615 (854)\ttotal: 1m 9s\tremaining: 9.35s\n",
      "882:\tlearn: 0.9991625\ttest: 0.9341615\tbest: 0.9341615 (854)\ttotal: 1m 9s\tremaining: 9.27s\n",
      "883:\tlearn: 0.9991625\ttest: 0.9341615\tbest: 0.9341615 (854)\ttotal: 1m 10s\tremaining: 9.19s\n",
      "884:\tlearn: 0.9991625\ttest: 0.9341615\tbest: 0.9341615 (854)\ttotal: 1m 10s\tremaining: 9.11s\n",
      "885:\tlearn: 0.9991625\ttest: 0.9341615\tbest: 0.9341615 (854)\ttotal: 1m 10s\tremaining: 9.03s\n",
      "886:\tlearn: 0.9991625\ttest: 0.9341615\tbest: 0.9341615 (854)\ttotal: 1m 10s\tremaining: 8.95s\n",
      "887:\tlearn: 0.9991625\ttest: 0.9341615\tbest: 0.9341615 (854)\ttotal: 1m 10s\tremaining: 8.87s\n",
      "888:\tlearn: 0.9991625\ttest: 0.9341615\tbest: 0.9341615 (854)\ttotal: 1m 10s\tremaining: 8.79s\n",
      "889:\tlearn: 0.9991625\ttest: 0.9341615\tbest: 0.9341615 (854)\ttotal: 1m 10s\tremaining: 8.71s\n",
      "890:\tlearn: 0.9991625\ttest: 0.9341615\tbest: 0.9341615 (854)\ttotal: 1m 10s\tremaining: 8.63s\n",
      "891:\tlearn: 0.9991625\ttest: 0.9341615\tbest: 0.9341615 (854)\ttotal: 1m 10s\tremaining: 8.56s\n",
      "892:\tlearn: 0.9991625\ttest: 0.9341615\tbest: 0.9341615 (854)\ttotal: 1m 10s\tremaining: 8.48s\n",
      "893:\tlearn: 0.9991625\ttest: 0.9341615\tbest: 0.9341615 (854)\ttotal: 1m 10s\tremaining: 8.4s\n",
      "894:\tlearn: 0.9991625\ttest: 0.9341615\tbest: 0.9341615 (854)\ttotal: 1m 10s\tremaining: 8.32s\n",
      "895:\tlearn: 0.9991625\ttest: 0.9341615\tbest: 0.9341615 (854)\ttotal: 1m 11s\tremaining: 8.24s\n",
      "896:\tlearn: 0.9991625\ttest: 0.9341615\tbest: 0.9341615 (854)\ttotal: 1m 11s\tremaining: 8.16s\n",
      "897:\tlearn: 0.9991625\ttest: 0.9341615\tbest: 0.9341615 (854)\ttotal: 1m 11s\tremaining: 8.08s\n",
      "898:\tlearn: 0.9991625\ttest: 0.9341615\tbest: 0.9341615 (854)\ttotal: 1m 11s\tremaining: 8.01s\n",
      "899:\tlearn: 0.9991625\ttest: 0.9341615\tbest: 0.9341615 (854)\ttotal: 1m 11s\tremaining: 7.92s\n",
      "900:\tlearn: 0.9991625\ttest: 0.9341615\tbest: 0.9341615 (854)\ttotal: 1m 11s\tremaining: 7.84s\n",
      "901:\tlearn: 0.9991625\ttest: 0.9330025\tbest: 0.9341615 (854)\ttotal: 1m 11s\tremaining: 7.77s\n",
      "902:\tlearn: 0.9991625\ttest: 0.9330025\tbest: 0.9341615 (854)\ttotal: 1m 11s\tremaining: 7.69s\n",
      "903:\tlearn: 0.9991625\ttest: 0.9330025\tbest: 0.9341615 (854)\ttotal: 1m 11s\tremaining: 7.61s\n",
      "904:\tlearn: 0.9991625\ttest: 0.9330025\tbest: 0.9341615 (854)\ttotal: 1m 11s\tremaining: 7.53s\n",
      "905:\tlearn: 0.9991625\ttest: 0.9330025\tbest: 0.9341615 (854)\ttotal: 1m 11s\tremaining: 7.45s\n",
      "906:\tlearn: 0.9991625\ttest: 0.9330025\tbest: 0.9341615 (854)\ttotal: 1m 11s\tremaining: 7.37s\n",
      "907:\tlearn: 0.9991625\ttest: 0.9330025\tbest: 0.9341615 (854)\ttotal: 1m 11s\tremaining: 7.29s\n",
      "908:\tlearn: 0.9991625\ttest: 0.9330025\tbest: 0.9341615 (854)\ttotal: 1m 12s\tremaining: 7.21s\n",
      "909:\tlearn: 0.9991625\ttest: 0.9330025\tbest: 0.9341615 (854)\ttotal: 1m 12s\tremaining: 7.13s\n",
      "910:\tlearn: 0.9991625\ttest: 0.9330025\tbest: 0.9341615 (854)\ttotal: 1m 12s\tremaining: 7.05s\n",
      "911:\tlearn: 0.9991625\ttest: 0.9330025\tbest: 0.9341615 (854)\ttotal: 1m 12s\tremaining: 6.98s\n",
      "912:\tlearn: 0.9991625\ttest: 0.9330025\tbest: 0.9341615 (854)\ttotal: 1m 12s\tremaining: 6.9s\n",
      "913:\tlearn: 0.9991625\ttest: 0.9330025\tbest: 0.9341615 (854)\ttotal: 1m 12s\tremaining: 6.82s\n",
      "914:\tlearn: 0.9991625\ttest: 0.9330025\tbest: 0.9341615 (854)\ttotal: 1m 12s\tremaining: 6.74s\n",
      "915:\tlearn: 0.9991625\ttest: 0.9330025\tbest: 0.9341615 (854)\ttotal: 1m 12s\tremaining: 6.66s\n",
      "916:\tlearn: 0.9991625\ttest: 0.9330025\tbest: 0.9341615 (854)\ttotal: 1m 12s\tremaining: 6.58s\n",
      "917:\tlearn: 0.9991625\ttest: 0.9330025\tbest: 0.9341615 (854)\ttotal: 1m 12s\tremaining: 6.5s\n",
      "918:\tlearn: 0.9991625\ttest: 0.9330025\tbest: 0.9341615 (854)\ttotal: 1m 12s\tremaining: 6.42s\n",
      "919:\tlearn: 0.9991625\ttest: 0.9330025\tbest: 0.9341615 (854)\ttotal: 1m 12s\tremaining: 6.34s\n",
      "920:\tlearn: 0.9991625\ttest: 0.9330025\tbest: 0.9341615 (854)\ttotal: 1m 13s\tremaining: 6.26s\n",
      "921:\tlearn: 0.9991625\ttest: 0.9330025\tbest: 0.9341615 (854)\ttotal: 1m 13s\tremaining: 6.18s\n",
      "922:\tlearn: 0.9991625\ttest: 0.9330025\tbest: 0.9341615 (854)\ttotal: 1m 13s\tremaining: 6.11s\n",
      "923:\tlearn: 0.9991625\ttest: 0.9330025\tbest: 0.9341615 (854)\ttotal: 1m 13s\tremaining: 6.03s\n",
      "924:\tlearn: 0.9991625\ttest: 0.9330025\tbest: 0.9341615 (854)\ttotal: 1m 13s\tremaining: 5.95s\n",
      "925:\tlearn: 0.9991625\ttest: 0.9330025\tbest: 0.9341615 (854)\ttotal: 1m 13s\tremaining: 5.87s\n",
      "926:\tlearn: 0.9991625\ttest: 0.9341615\tbest: 0.9341615 (854)\ttotal: 1m 13s\tremaining: 5.79s\n",
      "927:\tlearn: 0.9991625\ttest: 0.9341615\tbest: 0.9341615 (854)\ttotal: 1m 13s\tremaining: 5.71s\n",
      "928:\tlearn: 0.9991625\ttest: 0.9341615\tbest: 0.9341615 (854)\ttotal: 1m 13s\tremaining: 5.63s\n",
      "929:\tlearn: 0.9991625\ttest: 0.9341615\tbest: 0.9341615 (854)\ttotal: 1m 13s\tremaining: 5.55s\n",
      "930:\tlearn: 0.9991625\ttest: 0.9341615\tbest: 0.9341615 (854)\ttotal: 1m 13s\tremaining: 5.47s\n",
      "931:\tlearn: 0.9991625\ttest: 0.9341615\tbest: 0.9341615 (854)\ttotal: 1m 13s\tremaining: 5.4s\n",
      "932:\tlearn: 0.9991625\ttest: 0.9341615\tbest: 0.9341615 (854)\ttotal: 1m 14s\tremaining: 5.32s\n",
      "933:\tlearn: 0.9991625\ttest: 0.9341615\tbest: 0.9341615 (854)\ttotal: 1m 14s\tremaining: 5.24s\n",
      "934:\tlearn: 0.9991625\ttest: 0.9341615\tbest: 0.9341615 (854)\ttotal: 1m 14s\tremaining: 5.16s\n",
      "935:\tlearn: 0.9991625\ttest: 0.9341615\tbest: 0.9341615 (854)\ttotal: 1m 14s\tremaining: 5.08s\n",
      "936:\tlearn: 0.9991625\ttest: 0.9341615\tbest: 0.9341615 (854)\ttotal: 1m 14s\tremaining: 5s\n",
      "937:\tlearn: 0.9991625\ttest: 0.9341615\tbest: 0.9341615 (854)\ttotal: 1m 14s\tremaining: 4.92s\n",
      "938:\tlearn: 0.9991625\ttest: 0.9341615\tbest: 0.9341615 (854)\ttotal: 1m 14s\tremaining: 4.84s\n",
      "939:\tlearn: 0.9991625\ttest: 0.9341615\tbest: 0.9341615 (854)\ttotal: 1m 14s\tremaining: 4.76s\n",
      "940:\tlearn: 0.9991625\ttest: 0.9341615\tbest: 0.9341615 (854)\ttotal: 1m 14s\tremaining: 4.68s\n",
      "941:\tlearn: 0.9991625\ttest: 0.9353234\tbest: 0.9353234 (941)\ttotal: 1m 14s\tremaining: 4.6s\n",
      "942:\tlearn: 0.9991625\ttest: 0.9353234\tbest: 0.9353234 (941)\ttotal: 1m 14s\tremaining: 4.52s\n",
      "943:\tlearn: 0.9991625\ttest: 0.9353234\tbest: 0.9353234 (941)\ttotal: 1m 14s\tremaining: 4.44s\n",
      "944:\tlearn: 0.9991625\ttest: 0.9353234\tbest: 0.9353234 (941)\ttotal: 1m 15s\tremaining: 4.37s\n",
      "945:\tlearn: 0.9991625\ttest: 0.9353234\tbest: 0.9353234 (941)\ttotal: 1m 15s\tremaining: 4.29s\n",
      "946:\tlearn: 0.9991625\ttest: 0.9353234\tbest: 0.9353234 (941)\ttotal: 1m 15s\tremaining: 4.21s\n",
      "947:\tlearn: 0.9991625\ttest: 0.9353234\tbest: 0.9353234 (941)\ttotal: 1m 15s\tremaining: 4.13s\n",
      "948:\tlearn: 0.9991625\ttest: 0.9353234\tbest: 0.9353234 (941)\ttotal: 1m 15s\tremaining: 4.05s\n",
      "949:\tlearn: 0.9991625\ttest: 0.9353234\tbest: 0.9353234 (941)\ttotal: 1m 15s\tremaining: 3.97s\n",
      "950:\tlearn: 0.9991625\ttest: 0.9353234\tbest: 0.9353234 (941)\ttotal: 1m 15s\tremaining: 3.89s\n",
      "951:\tlearn: 0.9991625\ttest: 0.9353234\tbest: 0.9353234 (941)\ttotal: 1m 15s\tremaining: 3.81s\n",
      "952:\tlearn: 0.9991625\ttest: 0.9353234\tbest: 0.9353234 (941)\ttotal: 1m 15s\tremaining: 3.73s\n",
      "953:\tlearn: 0.9991625\ttest: 0.9353234\tbest: 0.9353234 (941)\ttotal: 1m 15s\tremaining: 3.65s\n",
      "954:\tlearn: 0.9991625\ttest: 0.9341615\tbest: 0.9353234 (941)\ttotal: 1m 15s\tremaining: 3.57s\n",
      "955:\tlearn: 0.9991625\ttest: 0.9341615\tbest: 0.9353234 (941)\ttotal: 1m 15s\tremaining: 3.49s\n",
      "956:\tlearn: 0.9991625\ttest: 0.9341615\tbest: 0.9353234 (941)\ttotal: 1m 16s\tremaining: 3.42s\n",
      "957:\tlearn: 0.9991625\ttest: 0.9341615\tbest: 0.9353234 (941)\ttotal: 1m 16s\tremaining: 3.34s\n",
      "958:\tlearn: 0.9991625\ttest: 0.9341615\tbest: 0.9353234 (941)\ttotal: 1m 16s\tremaining: 3.26s\n",
      "959:\tlearn: 0.9991625\ttest: 0.9341615\tbest: 0.9353234 (941)\ttotal: 1m 16s\tremaining: 3.18s\n",
      "960:\tlearn: 0.9991625\ttest: 0.9341615\tbest: 0.9353234 (941)\ttotal: 1m 16s\tremaining: 3.1s\n",
      "961:\tlearn: 0.9991625\ttest: 0.9341615\tbest: 0.9353234 (941)\ttotal: 1m 16s\tremaining: 3.02s\n",
      "962:\tlearn: 0.9991625\ttest: 0.9341615\tbest: 0.9353234 (941)\ttotal: 1m 16s\tremaining: 2.94s\n",
      "963:\tlearn: 0.9991625\ttest: 0.9341615\tbest: 0.9353234 (941)\ttotal: 1m 16s\tremaining: 2.86s\n",
      "964:\tlearn: 0.9991625\ttest: 0.9341615\tbest: 0.9353234 (941)\ttotal: 1m 16s\tremaining: 2.78s\n",
      "965:\tlearn: 0.9991625\ttest: 0.9341615\tbest: 0.9353234 (941)\ttotal: 1m 16s\tremaining: 2.7s\n",
      "966:\tlearn: 0.9991625\ttest: 0.9341615\tbest: 0.9353234 (941)\ttotal: 1m 16s\tremaining: 2.62s\n",
      "967:\tlearn: 0.9991625\ttest: 0.9341615\tbest: 0.9353234 (941)\ttotal: 1m 16s\tremaining: 2.54s\n",
      "968:\tlearn: 0.9991625\ttest: 0.9341615\tbest: 0.9353234 (941)\ttotal: 1m 17s\tremaining: 2.46s\n",
      "969:\tlearn: 0.9991625\ttest: 0.9341615\tbest: 0.9353234 (941)\ttotal: 1m 17s\tremaining: 2.38s\n",
      "970:\tlearn: 0.9991625\ttest: 0.9341615\tbest: 0.9353234 (941)\ttotal: 1m 17s\tremaining: 2.31s\n",
      "971:\tlearn: 0.9991625\ttest: 0.9341615\tbest: 0.9353234 (941)\ttotal: 1m 17s\tremaining: 2.23s\n",
      "972:\tlearn: 0.9991625\ttest: 0.9341615\tbest: 0.9353234 (941)\ttotal: 1m 17s\tremaining: 2.15s\n",
      "973:\tlearn: 0.9991625\ttest: 0.9341615\tbest: 0.9353234 (941)\ttotal: 1m 17s\tremaining: 2.07s\n",
      "974:\tlearn: 0.9991625\ttest: 0.9341615\tbest: 0.9353234 (941)\ttotal: 1m 17s\tremaining: 1.99s\n",
      "975:\tlearn: 0.9991625\ttest: 0.9341615\tbest: 0.9353234 (941)\ttotal: 1m 17s\tremaining: 1.91s\n",
      "976:\tlearn: 0.9991625\ttest: 0.9341615\tbest: 0.9353234 (941)\ttotal: 1m 17s\tremaining: 1.83s\n",
      "977:\tlearn: 0.9991625\ttest: 0.9353234\tbest: 0.9353234 (941)\ttotal: 1m 17s\tremaining: 1.75s\n",
      "978:\tlearn: 0.9991625\ttest: 0.9353234\tbest: 0.9353234 (941)\ttotal: 1m 17s\tremaining: 1.67s\n",
      "979:\tlearn: 0.9991625\ttest: 0.9353234\tbest: 0.9353234 (941)\ttotal: 1m 17s\tremaining: 1.59s\n",
      "980:\tlearn: 0.9991625\ttest: 0.9353234\tbest: 0.9353234 (941)\ttotal: 1m 18s\tremaining: 1.51s\n",
      "981:\tlearn: 0.9991625\ttest: 0.9353234\tbest: 0.9353234 (941)\ttotal: 1m 18s\tremaining: 1.43s\n",
      "982:\tlearn: 0.9991625\ttest: 0.9353234\tbest: 0.9353234 (941)\ttotal: 1m 18s\tremaining: 1.35s\n",
      "983:\tlearn: 0.9991625\ttest: 0.9341615\tbest: 0.9353234 (941)\ttotal: 1m 18s\tremaining: 1.27s\n",
      "984:\tlearn: 0.9991625\ttest: 0.9341615\tbest: 0.9353234 (941)\ttotal: 1m 18s\tremaining: 1.19s\n",
      "985:\tlearn: 0.9991625\ttest: 0.9341615\tbest: 0.9353234 (941)\ttotal: 1m 18s\tremaining: 1.11s\n",
      "986:\tlearn: 0.9991625\ttest: 0.9341615\tbest: 0.9353234 (941)\ttotal: 1m 18s\tremaining: 1.03s\n",
      "987:\tlearn: 0.9991625\ttest: 0.9341615\tbest: 0.9353234 (941)\ttotal: 1m 18s\tremaining: 955ms\n",
      "988:\tlearn: 0.9991625\ttest: 0.9341615\tbest: 0.9353234 (941)\ttotal: 1m 18s\tremaining: 875ms\n",
      "989:\tlearn: 0.9991625\ttest: 0.9341615\tbest: 0.9353234 (941)\ttotal: 1m 18s\tremaining: 796ms\n",
      "990:\tlearn: 0.9991625\ttest: 0.9341615\tbest: 0.9353234 (941)\ttotal: 1m 18s\tremaining: 716ms\n",
      "991:\tlearn: 0.9991625\ttest: 0.9330025\tbest: 0.9353234 (941)\ttotal: 1m 18s\tremaining: 637ms\n",
      "992:\tlearn: 0.9991625\ttest: 0.9330025\tbest: 0.9353234 (941)\ttotal: 1m 19s\tremaining: 557ms\n",
      "993:\tlearn: 0.9991625\ttest: 0.9330025\tbest: 0.9353234 (941)\ttotal: 1m 19s\tremaining: 477ms\n",
      "994:\tlearn: 0.9991625\ttest: 0.9330025\tbest: 0.9353234 (941)\ttotal: 1m 19s\tremaining: 398ms\n",
      "995:\tlearn: 0.9991625\ttest: 0.9330025\tbest: 0.9353234 (941)\ttotal: 1m 19s\tremaining: 318ms\n",
      "996:\tlearn: 0.9991625\ttest: 0.9330025\tbest: 0.9353234 (941)\ttotal: 1m 19s\tremaining: 239ms\n",
      "997:\tlearn: 0.9991625\ttest: 0.9330025\tbest: 0.9353234 (941)\ttotal: 1m 19s\tremaining: 159ms\n",
      "998:\tlearn: 0.9991625\ttest: 0.9330025\tbest: 0.9353234 (941)\ttotal: 1m 19s\tremaining: 79.6ms\n",
      "999:\tlearn: 0.9991625\ttest: 0.9341615\tbest: 0.9353234 (941)\ttotal: 1m 19s\tremaining: 0us\n",
      "\n",
      "bestTest = 0.9353233831\n",
      "bestIteration = 941\n",
      "\n",
      "Shrink model to first 942 iterations.\n"
     ]
    },
    {
     "data": {
      "text/plain": [
       "<catboost.core.CatBoostClassifier at 0x17ba8cc1880>"
      ]
     },
     "execution_count": 145,
     "metadata": {},
     "output_type": "execute_result"
    }
   ],
   "source": [
    "model_cb = CatBoostClassifier(iterations=1000, \n",
    "                              random_state = 12345, \n",
    "                              eval_metric=\"F1\")\n",
    "model_cb.fit(features_train, target_train, plot=True, \n",
    "             eval_set=(features_valid, target_valid))"
   ]
  },
  {
   "cell_type": "markdown",
   "id": "9adde440",
   "metadata": {},
   "source": [
    "1000 итераций вполне хватает, потому-что за последние 600 итераций целевая метрика улучшилась всего на 0.005"
   ]
  },
  {
   "cell_type": "code",
   "execution_count": 147,
   "id": "ec64bae0",
   "metadata": {
    "ExecuteTime": {
     "end_time": "2022-06-12T13:38:25.011945Z",
     "start_time": "2022-06-12T13:38:24.936099Z"
    }
   },
   "outputs": [
    {
     "data": {
      "text/plain": [
       "0.9501312335958005"
      ]
     },
     "execution_count": 147,
     "metadata": {},
     "output_type": "execute_result"
    }
   ],
   "source": [
    "f1_score(target_test, model_cb.predict(features_test))"
   ]
  },
  {
   "cell_type": "markdown",
   "id": "43a8c3ee",
   "metadata": {},
   "source": [
    "4.3 процента сложно назвать разностью, вызванной случайностью. Случайный лес показал лучший результат в сравнении. Именно на его основе мы будем сравнивать контрольный и экспериментальный способ."
   ]
  },
  {
   "cell_type": "markdown",
   "id": "6d32d6cd",
   "metadata": {},
   "source": [
    "# Контрольное измерение"
   ]
  },
  {
   "cell_type": "code",
   "execution_count": 148,
   "id": "ab05d9e9",
   "metadata": {
    "ExecuteTime": {
     "end_time": "2022-06-12T13:46:50.742244Z",
     "start_time": "2022-06-12T13:46:50.700529Z"
    }
   },
   "outputs": [
    {
     "data": {
      "text/html": [
       "<div>\n",
       "<style scoped>\n",
       "    .dataframe tbody tr th:only-of-type {\n",
       "        vertical-align: middle;\n",
       "    }\n",
       "\n",
       "    .dataframe tbody tr th {\n",
       "        vertical-align: top;\n",
       "    }\n",
       "\n",
       "    .dataframe thead th {\n",
       "        text-align: right;\n",
       "    }\n",
       "</style>\n",
       "<table border=\"1\" class=\"dataframe\">\n",
       "  <thead>\n",
       "    <tr style=\"text-align: right;\">\n",
       "      <th></th>\n",
       "      <th>text</th>\n",
       "      <th>target</th>\n",
       "    </tr>\n",
       "  </thead>\n",
       "  <tbody>\n",
       "    <tr>\n",
       "      <th>0</th>\n",
       "      <td>Маңғыстау ауданының бесінші разъезд аумағында ...</td>\n",
       "      <td>0</td>\n",
       "    </tr>\n",
       "    <tr>\n",
       "      <th>1</th>\n",
       "      <td>Деп ойлап қалың ойда жатыр едім Ұшып жүріп жыр...</td>\n",
       "      <td>1</td>\n",
       "    </tr>\n",
       "    <tr>\n",
       "      <th>2</th>\n",
       "      <td>Бір ғалымды көрсеңіз Жан аға! Шықтым өлімнен</td>\n",
       "      <td>1</td>\n",
       "    </tr>\n",
       "    <tr>\n",
       "      <th>3</th>\n",
       "      <td>Алматы тұрғындары Үлкен Алматы өзенінің қызыл ...</td>\n",
       "      <td>0</td>\n",
       "    </tr>\n",
       "    <tr>\n",
       "      <th>4</th>\n",
       "      <td>Азаппен жүріп жарылды ау беті қолдары Дүниенің...</td>\n",
       "      <td>1</td>\n",
       "    </tr>\n",
       "  </tbody>\n",
       "</table>\n",
       "</div>"
      ],
      "text/plain": [
       "                                                text  target\n",
       "0  Маңғыстау ауданының бесінші разъезд аумағында ...       0\n",
       "1  Деп ойлап қалың ойда жатыр едім Ұшып жүріп жыр...       1\n",
       "2       Бір ғалымды көрсеңіз Жан аға! Шықтым өлімнен       1\n",
       "3  Алматы тұрғындары Үлкен Алматы өзенінің қызыл ...       0\n",
       "4  Азаппен жүріп жарылды ау беті қолдары Дүниенің...       1"
      ]
     },
     "metadata": {},
     "output_type": "display_data"
    }
   ],
   "source": [
    "data_ctrl = pd.concat([df_poems, df_news])\n",
    "data_ctrl = data_ctrl.sample(frac=1, random_state=12345)\n",
    "data_ctrl = data_ctrl.reset_index(drop = True) # обратите внимание, в этом случае стемматизаия не проводится\n",
    "display(data_ctrl.head())"
   ]
  },
  {
   "cell_type": "code",
   "execution_count": 149,
   "id": "7c838b11",
   "metadata": {
    "ExecuteTime": {
     "end_time": "2022-06-12T13:46:56.335354Z",
     "start_time": "2022-06-12T13:46:56.027511Z"
    }
   },
   "outputs": [
    {
     "name": "stdout",
     "output_type": "stream",
     "text": [
      "Размер матрицы: (6888, 17630)\n"
     ]
    }
   ],
   "source": [
    "count_tf_idf_ctrl = TfidfVectorizer()\n",
    "tf_idf_ctrl = count_tf_idf_ctrl.fit_transform(data_ctrl.text)\n",
    "print(\"Размер матрицы:\", tf_idf_ctrl.shape)"
   ]
  },
  {
   "cell_type": "code",
   "execution_count": 150,
   "id": "edb3fabf",
   "metadata": {
    "ExecuteTime": {
     "end_time": "2022-06-12T13:47:42.892362Z",
     "start_time": "2022-06-12T13:47:42.871873Z"
    }
   },
   "outputs": [
    {
     "name": "stdout",
     "output_type": "stream",
     "text": [
      "4132\n",
      "1378\n",
      "1378\n"
     ]
    }
   ],
   "source": [
    "features_train_ctrl, features_temp_ctrl, target_train_ctrl, target_temp_ctrl = train_test_split(tf_idf_ctrl, data_ctrl.target, \n",
    "                                                    test_size=0.4, random_state=12345)\n",
    "features_valid_ctrl, features_test_ctrl, target_valid_ctrl, target_test_ctrl = train_test_split(features_temp_ctrl, target_temp_ctrl, \n",
    "                                                    test_size=0.5, random_state=12345)\n",
    "print(features_train_ctrl.shape[0])\n",
    "print(features_valid_ctrl.shape[0])\n",
    "print(features_test_ctrl.shape[0])"
   ]
  },
  {
   "cell_type": "code",
   "execution_count": 151,
   "id": "247d95e0",
   "metadata": {
    "ExecuteTime": {
     "end_time": "2022-06-12T13:48:22.693788Z",
     "start_time": "2022-06-12T13:48:22.083671Z"
    }
   },
   "outputs": [
    {
     "data": {
      "text/plain": [
       "321"
      ]
     },
     "execution_count": 151,
     "metadata": {},
     "output_type": "execute_result"
    }
   ],
   "source": [
    "model_forest_ctrl = DecisionTreeClassifier(random_state = 12345)\n",
    "model_forest_ctrl.fit(features_train_ctrl, target_train_ctrl)\n",
    "model_forest_ctrl.tree_.max_depth"
   ]
  },
  {
   "cell_type": "code",
   "execution_count": 152,
   "id": "3ab9d69d",
   "metadata": {
    "ExecuteTime": {
     "end_time": "2022-06-12T15:02:49.639743Z",
     "start_time": "2022-06-12T13:50:37.479062Z"
    }
   },
   "outputs": [
    {
     "name": "stdout",
     "output_type": "stream",
     "text": [
      "Fitting 3 folds for each of 1024 candidates, totalling 3072 fits\n"
     ]
    },
    {
     "data": {
      "text/plain": [
       "{'bootstrap': False, 'max_depth': 281, 'n_estimators': 151}"
      ]
     },
     "execution_count": 152,
     "metadata": {},
     "output_type": "execute_result"
    }
   ],
   "source": [
    "param_grid_ctrl = {'n_estimators': np.arange(1, 152, 10),\n",
    "               'max_depth': np.arange(1, 321, 10),\n",
    "               'bootstrap': [True, False]}\n",
    "model_forest_ctrl = RandomForestClassifier(random_state = 12345)\n",
    "rf_Grid_ctrl = GridSearchCV(estimator = model_forest_ctrl, param_grid = param_grid_ctrl, cv = 3, verbose=2, n_jobs = 4, scoring = 'f1')\n",
    "rf_Grid_ctrl.fit(features_train_ctrl, target_train_ctrl)\n",
    "rf_Grid_ctrl.best_params_"
   ]
  },
  {
   "cell_type": "code",
   "execution_count": 154,
   "id": "41744663",
   "metadata": {
    "ExecuteTime": {
     "end_time": "2022-06-12T15:52:34.567815Z",
     "start_time": "2022-06-12T15:52:23.057172Z"
    }
   },
   "outputs": [
    {
     "data": {
      "text/plain": [
       "0.9720812182741118"
      ]
     },
     "execution_count": 154,
     "metadata": {},
     "output_type": "execute_result"
    }
   ],
   "source": [
    "model_forest_ctrl = RandomForestClassifier(random_state = 12345, max_depth = 281, n_estimators = 151)\n",
    "model_forest_ctrl.fit(features_train_ctrl, target_train_ctrl)\n",
    "f1_score(target_test_ctrl,model_forest_ctrl.predict(features_test_ctrl))"
   ]
  },
  {
   "cell_type": "markdown",
   "id": "cd686588",
   "metadata": {},
   "source": [
    "# Сравнение"
   ]
  },
  {
   "cell_type": "code",
   "execution_count": 162,
   "id": "d7ca23f3",
   "metadata": {
    "ExecuteTime": {
     "end_time": "2022-06-12T16:07:53.962705Z",
     "start_time": "2022-06-12T16:07:53.580784Z"
    }
   },
   "outputs": [
    {
     "name": "stdout",
     "output_type": "stream",
     "text": [
      "f1-score = 0.9931412894375856 с использованием нашего стеммера\n",
      "f1-score = 0.9720812182741118 без использования нашего стеммера\n"
     ]
    }
   ],
   "source": [
    "print(f'f1-score = {f1_score(target_test,model_forest.predict(features_test))} с использованием нашего стеммера')\n",
    "print(f'f1-score = {f1_score(target_test_ctrl,model_forest_ctrl.predict(features_test_ctrl))} без использования нашего стеммера')"
   ]
  },
  {
   "cell_type": "markdown",
   "id": "761184ee",
   "metadata": {},
   "source": [
    "пока рано делать какие - то выводы. давайте посмотрим на матрицу ошибок"
   ]
  },
  {
   "cell_type": "code",
   "execution_count": 187,
   "id": "f5d7f911",
   "metadata": {
    "ExecuteTime": {
     "end_time": "2022-06-12T16:28:19.394694Z",
     "start_time": "2022-06-12T16:28:18.340612Z"
    }
   },
   "outputs": [
    {
     "data": {
      "image/png": "[encoded data removed]",
      "text/plain": [
       "<Figure size 1152x648 with 4 Axes>"
      ]
     },
     "metadata": {
      "needs_background": "light"
     },
     "output_type": "display_data"
    }
   ],
   "source": [
    "plt.subplot(1, 2, 1)\n",
    "cf_matrix = confusion_matrix(target_test,model_forest.predict(features_test))\n",
    "group_names = ['True Neg','False Pos','False Neg','True Pos']\n",
    "group_counts = ['{0:0.0f}'.format(value) for value in\n",
    "                cf_matrix.flatten()]\n",
    "group_percentages = ['{0:.2%}'.format(value) for value in\n",
    "                     cf_matrix.flatten()/np.sum(cf_matrix)]\n",
    "labels = [f'{v1}\\n{v2}\\n{v3}' for v1, v2, v3 in\n",
    "          zip(group_names,group_counts,group_percentages)]\n",
    "labels = np.asarray(labels).reshape(2,2)\n",
    "sns.heatmap(cf_matrix, annot=labels, fmt='', cmap='Blues').set(title='KazStem()')\n",
    "rcParams['figure.figsize'] = 3,4\n",
    "\n",
    "plt.subplot(1, 2, 2)\n",
    "cf_matrix_ctrl = confusion_matrix(target_test_ctrl, model_forest_ctrl.predict(features_test_ctrl))\n",
    "group_names_ctrl = ['True Neg','False Pos','False Neg','True Pos']\n",
    "group_counts_ctrl = ['{0:0.0f}'.format(value) for value in\n",
    "                cf_matrix_ctrl.flatten()]\n",
    "group_percentages_ctrl = ['{0:.2%}'.format(value) for value in\n",
    "                     cf_matrix_ctrl.flatten()/np.sum(cf_matrix_ctrl)]\n",
    "labels_ctrl = [f'{v1}\\n{v2}\\n{v3}' for v1, v2, v3 in\n",
    "          zip(group_names_ctrl,group_counts_ctrl,group_percentages_ctrl)]\n",
    "labels_ctrl = np.asarray(labels_ctrl).reshape(2,2)\n",
    "sns.heatmap(cf_matrix_ctrl, annot=labels_ctrl, fmt='', cmap='Reds').set(title='Default')\n",
    "rcParams['figure.figsize'] = 3,4\n",
    "plt.show()"
   ]
  },
  {
   "cell_type": "markdown",
   "id": "37d0fe6e",
   "metadata": {},
   "source": [
    "Ладно, несмотря на то, наш вариант со стемматизацией лучше, матрица ошибок показывает, что эта разница, возможно, была вызвана особенностями данных. Экспериментальная модель только 1 раз не узнала новостной заголовок. для корректного сравнения нужно применить кросс-валидацию."
   ]
  },
  {
   "cell_type": "code",
   "execution_count": 190,
   "id": "cbe2ddc9",
   "metadata": {
    "ExecuteTime": {
     "end_time": "2022-06-12T16:46:31.323473Z",
     "start_time": "2022-06-12T16:44:57.776817Z"
    }
   },
   "outputs": [
    {
     "data": {
      "text/plain": [
       "array([0.98561151, 0.97316637, 0.97864769, 0.97864769, 0.97849462,\n",
       "       0.98566308, 0.97666068])"
      ]
     },
     "execution_count": 190,
     "metadata": {},
     "output_type": "execute_result"
    }
   ],
   "source": [
    "scores = cross_val_score(model_forest, tf_idf, data.target, cv=7, scoring = 'f1')\n",
    "scores"
   ]
  },
  {
   "cell_type": "code",
   "execution_count": 192,
   "id": "b4a78d88",
   "metadata": {
    "ExecuteTime": {
     "end_time": "2022-06-12T16:50:38.361071Z",
     "start_time": "2022-06-12T16:47:56.685705Z"
    }
   },
   "outputs": [
    {
     "data": {
      "text/plain": [
       "array([0.9751773 , 0.9751773 , 0.98207885, 0.97690941, 0.98743268,\n",
       "       0.9822695 , 0.97326203])"
      ]
     },
     "execution_count": 192,
     "metadata": {},
     "output_type": "execute_result"
    }
   ],
   "source": [
    "scores_ctrl = cross_val_score(model_forest_ctrl, tf_idf_ctrl, data_ctrl.target, cv=7, scoring = 'f1')\n",
    "scores_ctrl"
   ]
  },
  {
   "cell_type": "code",
   "execution_count": 195,
   "id": "b9fb7ea2",
   "metadata": {
    "ExecuteTime": {
     "end_time": "2022-06-12T16:54:59.861912Z",
     "start_time": "2022-06-12T16:54:59.843727Z"
    }
   },
   "outputs": [
    {
     "name": "stdout",
     "output_type": "stream",
     "text": [
      "среднее значение f1 на основе 7 измерений равно 0.9795559487559222 с использованием KazStem()\n",
      "среднее значение f1 на основе 7 измерений равно 0.9789010125009385 без использования KazStem()\n"
     ]
    }
   ],
   "source": [
    "print(f'среднее значение f1 на основе 7 измерений равно {scores.mean()} с использованием KazStem()')\n",
    "print(f'среднее значение f1 на основе 7 измерений равно {scores_ctrl.mean()} без использования KazStem()')"
   ]
  },
  {
   "cell_type": "markdown",
   "id": "1da6fbf9",
   "metadata": {},
   "source": [
    "# Вывод"
   ]
  },
  {
   "attachments": {
    "image-3.png": {
     "image/png": "[encoded data removed]"
    },
    "image-4.png": {
     "image/png": "[encoded data removed]"
    }
   },
   "cell_type": "markdown",
   "id": "b90220f0",
   "metadata": {},
   "source": [
    "Как мы можем заметить, после применения кросс-валидации, качество прогнозов у обоих подходов отличется на 0.0015, что очень мало. А разница в 0.02, которую мы видели на тестовой выборке можно обьяснить особенностями данных. Иными словами, стемматизация не улучшила качество прогноза. Но зато, при примерно равных значениях целевой метрики скорость обучения и предсказывания значительно выше. Для сравнения посмотрите на подбор гиперпараметров у случайного леса с помощью GridSearchCV ![image-3.png](attachment:image-3.png) ![image-4.png](attachment:image-4.png)"
   ]
  },
  {
   "cell_type": "markdown",
   "id": "30ff8f7d",
   "metadata": {},
   "source": [
    "Вычисления прошли в 2 раза быстрее, что неудивительно, ведь в случае без стемматизации ыбло пости в 1.5 раза больше признаков.\n",
    "В итоге можно сказать, что наш стеммер не позволяет лучше предсказывать значения, но определенно ускоряет вычисления в некоторых случаях"
   ]
  }
 ],
 "metadata": {
  "kernelspec": {
   "display_name": "Python 3 (ipykernel)",
   "language": "python",
   "name": "python3"
  },
  "language_info": {
   "codemirror_mode": {
    "name": "ipython",
    "version": 3
   },
   "file_extension": ".py",
   "mimetype": "text/x-python",
   "name": "python",
   "nbconvert_exporter": "python",
   "pygments_lexer": "ipython3",
   "version": "3.9.6"
  },
  "toc": {
   "base_numbering": 1,
   "nav_menu": {},
   "number_sections": true,
   "sideBar": true,
   "skip_h1_title": false,
   "title_cell": "Table of Contents",
   "title_sidebar": "Contents",
   "toc_cell": false,
   "toc_position": {},
   "toc_section_display": true,
   "toc_window_display": false
  }
 },
 "nbformat": 4,
 "nbformat_minor": 5
}
